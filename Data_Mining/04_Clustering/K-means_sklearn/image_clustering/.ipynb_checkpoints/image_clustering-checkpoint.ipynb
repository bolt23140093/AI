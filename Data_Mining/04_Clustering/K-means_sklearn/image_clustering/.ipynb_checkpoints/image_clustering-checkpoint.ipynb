{
 "cells": [
  {
   "cell_type": "code",
   "execution_count": 1,
   "metadata": {
    "executionInfo": {
     "elapsed": 330,
     "status": "ok",
     "timestamp": 1722503514817,
     "user": {
      "displayName": "Kaneshivo C",
      "userId": "16346198958151628227"
     },
     "user_tz": -480
    },
    "id": "hEcUWJJTLKma"
   },
   "outputs": [
    {
     "ename": "ImportError",
     "evalue": "cannot import name 'multi_worker_mirrored_2x1_cpu' from 'tensorflow.python.distribute.strategy_combinations' (C:\\Users\\joseph\\AppData\\Roaming\\Python\\Python38\\site-packages\\tensorflow\\python\\distribute\\strategy_combinations.py)",
     "output_type": "error",
     "traceback": [
      "\u001b[1;31m---------------------------------------------------------------------------\u001b[0m",
      "\u001b[1;31mImportError\u001b[0m                               Traceback (most recent call last)",
      "\u001b[1;32m<ipython-input-1-2503a690f675>\u001b[0m in \u001b[0;36m<module>\u001b[1;34m\u001b[0m\n\u001b[0;32m     11\u001b[0m \u001b[0mos\u001b[0m\u001b[1;33m.\u001b[0m\u001b[0menviron\u001b[0m\u001b[1;33m[\u001b[0m\u001b[1;34m'TF_FORCE_GPU_ALLOW_GROWTH'\u001b[0m\u001b[1;33m]\u001b[0m \u001b[1;33m=\u001b[0m \u001b[1;34m'true'\u001b[0m\u001b[1;33m\u001b[0m\u001b[1;33m\u001b[0m\u001b[0m\n\u001b[0;32m     12\u001b[0m \u001b[1;32mimport\u001b[0m \u001b[0mcv2\u001b[0m\u001b[1;33m\u001b[0m\u001b[1;33m\u001b[0m\u001b[0m\n\u001b[1;32m---> 13\u001b[1;33m \u001b[1;32mfrom\u001b[0m \u001b[0mtensorflow\u001b[0m\u001b[1;33m.\u001b[0m\u001b[0mkeras\u001b[0m\u001b[1;33m.\u001b[0m\u001b[0mapplications\u001b[0m \u001b[1;32mimport\u001b[0m \u001b[0mMobileNetV2\u001b[0m\u001b[1;33m\u001b[0m\u001b[1;33m\u001b[0m\u001b[0m\n\u001b[0m\u001b[0;32m     14\u001b[0m \u001b[1;32mfrom\u001b[0m \u001b[0mtensorflow\u001b[0m\u001b[1;33m.\u001b[0m\u001b[0mkeras\u001b[0m\u001b[1;33m.\u001b[0m\u001b[0mapplications\u001b[0m\u001b[1;33m.\u001b[0m\u001b[0mmobilenet_v2\u001b[0m \u001b[1;32mimport\u001b[0m \u001b[0mpreprocess_input\u001b[0m\u001b[1;33m\u001b[0m\u001b[1;33m\u001b[0m\u001b[0m\n\u001b[0;32m     15\u001b[0m \u001b[1;32mfrom\u001b[0m \u001b[0mtensorflow\u001b[0m\u001b[1;33m.\u001b[0m\u001b[0mkeras\u001b[0m\u001b[1;33m.\u001b[0m\u001b[0mmodels\u001b[0m \u001b[1;32mimport\u001b[0m \u001b[0mModel\u001b[0m\u001b[1;33m\u001b[0m\u001b[1;33m\u001b[0m\u001b[0m\n",
      "\u001b[1;32m~\\AppData\\Roaming\\Python\\Python38\\site-packages\\tensorflow\\__init__.py\u001b[0m in \u001b[0;36m<module>\u001b[1;34m\u001b[0m\n\u001b[0;32m     47\u001b[0m \u001b[0m_tf2\u001b[0m\u001b[1;33m.\u001b[0m\u001b[0menable\u001b[0m\u001b[1;33m(\u001b[0m\u001b[1;33m)\u001b[0m\u001b[1;33m\u001b[0m\u001b[1;33m\u001b[0m\u001b[0m\n\u001b[0;32m     48\u001b[0m \u001b[1;33m\u001b[0m\u001b[0m\n\u001b[1;32m---> 49\u001b[1;33m \u001b[1;32mfrom\u001b[0m \u001b[1;33m.\u001b[0m\u001b[0m_api\u001b[0m\u001b[1;33m.\u001b[0m\u001b[0mv2\u001b[0m \u001b[1;32mimport\u001b[0m \u001b[0m__internal__\u001b[0m\u001b[1;33m\u001b[0m\u001b[1;33m\u001b[0m\u001b[0m\n\u001b[0m\u001b[0;32m     50\u001b[0m \u001b[1;32mfrom\u001b[0m \u001b[1;33m.\u001b[0m\u001b[0m_api\u001b[0m\u001b[1;33m.\u001b[0m\u001b[0mv2\u001b[0m \u001b[1;32mimport\u001b[0m \u001b[0m__operators__\u001b[0m\u001b[1;33m\u001b[0m\u001b[1;33m\u001b[0m\u001b[0m\n\u001b[0;32m     51\u001b[0m \u001b[1;32mfrom\u001b[0m \u001b[1;33m.\u001b[0m\u001b[0m_api\u001b[0m\u001b[1;33m.\u001b[0m\u001b[0mv2\u001b[0m \u001b[1;32mimport\u001b[0m \u001b[0maudio\u001b[0m\u001b[1;33m\u001b[0m\u001b[1;33m\u001b[0m\u001b[0m\n",
      "\u001b[1;32m~\\AppData\\Roaming\\Python\\Python38\\site-packages\\tensorflow\\_api\\v2\\__internal__\\__init__.py\u001b[0m in \u001b[0;36m<module>\u001b[1;34m\u001b[0m\n\u001b[0;32m      9\u001b[0m \u001b[1;33m\u001b[0m\u001b[0m\n\u001b[0;32m     10\u001b[0m \u001b[1;32mfrom\u001b[0m \u001b[1;33m.\u001b[0m \u001b[1;32mimport\u001b[0m \u001b[0mdecorator\u001b[0m\u001b[1;33m\u001b[0m\u001b[1;33m\u001b[0m\u001b[0m\n\u001b[1;32m---> 11\u001b[1;33m \u001b[1;32mfrom\u001b[0m \u001b[1;33m.\u001b[0m \u001b[1;32mimport\u001b[0m \u001b[0mdistribute\u001b[0m\u001b[1;33m\u001b[0m\u001b[1;33m\u001b[0m\u001b[0m\n\u001b[0m\u001b[0;32m     12\u001b[0m \u001b[1;32mfrom\u001b[0m \u001b[1;33m.\u001b[0m \u001b[1;32mimport\u001b[0m \u001b[0mtest\u001b[0m\u001b[1;33m\u001b[0m\u001b[1;33m\u001b[0m\u001b[0m\n\u001b[0;32m     13\u001b[0m \u001b[1;32mfrom\u001b[0m \u001b[1;33m.\u001b[0m \u001b[1;32mimport\u001b[0m \u001b[0mtracking\u001b[0m\u001b[1;33m\u001b[0m\u001b[1;33m\u001b[0m\u001b[0m\n",
      "\u001b[1;32m~\\AppData\\Roaming\\Python\\Python38\\site-packages\\tensorflow\\_api\\v2\\__internal__\\distribute\\__init__.py\u001b[0m in \u001b[0;36m<module>\u001b[1;34m\u001b[0m\n\u001b[0;32m      8\u001b[0m \u001b[1;32mimport\u001b[0m \u001b[0msys\u001b[0m \u001b[1;32mas\u001b[0m \u001b[0m_sys\u001b[0m\u001b[1;33m\u001b[0m\u001b[1;33m\u001b[0m\u001b[0m\n\u001b[0;32m      9\u001b[0m \u001b[1;33m\u001b[0m\u001b[0m\n\u001b[1;32m---> 10\u001b[1;33m \u001b[1;32mfrom\u001b[0m \u001b[1;33m.\u001b[0m \u001b[1;32mimport\u001b[0m \u001b[0mcombinations\u001b[0m\u001b[1;33m\u001b[0m\u001b[1;33m\u001b[0m\u001b[0m\n\u001b[0m\u001b[0;32m     11\u001b[0m \u001b[1;32mfrom\u001b[0m \u001b[1;33m.\u001b[0m \u001b[1;32mimport\u001b[0m \u001b[0mmulti_process_runner\u001b[0m\u001b[1;33m\u001b[0m\u001b[1;33m\u001b[0m\u001b[0m\n\u001b[0;32m     12\u001b[0m \u001b[1;33m\u001b[0m\u001b[0m\n",
      "\u001b[1;32m~\\AppData\\Roaming\\Python\\Python38\\site-packages\\tensorflow\\_api\\v2\\__internal__\\distribute\\combinations\\__init__.py\u001b[0m in \u001b[0;36m<module>\u001b[1;34m\u001b[0m\n\u001b[0;32m     18\u001b[0m \u001b[1;32mfrom\u001b[0m \u001b[0mtensorflow\u001b[0m\u001b[1;33m.\u001b[0m\u001b[0mpython\u001b[0m\u001b[1;33m.\u001b[0m\u001b[0mdistribute\u001b[0m\u001b[1;33m.\u001b[0m\u001b[0mstrategy_combinations\u001b[0m \u001b[1;32mimport\u001b[0m \u001b[0mmirrored_strategy_with_one_gpu\u001b[0m\u001b[1;33m\u001b[0m\u001b[1;33m\u001b[0m\u001b[0m\n\u001b[0;32m     19\u001b[0m \u001b[1;32mfrom\u001b[0m \u001b[0mtensorflow\u001b[0m\u001b[1;33m.\u001b[0m\u001b[0mpython\u001b[0m\u001b[1;33m.\u001b[0m\u001b[0mdistribute\u001b[0m\u001b[1;33m.\u001b[0m\u001b[0mstrategy_combinations\u001b[0m \u001b[1;32mimport\u001b[0m \u001b[0mmirrored_strategy_with_two_gpus\u001b[0m\u001b[1;33m\u001b[0m\u001b[1;33m\u001b[0m\u001b[0m\n\u001b[1;32m---> 20\u001b[1;33m \u001b[1;32mfrom\u001b[0m \u001b[0mtensorflow\u001b[0m\u001b[1;33m.\u001b[0m\u001b[0mpython\u001b[0m\u001b[1;33m.\u001b[0m\u001b[0mdistribute\u001b[0m\u001b[1;33m.\u001b[0m\u001b[0mstrategy_combinations\u001b[0m \u001b[1;32mimport\u001b[0m \u001b[0mmulti_worker_mirrored_2x1_cpu\u001b[0m\u001b[1;33m\u001b[0m\u001b[1;33m\u001b[0m\u001b[0m\n\u001b[0m\u001b[0;32m     21\u001b[0m \u001b[1;32mfrom\u001b[0m \u001b[0mtensorflow\u001b[0m\u001b[1;33m.\u001b[0m\u001b[0mpython\u001b[0m\u001b[1;33m.\u001b[0m\u001b[0mdistribute\u001b[0m\u001b[1;33m.\u001b[0m\u001b[0mstrategy_combinations\u001b[0m \u001b[1;32mimport\u001b[0m \u001b[0mmulti_worker_mirrored_2x1_gpu\u001b[0m\u001b[1;33m\u001b[0m\u001b[1;33m\u001b[0m\u001b[0m\n\u001b[0;32m     22\u001b[0m \u001b[1;32mfrom\u001b[0m \u001b[0mtensorflow\u001b[0m\u001b[1;33m.\u001b[0m\u001b[0mpython\u001b[0m\u001b[1;33m.\u001b[0m\u001b[0mdistribute\u001b[0m\u001b[1;33m.\u001b[0m\u001b[0mstrategy_combinations\u001b[0m \u001b[1;32mimport\u001b[0m \u001b[0mmulti_worker_mirrored_2x2_gpu\u001b[0m\u001b[1;33m\u001b[0m\u001b[1;33m\u001b[0m\u001b[0m\n",
      "\u001b[1;31mImportError\u001b[0m: cannot import name 'multi_worker_mirrored_2x1_cpu' from 'tensorflow.python.distribute.strategy_combinations' (C:\\Users\\joseph\\AppData\\Roaming\\Python\\Python38\\site-packages\\tensorflow\\python\\distribute\\strategy_combinations.py)"
     ]
    }
   ],
   "source": [
    "# %load test.py\n",
    "\"\"\"\n",
    "Created on Thu Aug  1 14:08:58 2024\n",
    "\n",
    "@author: joseph@艾鍗學院 www.ittraining.com.tw\n",
    "\"\"\"\n",
    "\n",
    "import os\n",
    "os.environ['PROTOCOL_BUFFERS_PYTHON_IMPLEMENTATION'] = 'python'\n",
    "os.environ['OMP_NUM_THREADS']='1'\n",
    "os.environ['TF_FORCE_GPU_ALLOW_GROWTH'] = 'true'\n",
    "import cv2\n",
    "from tensorflow.keras.applications import MobileNetV2\n",
    "from tensorflow.keras.applications.mobilenet_v2 import preprocess_input\n",
    "from tensorflow.keras.models import Model\n",
    "from sklearn.preprocessing import normalize\n",
    "import numpy as np\n",
    "from sklearn.cluster import KMeans\n",
    "import matplotlib.pyplot as plt\n",
    "import glob"
   ]
  },
  {
   "cell_type": "code",
   "execution_count": null,
   "metadata": {
    "executionInfo": {
     "elapsed": 1724,
     "status": "ok",
     "timestamp": 1722503521394,
     "user": {
      "displayName": "Kaneshivo C",
      "userId": "16346198958151628227"
     },
     "user_tz": -480
    },
    "id": "Z8q6gAfsLKmi"
   },
   "outputs": [],
   "source": [
    "\n",
    "\n",
    "# Function to load and preprocess an image\n",
    "def load_and_preprocess_image(img_path):\n",
    "    img_array = cv2.imread(img_path)\n",
    "    img_array = cv2.cvtColor(img_array, cv2.COLOR_BGR2RGB)\n",
    "    resized_img_array = cv2.resize(img_array, (224, 224))\n",
    "    resized_img_array = np.expand_dims(resized_img_array, axis=0)\n",
    "    preprocessed_img_array = preprocess_input(resized_img_array)\n",
    "    return preprocessed_img_array\n",
    "\n",
    "\n",
    "\n",
    "# Load the MobileNetV2 model\n",
    "base_model = MobileNetV2(weights='imagenet', include_top=False, input_shape=(224, 224, 3))\n",
    "model = Model(inputs=base_model.input, outputs=base_model.output)"
   ]
  },
  {
   "cell_type": "code",
   "execution_count": null,
   "metadata": {
    "executionInfo": {
     "elapsed": 311,
     "status": "ok",
     "timestamp": 1722503523998,
     "user": {
      "displayName": "Kaneshivo C",
      "userId": "16346198958151628227"
     },
     "user_tz": -480
    },
    "id": "0y4m6-3DLKmi"
   },
   "outputs": [],
   "source": [
    "def plot_custer(labels,image_paths):\n",
    "\n",
    "    n_clusters=len(set(labels))\n",
    "\n",
    "    # Plot all images in the same cluster\n",
    "    for cluster in range(n_clusters):\n",
    "        cluster_indices = np.where(labels == cluster)[0]\n",
    "        num_images = len(cluster_indices)\n",
    "\n",
    "        plt.figure(figsize=(20, num_images))\n",
    "        plt.suptitle(f'Cluster {cluster}', fontsize=20)\n",
    "\n",
    "        for i, idx in enumerate(cluster_indices):\n",
    "            img_path = image_paths[idx]\n",
    "            img = cv2.imread(img_path)\n",
    "            img = cv2.cvtColor(img, cv2.COLOR_BGR2RGB)\n",
    "\n",
    "            plt.subplot(1, num_images, i + 1)\n",
    "            plt.imshow(img)\n",
    "            plt.axis('off')\n",
    "\n",
    "    plt.show()"
   ]
  },
  {
   "cell_type": "code",
   "execution_count": null,
   "metadata": {
    "id": "zoWKl1cdLKmi"
   },
   "outputs": [],
   "source": [
    "# Directory containing your images\n",
    "image_dir = 'images3/*'\n",
    "\n",
    "# Extract features from each image\n",
    "features_list = []\n",
    "image_paths = glob.glob(image_dir)\n",
    "\n",
    "for img_path in image_paths:\n",
    "    preprocessed_img = load_and_preprocess_image(img_path)\n",
    "    features = model.predict(preprocessed_img)\n",
    "    flattened_features = features.flatten()\n",
    "    features_list.append(flattened_features)\n",
    "\n",
    "features_array = np.array(features_list)\n",
    "\n",
    "#normaliz is really important\n",
    "features_array = normalize(features_array)"
   ]
  },
  {
   "cell_type": "code",
   "execution_count": null,
   "metadata": {
    "id": "s_uxWfVxLKmj",
    "outputId": "1ccad304-5354-479d-c76c-074f17ee8849",
    "scrolled": true
   },
   "outputs": [],
   "source": [
    "# Perform clustering\n",
    "n_clusters = 2  # Number of clusters\n",
    "kmeans = KMeans(n_clusters=n_clusters,n_init=5)\n",
    "kmeans.fit(features_array)\n",
    "labels = kmeans.labels_\n",
    "\n",
    "# Print cluster assignments\n",
    "for img_path, label in zip(image_paths, labels):\n",
    "    print(f'Image: {img_path} - Cluster: {label}')\n",
    "\n",
    "plot_custer(labels,image_paths)"
   ]
  },
  {
   "cell_type": "code",
   "execution_count": null,
   "metadata": {
    "id": "Tb8IlX8NLKmj",
    "outputId": "86aa8c5d-918a-4b32-e86f-8cbcdfa32b1d"
   },
   "outputs": [],
   "source": [
    "from scipy.cluster.hierarchy import dendrogram, linkage, fcluster\n",
    "\n",
    "# Perform hierarchical clustering\n",
    "linked = linkage(features_array, method='ward')\n",
    "labels = fcluster(linked, t=2, criterion='maxclust')\n",
    "print(labels)\n",
    "# Print cluster assignments\n",
    "for img_path, label in zip(image_paths, labels):\n",
    "    print(f'Image: {img_path} - Cluster: {label}')\n",
    "\n",
    "\n",
    "plot_custer(labels-1,image_paths)"
   ]
  },
  {
   "cell_type": "code",
   "execution_count": null,
   "metadata": {
    "id": "ORz6mGoVLKmj",
    "outputId": "4c4216ce-6e92-47d2-c4fe-1f077275d96e"
   },
   "outputs": [],
   "source": [
    "from scipy.cluster.hierarchy import dendrogram, linkage, fcluster\n",
    "from scipy.spatial.distance import pdist, squareform\n",
    "# Perform hierarchical clustering\n",
    "# Compute cosine distance matrix\n",
    "cosine_distances = pdist(features_array, metric='cosine')\n",
    "\n",
    "# Perform hierarchical clustering using the cosine distance matrix\n",
    "linked = linkage(cosine_distances, method='average')\n",
    "\n",
    "#linked = linkage(pca_features, method='ward')\n",
    "labels = fcluster(linked, t=2, criterion='maxclust')\n",
    "print(labels)\n",
    "# Print cluster assignments\n",
    "for img_path, label in zip(image_paths, labels):\n",
    "    print(f'Image: {img_path} - Cluster: {label}')\n",
    "\n",
    "plot_custer(labels-1,image_paths)"
   ]
  },
  {
   "cell_type": "code",
   "execution_count": null,
   "metadata": {
    "id": "37BXtaFjLKmj",
    "outputId": "30dcc2de-a8e3-46ff-9924-42ecb74fad61"
   },
   "outputs": [],
   "source": [
    "# Plot dendrogram\n",
    "plt.figure(figsize=(10, 7))\n",
    "dendrogram(linked, orientation='top', labels=labels, distance_sort='descending', show_leaf_counts=True)\n",
    "plt.title('Hierarchical Clustering Dendrogram')\n",
    "plt.xlabel('Sample index')\n",
    "plt.ylabel('Distance')\n",
    "plt.show()"
   ]
  },
  {
   "cell_type": "markdown",
   "metadata": {
    "id": "5hn44AhVLKmj"
   },
   "source": [
    "## Apply PCA to reduce dimensionality"
   ]
  },
  {
   "cell_type": "code",
   "execution_count": null,
   "metadata": {
    "id": "KaU3MyKFLKmm"
   },
   "outputs": [],
   "source": [
    "n_samples, n_features = features_array.shape\n",
    "n_components = min(n_samples, n_features, 50)"
   ]
  },
  {
   "cell_type": "code",
   "execution_count": null,
   "metadata": {
    "id": "XK4a8sh7LKmm",
    "outputId": "0f06074c-4e59-49f0-a718-1f07584b4832"
   },
   "outputs": [],
   "source": [
    "from sklearn.decomposition import PCA\n",
    "\n",
    "pca = PCA(n_components=n_components)\n",
    "pca_features = pca.fit_transform(features_array)\n",
    "print(pca_features.shape)"
   ]
  },
  {
   "cell_type": "code",
   "execution_count": null,
   "metadata": {
    "id": "gsV6gnghLKmn",
    "outputId": "3f4b41f7-79e2-4569-d19a-e70cd1019df5",
    "scrolled": true
   },
   "outputs": [],
   "source": [
    "# Perform clustering\n",
    "n_clusters = 2  # Number of clusters\n",
    "kmeans = KMeans(n_clusters=n_clusters,n_init=10)\n",
    "kmeans.fit(pca_features)\n",
    "labels = kmeans.labels_\n",
    "\n",
    "# Print cluster assignments\n",
    "for img_path, label in zip(image_paths, labels):\n",
    "    print(f'Image: {img_path} - Cluster: {label}')\n",
    "\n",
    "plot_custer(labels,image_paths)"
   ]
  },
  {
   "cell_type": "code",
   "execution_count": null,
   "metadata": {
    "id": "YSoGmCKfLKmn",
    "outputId": "92f9c098-030a-4c57-ac7d-54625f9d09c0"
   },
   "outputs": [],
   "source": [
    "from scipy.cluster.hierarchy import dendrogram, linkage, fcluster\n",
    "from scipy.spatial.distance import pdist, squareform\n",
    "# Perform hierarchical clustering\n",
    "# Compute cosine distance matrix\n",
    "cosine_distances = pdist(pca_features, metric='cosine')\n",
    "\n",
    "# Perform hierarchical clustering using the cosine distance matrix\n",
    "linked = linkage(cosine_distances, method='average')\n",
    "\n",
    "#linked = linkage(pca_features, method='ward')\n",
    "labels = fcluster(linked, t=2, criterion='maxclust')\n",
    "print(labels)\n",
    "# Print cluster assignments\n",
    "for img_path, label in zip(image_paths, labels):\n",
    "    print(f'Image: {img_path} - Cluster: {label}')\n",
    "\n",
    "plot_custer(labels-1,image_paths)"
   ]
  }
 ],
 "metadata": {
  "colab": {
   "provenance": []
  },
  "kernelspec": {
   "display_name": "Python 3",
   "language": "python",
   "name": "python3"
  },
  "language_info": {
   "codemirror_mode": {
    "name": "ipython",
    "version": 3
   },
   "file_extension": ".py",
   "mimetype": "text/x-python",
   "name": "python",
   "nbconvert_exporter": "python",
   "pygments_lexer": "ipython3",
   "version": "3.8.5"
  },
  "toc": {
   "base_numbering": 1,
   "nav_menu": {},
   "number_sections": true,
   "sideBar": true,
   "skip_h1_title": false,
   "title_cell": "Table of Contents",
   "title_sidebar": "Contents",
   "toc_cell": false,
   "toc_position": {},
   "toc_section_display": true,
   "toc_window_display": false
  }
 },
 "nbformat": 4,
 "nbformat_minor": 1
}
