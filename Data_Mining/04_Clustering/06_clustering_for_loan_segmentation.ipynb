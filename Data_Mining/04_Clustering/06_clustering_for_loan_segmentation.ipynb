{
 "cells": [
  {
   "cell_type": "markdown",
   "metadata": {},
   "source": [
    "https://www.lendingclub.com/\n",
    "\n",
    "\n",
    "點對點借貸平台. 可申請3~5年無抵押的個人貸款, 投資者可以根據申請貸款者的信用條件、貸款期數或貸款金額等給予貸款者信用評等(A最好, G最差)。並核予貸款額度、貸款利率、貸款年限。而投資者可以賺取利息。而平台方收取服務費用。\n",
    "\n",
    "```\n",
    "id / member_id: Unique identifiers for each borrower or loan.\n",
    "loan_amnt: The amount requested by the borrower.\n",
    "funded_amnt / funded_amnt_inv: The amount actually funded for the loan.\n",
    "term: The loan term (e.g., 36 months, 60 months).\n",
    "int_rate: The interest rate of the loan.\n",
    "installment: The monthly payment amount.\n",
    "grade / sub_grade: The credit grade assigned to the borrower (e.g., A, B, C).\n",
    "emp_title / emp_length: The borrower’s job title and the length of employment.\n",
    "home_ownership: The borrower’s home ownership status (e.g., rent, own).\n",
    "annual_inc: The borrower’s annual income.\n",
    "verification_status: Indicates whether the income was verified.\n",
    "loan_status: The current status of the loan (e.g., current, charged off).\n",
    "purpose: The reason for taking out the loan (e.g., debt consolidation, home improvement).\n",
    "zip_code: The borrower’s zip code.\n",
    "addr_state: The state in which the borrower resides.\n",
    "dti: Debt-to-income ratio.\n",
    "delinq_2yrs: Number of delinquencies in the past two years.\n",
    "earliest_cr_line: The date of the borrower’s earliest credit line.\n",
    "inq_last_6mths: Number of inquiries in the last 6 months.\n",
    "open_acc / total_acc: Number of open accounts and total accounts.\n",
    "pub_rec: Number of public records (e.g., bankruptcies, liens).\n",
    "revol_bal: Total revolving balance.\n",
    "revol_util: Revolving line utilization rate.\n",
    "total_pymnt / total_rec_prncp / total_rec_int: Payments made, principal received, interest received.\n",
    "\n",
    "```\n"
   ]
  },
  {
   "cell_type": "markdown",
   "metadata": {
    "id": "mFLRgf38laYc"
   },
   "source": [
    "# Google Colab Setup\n",
    "**Only for users on Google Colab**"
   ]
  },
  {
   "cell_type": "code",
   "execution_count": 1,
   "metadata": {
    "colab": {
     "base_uri": "https://localhost:8080/"
    },
    "executionInfo": {
     "elapsed": 1340,
     "status": "ok",
     "timestamp": 1620243368314,
     "user": {
      "displayName": "Ankur Patel",
      "photoUrl": "https://lh3.googleusercontent.com/a-/AOh14GjuyT9p2uQcITYiB6Ja4gdHeMPvvVZ_RNUvS_DFuY0=s64",
      "userId": "08322043083056308084"
     },
     "user_tz": 240
    },
    "id": "oFpjRFSSlfuu",
    "outputId": "d156255c-a93a-448f-cb66-86898855adb3"
   },
   "outputs": [
    {
     "name": "stdout",
     "output_type": "stream",
     "text": [
      "Mounted at /content/drive\n",
      "Original path:  /content\n",
      "New path:  /content/drive/My Drive/github/handson-unsupervised-learning\n"
     ]
    }
   ],
   "source": [
    "# Define functions to connect to Google and change directories\n",
    "def connectDrive():\n",
    "    from google.colab import drive\n",
    "    drive.mount('/content/drive', force_remount=True)\n",
    "\n",
    "def changeDirectory(path):\n",
    "    import os\n",
    "    original_path = os.getcwd()\n",
    "    os.chdir(path)\n",
    "    new_path = os.getcwd()\n",
    "    print(\"Original path: \",original_path)\n",
    "    print(\"New path: \",new_path)\n",
    "\n",
    "# Connect to Google Drive\n",
    "connectDrive()\n",
    "\n",
    "# Change path\n",
    "changeDirectory(\"/content/drive/My Drive/github/handson-unsupervised-learning/\")"
   ]
  },
  {
   "cell_type": "code",
   "execution_count": 2,
   "metadata": {
    "colab": {
     "base_uri": "https://localhost:8080/"
    },
    "executionInfo": {
     "elapsed": 7233,
     "status": "ok",
     "timestamp": 1620243374219,
     "user": {
      "displayName": "Ankur Patel",
      "photoUrl": "https://lh3.googleusercontent.com/a-/AOh14GjuyT9p2uQcITYiB6Ja4gdHeMPvvVZ_RNUvS_DFuY0=s64",
      "userId": "08322043083056308084"
     },
     "user_tz": 240
    },
    "id": "eYZ9MHgHmPYl",
    "outputId": "8f0b9488-0d49-43db-cb13-03bb26df5420"
   },
   "outputs": [
    {
     "name": "stdout",
     "output_type": "stream",
     "text": [
      "Requirement already satisfied: fastcluster==1.1.26 in /usr/local/lib/python3.7/dist-packages (1.1.26)\n",
      "Requirement already satisfied: numpy>=1.9 in /usr/local/lib/python3.7/dist-packages (from fastcluster==1.1.26) (1.19.5)\n",
      "Requirement already satisfied: hdbscan==0.8.27 in /usr/local/lib/python3.7/dist-packages (0.8.27)\n",
      "Requirement already satisfied: six in /usr/local/lib/python3.7/dist-packages (from hdbscan==0.8.27) (1.15.0)\n",
      "Requirement already satisfied: joblib>=1.0 in /usr/local/lib/python3.7/dist-packages (from hdbscan==0.8.27) (1.0.1)\n",
      "Requirement already satisfied: numpy>=1.16 in /usr/local/lib/python3.7/dist-packages (from hdbscan==0.8.27) (1.19.5)\n",
      "Requirement already satisfied: scipy>=1.0 in /usr/local/lib/python3.7/dist-packages (from hdbscan==0.8.27) (1.4.1)\n",
      "Requirement already satisfied: cython>=0.27 in /usr/local/lib/python3.7/dist-packages (from hdbscan==0.8.27) (0.29.22)\n",
      "Requirement already satisfied: scikit-learn>=0.20 in /usr/local/lib/python3.7/dist-packages (from hdbscan==0.8.27) (0.22.2.post1)\n"
     ]
    }
   ],
   "source": [
    "# Install additional libraries\n",
    "!pip install fastcluster==1.1.26\n",
    "!pip install hdbscan==0.8.27"
   ]
  },
  {
   "cell_type": "markdown",
   "metadata": {
    "id": "lr3tDheV7kLT"
   },
   "source": [
    "# Import Libraries"
   ]
  },
  {
   "cell_type": "code",
   "execution_count": 20,
   "metadata": {
    "executionInfo": {
     "elapsed": 7855,
     "status": "ok",
     "timestamp": 1620243374851,
     "user": {
      "displayName": "Ankur Patel",
      "photoUrl": "https://lh3.googleusercontent.com/a-/AOh14GjuyT9p2uQcITYiB6Ja4gdHeMPvvVZ_RNUvS_DFuY0=s64",
      "userId": "08322043083056308084"
     },
     "user_tz": 240
    },
    "id": "q__4Yz54ze5u"
   },
   "outputs": [],
   "source": [
    "# Import libraries\n",
    "'''Main'''\n",
    "import numpy as np\n",
    "import pandas as pd\n",
    "import os, time, re\n",
    "import pickle, gzip\n",
    "\n",
    "'''Data Viz'''\n",
    "import matplotlib.pyplot as plt\n",
    "import matplotlib as mpl\n",
    "import seaborn as sns\n",
    "color = sns.color_palette()\n",
    "%matplotlib inline\n",
    "\n",
    "'''Data Prep and Model Evaluation'''\n",
    "from sklearn import preprocessing as pp\n",
    "from sklearn import impute\n",
    "from sklearn.model_selection import train_test_split \n",
    "from sklearn.metrics import precision_recall_curve, average_precision_score\n",
    "from sklearn.metrics import roc_curve, auc, roc_auc_score\n",
    "\n",
    "'''Algorithms'''\n",
    "from sklearn.decomposition import PCA\n",
    "from sklearn.cluster import KMeans\n",
    "import fastcluster\n",
    "from scipy.cluster.hierarchy import dendrogram, cophenet, fcluster\n",
    "from scipy.spatial.distance import pdist"
   ]
  },
  {
   "cell_type": "markdown",
   "metadata": {
    "id": "4L-vERlz71z_"
   },
   "source": [
    "# Load & Prepare Data"
   ]
  },
  {
   "cell_type": "code",
   "execution_count": 21,
   "metadata": {
    "executionInfo": {
     "elapsed": 9048,
     "status": "ok",
     "timestamp": 1620243376050,
     "user": {
      "displayName": "Ankur Patel",
      "photoUrl": "https://lh3.googleusercontent.com/a-/AOh14GjuyT9p2uQcITYiB6Ja4gdHeMPvvVZ_RNUvS_DFuY0=s64",
      "userId": "08322043083056308084"
     },
     "user_tz": 240
    },
    "id": "olW8GFXvze5z"
   },
   "outputs": [],
   "source": [
    "# Load the data\n",
    "current_path = os.getcwd()\n",
    "file = os.path.sep.join(['', 'datasets', 'lending_club_data', 'LoanStats3a.csv'])\n",
    "data = pd.read_csv(current_path + file, low_memory=False)"
   ]
  },
  {
   "cell_type": "code",
   "execution_count": 22,
   "metadata": {},
   "outputs": [
    {
     "data": {
      "text/plain": [
       "(42542, 145)"
      ]
     },
     "execution_count": 22,
     "metadata": {},
     "output_type": "execute_result"
    }
   ],
   "source": [
    "data.shape"
   ]
  },
  {
   "cell_type": "code",
   "execution_count": 23,
   "metadata": {
    "executionInfo": {
     "elapsed": 9047,
     "status": "ok",
     "timestamp": 1620243376051,
     "user": {
      "displayName": "Ankur Patel",
      "photoUrl": "https://lh3.googleusercontent.com/a-/AOh14GjuyT9p2uQcITYiB6Ja4gdHeMPvvVZ_RNUvS_DFuY0=s64",
      "userId": "08322043083056308084"
     },
     "user_tz": 240
    },
    "id": "GoFPxME2ze50"
   },
   "outputs": [],
   "source": [
    "# Select columns to keep\n",
    "columnsToKeep = ['loan_amnt','funded_amnt','funded_amnt_inv','term', \\\n",
    "                 'int_rate','installment','grade','sub_grade', \\\n",
    "                 'emp_length','home_ownership','annual_inc', \\\n",
    "                 'verification_status','pymnt_plan','purpose', \\\n",
    "                 'addr_state','dti','delinq_2yrs','earliest_cr_line', \\\n",
    "                 'mths_since_last_delinq','mths_since_last_record', \\\n",
    "                 'open_acc','pub_rec','revol_bal','revol_util', \\\n",
    "                 'total_acc','initial_list_status','out_prncp', \\\n",
    "                 'out_prncp_inv','total_pymnt','total_pymnt_inv', \\\n",
    "                 'total_rec_prncp','total_rec_int','total_rec_late_fee', \\\n",
    "                 'recoveries','collection_recovery_fee','last_pymnt_d', \\\n",
    "                 'last_pymnt_amnt']\n",
    "\n",
    "data = data.loc[:,columnsToKeep]"
   ]
  },
  {
   "cell_type": "code",
   "execution_count": 24,
   "metadata": {
    "colab": {
     "base_uri": "https://localhost:8080/"
    },
    "executionInfo": {
     "elapsed": 9044,
     "status": "ok",
     "timestamp": 1620243376051,
     "user": {
      "displayName": "Ankur Patel",
      "photoUrl": "https://lh3.googleusercontent.com/a-/AOh14GjuyT9p2uQcITYiB6Ja4gdHeMPvvVZ_RNUvS_DFuY0=s64",
      "userId": "08322043083056308084"
     },
     "user_tz": 240
    },
    "id": "D-VkWTYeze50",
    "outputId": "a662a66a-a4e5-4975-9b72-dc291a3529c9"
   },
   "outputs": [
    {
     "data": {
      "text/plain": [
       "(42542, 37)"
      ]
     },
     "execution_count": 24,
     "metadata": {},
     "output_type": "execute_result"
    }
   ],
   "source": [
    "# View shape\n",
    "data.shape"
   ]
  },
  {
   "cell_type": "code",
   "execution_count": 25,
   "metadata": {
    "colab": {
     "base_uri": "https://localhost:8080/",
     "height": 316
    },
    "executionInfo": {
     "elapsed": 9176,
     "status": "ok",
     "timestamp": 1620243376193,
     "user": {
      "displayName": "Ankur Patel",
      "photoUrl": "https://lh3.googleusercontent.com/a-/AOh14GjuyT9p2uQcITYiB6Ja4gdHeMPvvVZ_RNUvS_DFuY0=s64",
      "userId": "08322043083056308084"
     },
     "user_tz": 240
    },
    "id": "iKjQX3vjze51",
    "outputId": "56256cd7-07c6-45d2-8308-daa370d12882"
   },
   "outputs": [
    {
     "data": {
      "text/html": [
       "<div>\n",
       "<style scoped>\n",
       "    .dataframe tbody tr th:only-of-type {\n",
       "        vertical-align: middle;\n",
       "    }\n",
       "\n",
       "    .dataframe tbody tr th {\n",
       "        vertical-align: top;\n",
       "    }\n",
       "\n",
       "    .dataframe thead th {\n",
       "        text-align: right;\n",
       "    }\n",
       "</style>\n",
       "<table border=\"1\" class=\"dataframe\">\n",
       "  <thead>\n",
       "    <tr style=\"text-align: right;\">\n",
       "      <th></th>\n",
       "      <th>loan_amnt</th>\n",
       "      <th>funded_amnt</th>\n",
       "      <th>funded_amnt_inv</th>\n",
       "      <th>term</th>\n",
       "      <th>int_rate</th>\n",
       "      <th>installment</th>\n",
       "      <th>grade</th>\n",
       "      <th>sub_grade</th>\n",
       "      <th>emp_length</th>\n",
       "      <th>home_ownership</th>\n",
       "      <th>...</th>\n",
       "      <th>out_prncp_inv</th>\n",
       "      <th>total_pymnt</th>\n",
       "      <th>total_pymnt_inv</th>\n",
       "      <th>total_rec_prncp</th>\n",
       "      <th>total_rec_int</th>\n",
       "      <th>total_rec_late_fee</th>\n",
       "      <th>recoveries</th>\n",
       "      <th>collection_recovery_fee</th>\n",
       "      <th>last_pymnt_d</th>\n",
       "      <th>last_pymnt_amnt</th>\n",
       "    </tr>\n",
       "  </thead>\n",
       "  <tbody>\n",
       "    <tr>\n",
       "      <th>0</th>\n",
       "      <td>5000.0</td>\n",
       "      <td>5000.0</td>\n",
       "      <td>4975.0</td>\n",
       "      <td>36 months</td>\n",
       "      <td>10.65%</td>\n",
       "      <td>162.87</td>\n",
       "      <td>B</td>\n",
       "      <td>B2</td>\n",
       "      <td>10+ years</td>\n",
       "      <td>RENT</td>\n",
       "      <td>...</td>\n",
       "      <td>0.0</td>\n",
       "      <td>5863.155187</td>\n",
       "      <td>5833.84</td>\n",
       "      <td>5000.00</td>\n",
       "      <td>863.16</td>\n",
       "      <td>0.00</td>\n",
       "      <td>0.0</td>\n",
       "      <td>0.00</td>\n",
       "      <td>Jan-15</td>\n",
       "      <td>171.62</td>\n",
       "    </tr>\n",
       "    <tr>\n",
       "      <th>1</th>\n",
       "      <td>2500.0</td>\n",
       "      <td>2500.0</td>\n",
       "      <td>2500.0</td>\n",
       "      <td>60 months</td>\n",
       "      <td>15.27%</td>\n",
       "      <td>59.83</td>\n",
       "      <td>C</td>\n",
       "      <td>C4</td>\n",
       "      <td>&lt; 1 year</td>\n",
       "      <td>RENT</td>\n",
       "      <td>...</td>\n",
       "      <td>0.0</td>\n",
       "      <td>1014.530000</td>\n",
       "      <td>1014.53</td>\n",
       "      <td>456.46</td>\n",
       "      <td>435.17</td>\n",
       "      <td>0.00</td>\n",
       "      <td>122.9</td>\n",
       "      <td>1.11</td>\n",
       "      <td>Apr-13</td>\n",
       "      <td>119.66</td>\n",
       "    </tr>\n",
       "    <tr>\n",
       "      <th>2</th>\n",
       "      <td>2400.0</td>\n",
       "      <td>2400.0</td>\n",
       "      <td>2400.0</td>\n",
       "      <td>36 months</td>\n",
       "      <td>15.96%</td>\n",
       "      <td>84.33</td>\n",
       "      <td>C</td>\n",
       "      <td>C5</td>\n",
       "      <td>10+ years</td>\n",
       "      <td>RENT</td>\n",
       "      <td>...</td>\n",
       "      <td>0.0</td>\n",
       "      <td>3005.666844</td>\n",
       "      <td>3005.67</td>\n",
       "      <td>2400.00</td>\n",
       "      <td>605.67</td>\n",
       "      <td>0.00</td>\n",
       "      <td>0.0</td>\n",
       "      <td>0.00</td>\n",
       "      <td>Jun-14</td>\n",
       "      <td>649.91</td>\n",
       "    </tr>\n",
       "    <tr>\n",
       "      <th>3</th>\n",
       "      <td>10000.0</td>\n",
       "      <td>10000.0</td>\n",
       "      <td>10000.0</td>\n",
       "      <td>36 months</td>\n",
       "      <td>13.49%</td>\n",
       "      <td>339.31</td>\n",
       "      <td>C</td>\n",
       "      <td>C1</td>\n",
       "      <td>10+ years</td>\n",
       "      <td>RENT</td>\n",
       "      <td>...</td>\n",
       "      <td>0.0</td>\n",
       "      <td>12231.890000</td>\n",
       "      <td>12231.89</td>\n",
       "      <td>10000.00</td>\n",
       "      <td>2214.92</td>\n",
       "      <td>16.97</td>\n",
       "      <td>0.0</td>\n",
       "      <td>0.00</td>\n",
       "      <td>Jan-15</td>\n",
       "      <td>357.48</td>\n",
       "    </tr>\n",
       "    <tr>\n",
       "      <th>4</th>\n",
       "      <td>3000.0</td>\n",
       "      <td>3000.0</td>\n",
       "      <td>3000.0</td>\n",
       "      <td>60 months</td>\n",
       "      <td>12.69%</td>\n",
       "      <td>67.79</td>\n",
       "      <td>B</td>\n",
       "      <td>B5</td>\n",
       "      <td>1 year</td>\n",
       "      <td>RENT</td>\n",
       "      <td>...</td>\n",
       "      <td>0.0</td>\n",
       "      <td>4066.908161</td>\n",
       "      <td>4066.91</td>\n",
       "      <td>3000.00</td>\n",
       "      <td>1066.91</td>\n",
       "      <td>0.00</td>\n",
       "      <td>0.0</td>\n",
       "      <td>0.00</td>\n",
       "      <td>Jan-17</td>\n",
       "      <td>67.30</td>\n",
       "    </tr>\n",
       "  </tbody>\n",
       "</table>\n",
       "<p>5 rows × 37 columns</p>\n",
       "</div>"
      ],
      "text/plain": [
       "   loan_amnt  funded_amnt  funded_amnt_inv        term int_rate  installment  \\\n",
       "0     5000.0       5000.0           4975.0   36 months   10.65%       162.87   \n",
       "1     2500.0       2500.0           2500.0   60 months   15.27%        59.83   \n",
       "2     2400.0       2400.0           2400.0   36 months   15.96%        84.33   \n",
       "3    10000.0      10000.0          10000.0   36 months   13.49%       339.31   \n",
       "4     3000.0       3000.0           3000.0   60 months   12.69%        67.79   \n",
       "\n",
       "  grade sub_grade emp_length home_ownership  ...  out_prncp_inv   total_pymnt  \\\n",
       "0     B        B2  10+ years           RENT  ...            0.0   5863.155187   \n",
       "1     C        C4   < 1 year           RENT  ...            0.0   1014.530000   \n",
       "2     C        C5  10+ years           RENT  ...            0.0   3005.666844   \n",
       "3     C        C1  10+ years           RENT  ...            0.0  12231.890000   \n",
       "4     B        B5     1 year           RENT  ...            0.0   4066.908161   \n",
       "\n",
       "  total_pymnt_inv total_rec_prncp total_rec_int  total_rec_late_fee  \\\n",
       "0         5833.84         5000.00        863.16                0.00   \n",
       "1         1014.53          456.46        435.17                0.00   \n",
       "2         3005.67         2400.00        605.67                0.00   \n",
       "3        12231.89        10000.00       2214.92               16.97   \n",
       "4         4066.91         3000.00       1066.91                0.00   \n",
       "\n",
       "   recoveries collection_recovery_fee  last_pymnt_d  last_pymnt_amnt  \n",
       "0         0.0                    0.00        Jan-15           171.62  \n",
       "1       122.9                    1.11        Apr-13           119.66  \n",
       "2         0.0                    0.00        Jun-14           649.91  \n",
       "3         0.0                    0.00        Jan-15           357.48  \n",
       "4         0.0                    0.00        Jan-17            67.30  \n",
       "\n",
       "[5 rows x 37 columns]"
      ]
     },
     "execution_count": 25,
     "metadata": {},
     "output_type": "execute_result"
    }
   ],
   "source": [
    "# Preview data\n",
    "data.head()"
   ]
  },
  {
   "cell_type": "code",
   "execution_count": 26,
   "metadata": {
    "executionInfo": {
     "elapsed": 9682,
     "status": "ok",
     "timestamp": 1620243376709,
     "user": {
      "displayName": "Ankur Patel",
      "photoUrl": "https://lh3.googleusercontent.com/a-/AOh14GjuyT9p2uQcITYiB6Ja4gdHeMPvvVZ_RNUvS_DFuY0=s64",
      "userId": "08322043083056308084"
     },
     "user_tz": 240
    },
    "id": "U1Gw2o42ze51"
   },
   "outputs": [],
   "source": [
    "# Transform features from string to numeric\n",
    "for i in [\"term\",\"int_rate\",\"emp_length\",\"revol_util\"]:\n",
    "    data.loc[:,i] = \\\n",
    "        data.loc[:,i].apply(lambda x: re.sub(\"[^0-9]\", \"\", str(x)))\n",
    "    data.loc[:,i] = pd.to_numeric(data.loc[:,i])"
   ]
  },
  {
   "cell_type": "code",
   "execution_count": 27,
   "metadata": {
    "executionInfo": {
     "elapsed": 9682,
     "status": "ok",
     "timestamp": 1620243376711,
     "user": {
      "displayName": "Ankur Patel",
      "photoUrl": "https://lh3.googleusercontent.com/a-/AOh14GjuyT9p2uQcITYiB6Ja4gdHeMPvvVZ_RNUvS_DFuY0=s64",
      "userId": "08322043083056308084"
     },
     "user_tz": 240
    },
    "id": "_7LbVdq3ze51"
   },
   "outputs": [],
   "source": [
    "# Determine which features are numerical\n",
    "numericalFeats = [x for x in data.columns if data[x].dtype != 'object']"
   ]
  },
  {
   "cell_type": "code",
   "execution_count": 39,
   "metadata": {},
   "outputs": [
    {
     "data": {
      "text/html": [
       "<div>\n",
       "<style scoped>\n",
       "    .dataframe tbody tr th:only-of-type {\n",
       "        vertical-align: middle;\n",
       "    }\n",
       "\n",
       "    .dataframe tbody tr th {\n",
       "        vertical-align: top;\n",
       "    }\n",
       "\n",
       "    .dataframe thead th {\n",
       "        text-align: right;\n",
       "    }\n",
       "</style>\n",
       "<table border=\"1\" class=\"dataframe\">\n",
       "  <thead>\n",
       "    <tr style=\"text-align: right;\">\n",
       "      <th></th>\n",
       "      <th>term</th>\n",
       "      <th>int_rate</th>\n",
       "      <th>emp_length</th>\n",
       "      <th>revol_util</th>\n",
       "    </tr>\n",
       "  </thead>\n",
       "  <tbody>\n",
       "    <tr>\n",
       "      <th>0</th>\n",
       "      <td>36.000000</td>\n",
       "      <td>1065.000000</td>\n",
       "      <td>10.000000</td>\n",
       "      <td>8370.000000</td>\n",
       "    </tr>\n",
       "    <tr>\n",
       "      <th>1</th>\n",
       "      <td>60.000000</td>\n",
       "      <td>1527.000000</td>\n",
       "      <td>1.000000</td>\n",
       "      <td>940.000000</td>\n",
       "    </tr>\n",
       "    <tr>\n",
       "      <th>2</th>\n",
       "      <td>36.000000</td>\n",
       "      <td>1596.000000</td>\n",
       "      <td>10.000000</td>\n",
       "      <td>9850.000000</td>\n",
       "    </tr>\n",
       "    <tr>\n",
       "      <th>3</th>\n",
       "      <td>36.000000</td>\n",
       "      <td>1349.000000</td>\n",
       "      <td>10.000000</td>\n",
       "      <td>21.000000</td>\n",
       "    </tr>\n",
       "    <tr>\n",
       "      <th>4</th>\n",
       "      <td>60.000000</td>\n",
       "      <td>1269.000000</td>\n",
       "      <td>1.000000</td>\n",
       "      <td>5390.000000</td>\n",
       "    </tr>\n",
       "    <tr>\n",
       "      <th>...</th>\n",
       "      <td>...</td>\n",
       "      <td>...</td>\n",
       "      <td>...</td>\n",
       "      <td>...</td>\n",
       "    </tr>\n",
       "    <tr>\n",
       "      <th>42537</th>\n",
       "      <td>36.000000</td>\n",
       "      <td>775.000000</td>\n",
       "      <td>10.000000</td>\n",
       "      <td>4425.835363</td>\n",
       "    </tr>\n",
       "    <tr>\n",
       "      <th>42538</th>\n",
       "      <td>42.207218</td>\n",
       "      <td>1216.501563</td>\n",
       "      <td>5.045289</td>\n",
       "      <td>4425.835363</td>\n",
       "    </tr>\n",
       "    <tr>\n",
       "      <th>42539</th>\n",
       "      <td>42.207218</td>\n",
       "      <td>1216.501563</td>\n",
       "      <td>5.045289</td>\n",
       "      <td>4425.835363</td>\n",
       "    </tr>\n",
       "    <tr>\n",
       "      <th>42540</th>\n",
       "      <td>42.207218</td>\n",
       "      <td>1216.501563</td>\n",
       "      <td>5.045289</td>\n",
       "      <td>4425.835363</td>\n",
       "    </tr>\n",
       "    <tr>\n",
       "      <th>42541</th>\n",
       "      <td>42.207218</td>\n",
       "      <td>1216.501563</td>\n",
       "      <td>5.045289</td>\n",
       "      <td>4425.835363</td>\n",
       "    </tr>\n",
       "  </tbody>\n",
       "</table>\n",
       "<p>42542 rows × 4 columns</p>\n",
       "</div>"
      ],
      "text/plain": [
       "            term     int_rate  emp_length   revol_util\n",
       "0      36.000000  1065.000000   10.000000  8370.000000\n",
       "1      60.000000  1527.000000    1.000000   940.000000\n",
       "2      36.000000  1596.000000   10.000000  9850.000000\n",
       "3      36.000000  1349.000000   10.000000    21.000000\n",
       "4      60.000000  1269.000000    1.000000  5390.000000\n",
       "...          ...          ...         ...          ...\n",
       "42537  36.000000   775.000000   10.000000  4425.835363\n",
       "42538  42.207218  1216.501563    5.045289  4425.835363\n",
       "42539  42.207218  1216.501563    5.045289  4425.835363\n",
       "42540  42.207218  1216.501563    5.045289  4425.835363\n",
       "42541  42.207218  1216.501563    5.045289  4425.835363\n",
       "\n",
       "[42542 rows x 4 columns]"
      ]
     },
     "execution_count": 39,
     "metadata": {},
     "output_type": "execute_result"
    }
   ],
   "source": [
    "data.loc[:,[\"term\",\"int_rate\",\"emp_length\",\"revol_util\"]]"
   ]
  },
  {
   "cell_type": "code",
   "execution_count": 28,
   "metadata": {
    "colab": {
     "base_uri": "https://localhost:8080/"
    },
    "executionInfo": {
     "elapsed": 9680,
     "status": "ok",
     "timestamp": 1620243376711,
     "user": {
      "displayName": "Ankur Patel",
      "photoUrl": "https://lh3.googleusercontent.com/a-/AOh14GjuyT9p2uQcITYiB6Ja4gdHeMPvvVZ_RNUvS_DFuY0=s64",
      "userId": "08322043083056308084"
     },
     "user_tz": 240
    },
    "id": "hDJSu02Eze52",
    "outputId": "b5f1d65a-edc4-41dc-9922-b5759526a5a2",
    "scrolled": true
   },
   "outputs": [
    {
     "data": {
      "text/plain": [
       "loan_amnt                      7\n",
       "funded_amnt                    7\n",
       "funded_amnt_inv                7\n",
       "term                           7\n",
       "int_rate                       7\n",
       "installment                    7\n",
       "emp_length                  1119\n",
       "annual_inc                    11\n",
       "dti                            7\n",
       "delinq_2yrs                   36\n",
       "mths_since_last_delinq     26933\n",
       "mths_since_last_record     38891\n",
       "open_acc                      36\n",
       "pub_rec                       36\n",
       "revol_bal                      7\n",
       "revol_util                    97\n",
       "total_acc                     36\n",
       "out_prncp                      7\n",
       "out_prncp_inv                  7\n",
       "total_pymnt                    7\n",
       "total_pymnt_inv                7\n",
       "total_rec_prncp                7\n",
       "total_rec_int                  7\n",
       "total_rec_late_fee             7\n",
       "recoveries                     7\n",
       "collection_recovery_fee        7\n",
       "last_pymnt_amnt                7\n",
       "dtype: int64"
      ]
     },
     "execution_count": 28,
     "metadata": {},
     "output_type": "execute_result"
    }
   ],
   "source": [
    "# Display NaNs by feature\n",
    "nanCounter = np.isnan(data.loc[:,numericalFeats]).sum()\n",
    "nanCounter"
   ]
  },
  {
   "cell_type": "code",
   "execution_count": null,
   "metadata": {},
   "outputs": [],
   "source": []
  },
  {
   "cell_type": "code",
   "execution_count": 29,
   "metadata": {
    "executionInfo": {
     "elapsed": 9974,
     "status": "ok",
     "timestamp": 1620243377013,
     "user": {
      "displayName": "Ankur Patel",
      "photoUrl": "https://lh3.googleusercontent.com/a-/AOh14GjuyT9p2uQcITYiB6Ja4gdHeMPvvVZ_RNUvS_DFuY0=s64",
      "userId": "08322043083056308084"
     },
     "user_tz": 240
    },
    "id": "ryzrINVuze52"
   },
   "outputs": [],
   "source": [
    "# Impute NaNs with mean \n",
    "fillWithMean = ['loan_amnt','funded_amnt','funded_amnt_inv','term', \\\n",
    "                'int_rate','installment','emp_length','annual_inc',\\\n",
    "                'dti','open_acc','revol_bal','revol_util','total_acc',\\\n",
    "                'out_prncp','out_prncp_inv','total_pymnt', \\\n",
    "                'total_pymnt_inv','total_rec_prncp','total_rec_int', \\\n",
    "                'last_pymnt_amnt']\n",
    "\n",
    "# Impute NaNs with zero\n",
    "fillWithZero = ['delinq_2yrs','mths_since_last_delinq', \\\n",
    "                'mths_since_last_record','pub_rec','total_rec_late_fee', \\\n",
    "                'recoveries','collection_recovery_fee']\n",
    "\n",
    "# Perform imputation #Replace missing values using a descriptive statistic\n",
    "#https://scikit-learn.org/stable/modules/generated/sklearn.impute.SimpleImputer.html\n",
    "#SimpleImputer(issing_values=nan, strategy='most_frequent', fill_value=None)\n",
    "\n",
    "im = impute.SimpleImputer(strategy='mean')   \n",
    "data.loc[:,fillWithMean] = im.fit_transform(data[fillWithMean])\n",
    "\n",
    "data.loc[:,fillWithZero] = data.loc[:,fillWithZero].fillna(value=0,axis=1)"
   ]
  },
  {
   "cell_type": "code",
   "execution_count": 30,
   "metadata": {
    "colab": {
     "base_uri": "https://localhost:8080/"
    },
    "executionInfo": {
     "elapsed": 9972,
     "status": "ok",
     "timestamp": 1620243377014,
     "user": {
      "displayName": "Ankur Patel",
      "photoUrl": "https://lh3.googleusercontent.com/a-/AOh14GjuyT9p2uQcITYiB6Ja4gdHeMPvvVZ_RNUvS_DFuY0=s64",
      "userId": "08322043083056308084"
     },
     "user_tz": 240
    },
    "id": "P0aHHMMAze52",
    "outputId": "dd3247ef-2346-4c17-9830-b5f0602ebf16"
   },
   "outputs": [
    {
     "data": {
      "text/plain": [
       "loan_amnt                  0\n",
       "funded_amnt                0\n",
       "funded_amnt_inv            0\n",
       "term                       0\n",
       "int_rate                   0\n",
       "installment                0\n",
       "emp_length                 0\n",
       "annual_inc                 0\n",
       "dti                        0\n",
       "delinq_2yrs                0\n",
       "mths_since_last_delinq     0\n",
       "mths_since_last_record     0\n",
       "open_acc                   0\n",
       "pub_rec                    0\n",
       "revol_bal                  0\n",
       "revol_util                 0\n",
       "total_acc                  0\n",
       "out_prncp                  0\n",
       "out_prncp_inv              0\n",
       "total_pymnt                0\n",
       "total_pymnt_inv            0\n",
       "total_rec_prncp            0\n",
       "total_rec_int              0\n",
       "total_rec_late_fee         0\n",
       "recoveries                 0\n",
       "collection_recovery_fee    0\n",
       "last_pymnt_amnt            0\n",
       "dtype: int64"
      ]
     },
     "execution_count": 30,
     "metadata": {},
     "output_type": "execute_result"
    }
   ],
   "source": [
    "# Check for NaNs one last time\n",
    "nanCounter = np.isnan(data.loc[:,numericalFeats]).sum()\n",
    "nanCounter"
   ]
  },
  {
   "cell_type": "code",
   "execution_count": 31,
   "metadata": {
    "executionInfo": {
     "elapsed": 9964,
     "status": "ok",
     "timestamp": 1620243377014,
     "user": {
      "displayName": "Ankur Patel",
      "photoUrl": "https://lh3.googleusercontent.com/a-/AOh14GjuyT9p2uQcITYiB6Ja4gdHeMPvvVZ_RNUvS_DFuY0=s64",
      "userId": "08322043083056308084"
     },
     "user_tz": 240
    },
    "id": "h9Jqs5W0ze53"
   },
   "outputs": [],
   "source": [
    "# Feature engineering\n",
    "data['installmentOverLoanAmnt'] = data.installment/data.loan_amnt\n",
    "data['loanAmntOverIncome'] = data.loan_amnt/data.annual_inc\n",
    "data['revol_balOverIncome'] = data.revol_bal/data.annual_inc\n",
    "data['totalPymntOverIncome'] = data.total_pymnt/data.annual_inc\n",
    "data['totalPymntInvOverIncome'] = data.total_pymnt_inv/data.annual_inc\n",
    "data['totalRecPrncpOverIncome'] = data.total_rec_prncp/data.annual_inc\n",
    "data['totalRecIncOverIncome'] = data.total_rec_int/data.annual_inc\n",
    "\n",
    "newFeats = ['installmentOverLoanAmnt','loanAmntOverIncome', \\\n",
    "            'revol_balOverIncome','totalPymntOverIncome', \\\n",
    "           'totalPymntInvOverIncome','totalRecPrncpOverIncome', \\\n",
    "            'totalRecIncOverIncome']"
   ]
  },
  {
   "cell_type": "code",
   "execution_count": 32,
   "metadata": {
    "executionInfo": {
     "elapsed": 10099,
     "status": "ok",
     "timestamp": 1620243377151,
     "user": {
      "displayName": "Ankur Patel",
      "photoUrl": "https://lh3.googleusercontent.com/a-/AOh14GjuyT9p2uQcITYiB6Ja4gdHeMPvvVZ_RNUvS_DFuY0=s64",
      "userId": "08322043083056308084"
     },
     "user_tz": 240
    },
    "id": "HM6AkTfpze53"
   },
   "outputs": [],
   "source": [
    "# Select features for training\n",
    "numericalPlusNewFeats = numericalFeats+newFeats\n",
    "X_train = data.loc[:,numericalPlusNewFeats]\n",
    "\n",
    "# Scale data\n",
    "sX = pp.StandardScaler()\n",
    "X_train.loc[:,:] = sX.fit_transform(X_train)"
   ]
  },
  {
   "cell_type": "code",
   "execution_count": 33,
   "metadata": {
    "colab": {
     "base_uri": "https://localhost:8080/"
    },
    "executionInfo": {
     "elapsed": 10097,
     "status": "ok",
     "timestamp": 1620243377151,
     "user": {
      "displayName": "Ankur Patel",
      "photoUrl": "https://lh3.googleusercontent.com/a-/AOh14GjuyT9p2uQcITYiB6Ja4gdHeMPvvVZ_RNUvS_DFuY0=s64",
      "userId": "08322043083056308084"
     },
     "user_tz": 240
    },
    "id": "8Kk9iqCDze53",
    "outputId": "0497ed7c-9f8a-4095-fd5a-cc6f66979756"
   },
   "outputs": [
    {
     "data": {
      "text/plain": [
       "Index(['loan_amnt', 'funded_amnt', 'funded_amnt_inv', 'term', 'int_rate',\n",
       "       'installment', 'emp_length', 'annual_inc', 'dti', 'delinq_2yrs',\n",
       "       'mths_since_last_delinq', 'mths_since_last_record', 'open_acc',\n",
       "       'pub_rec', 'revol_bal', 'revol_util', 'total_acc', 'out_prncp',\n",
       "       'out_prncp_inv', 'total_pymnt', 'total_pymnt_inv', 'total_rec_prncp',\n",
       "       'total_rec_int', 'total_rec_late_fee', 'recoveries',\n",
       "       'collection_recovery_fee', 'last_pymnt_amnt', 'installmentOverLoanAmnt',\n",
       "       'loanAmntOverIncome', 'revol_balOverIncome', 'totalPymntOverIncome',\n",
       "       'totalPymntInvOverIncome', 'totalRecPrncpOverIncome',\n",
       "       'totalRecIncOverIncome'],\n",
       "      dtype='object')"
      ]
     },
     "execution_count": 33,
     "metadata": {},
     "output_type": "execute_result"
    }
   ],
   "source": [
    "# View columns\n",
    "X_train.columns"
   ]
  },
  {
   "cell_type": "code",
   "execution_count": 34,
   "metadata": {
    "colab": {
     "base_uri": "https://localhost:8080/"
    },
    "executionInfo": {
     "elapsed": 10091,
     "status": "ok",
     "timestamp": 1620243377152,
     "user": {
      "displayName": "Ankur Patel",
      "photoUrl": "https://lh3.googleusercontent.com/a-/AOh14GjuyT9p2uQcITYiB6Ja4gdHeMPvvVZ_RNUvS_DFuY0=s64",
      "userId": "08322043083056308084"
     },
     "user_tz": 240
    },
    "id": "FQRBTlLUze53",
    "outputId": "a2783d50-26bc-4ee5-c5f8-62135fb34a33"
   },
   "outputs": [
    {
     "data": {
      "text/plain": [
       "array(['B', 'C', 'A', 'E', 'F', 'D', 'G', nan], dtype=object)"
      ]
     },
     "execution_count": 34,
     "metadata": {},
     "output_type": "execute_result"
    }
   ],
   "source": [
    "# Designate labels for evaluation\n",
    "labels = data.grade\n",
    "labels.unique()"
   ]
  },
  {
   "cell_type": "code",
   "execution_count": 35,
   "metadata": {
    "executionInfo": {
     "elapsed": 10083,
     "status": "ok",
     "timestamp": 1620243377152,
     "user": {
      "displayName": "Ankur Patel",
      "photoUrl": "https://lh3.googleusercontent.com/a-/AOh14GjuyT9p2uQcITYiB6Ja4gdHeMPvvVZ_RNUvS_DFuY0=s64",
      "userId": "08322043083056308084"
     },
     "user_tz": 240
    },
    "id": "_dPkgMW2ze54"
   },
   "outputs": [],
   "source": [
    "# Fill missing labels\n",
    "labels = labels.fillna(value=\"Z\")\n",
    "\n",
    "# Convert labels to numerical values\n",
    "lbl = pp.LabelEncoder()\n",
    "lbl.fit(list(labels.values))\n",
    "labels = pd.Series(data=lbl.transform(labels.values), name=\"grade\")\n",
    "\n",
    "# Store as y_train\n",
    "y_train = labels"
   ]
  },
  {
   "cell_type": "code",
   "execution_count": 36,
   "metadata": {
    "colab": {
     "base_uri": "https://localhost:8080/",
     "height": 427
    },
    "executionInfo": {
     "elapsed": 10165,
     "status": "ok",
     "timestamp": 1620243377237,
     "user": {
      "displayName": "Ankur Patel",
      "photoUrl": "https://lh3.googleusercontent.com/a-/AOh14GjuyT9p2uQcITYiB6Ja4gdHeMPvvVZ_RNUvS_DFuY0=s64",
      "userId": "08322043083056308084"
     },
     "user_tz": 240
    },
    "id": "pXPAXk_Sze54",
    "outputId": "7e3e77bd-865c-4a3a-fc85-3180f17cccd2",
    "scrolled": true
   },
   "outputs": [
    {
     "data": {
      "text/html": [
       "<div>\n",
       "<style scoped>\n",
       "    .dataframe tbody tr th:only-of-type {\n",
       "        vertical-align: middle;\n",
       "    }\n",
       "\n",
       "    .dataframe tbody tr th {\n",
       "        vertical-align: top;\n",
       "    }\n",
       "\n",
       "    .dataframe thead th {\n",
       "        text-align: right;\n",
       "    }\n",
       "</style>\n",
       "<table border=\"1\" class=\"dataframe\">\n",
       "  <thead>\n",
       "    <tr style=\"text-align: right;\">\n",
       "      <th></th>\n",
       "      <th>grade</th>\n",
       "      <th>grade</th>\n",
       "    </tr>\n",
       "  </thead>\n",
       "  <tbody>\n",
       "    <tr>\n",
       "      <th>0</th>\n",
       "      <td>1</td>\n",
       "      <td>B</td>\n",
       "    </tr>\n",
       "    <tr>\n",
       "      <th>1</th>\n",
       "      <td>2</td>\n",
       "      <td>C</td>\n",
       "    </tr>\n",
       "    <tr>\n",
       "      <th>2</th>\n",
       "      <td>2</td>\n",
       "      <td>C</td>\n",
       "    </tr>\n",
       "    <tr>\n",
       "      <th>3</th>\n",
       "      <td>2</td>\n",
       "      <td>C</td>\n",
       "    </tr>\n",
       "    <tr>\n",
       "      <th>4</th>\n",
       "      <td>1</td>\n",
       "      <td>B</td>\n",
       "    </tr>\n",
       "    <tr>\n",
       "      <th>...</th>\n",
       "      <td>...</td>\n",
       "      <td>...</td>\n",
       "    </tr>\n",
       "    <tr>\n",
       "      <th>42537</th>\n",
       "      <td>0</td>\n",
       "      <td>A</td>\n",
       "    </tr>\n",
       "    <tr>\n",
       "      <th>42538</th>\n",
       "      <td>7</td>\n",
       "      <td>NaN</td>\n",
       "    </tr>\n",
       "    <tr>\n",
       "      <th>42539</th>\n",
       "      <td>7</td>\n",
       "      <td>NaN</td>\n",
       "    </tr>\n",
       "    <tr>\n",
       "      <th>42540</th>\n",
       "      <td>7</td>\n",
       "      <td>NaN</td>\n",
       "    </tr>\n",
       "    <tr>\n",
       "      <th>42541</th>\n",
       "      <td>7</td>\n",
       "      <td>NaN</td>\n",
       "    </tr>\n",
       "  </tbody>\n",
       "</table>\n",
       "<p>42542 rows × 2 columns</p>\n",
       "</div>"
      ],
      "text/plain": [
       "      grade grade\n",
       "0         1     B\n",
       "1         2     C\n",
       "2         2     C\n",
       "3         2     C\n",
       "4         1     B\n",
       "...     ...   ...\n",
       "42537     0     A\n",
       "42538     7   NaN\n",
       "42539     7   NaN\n",
       "42540     7   NaN\n",
       "42541     7   NaN\n",
       "\n",
       "[42542 rows x 2 columns]"
      ]
     },
     "execution_count": 36,
     "metadata": {},
     "output_type": "execute_result"
    }
   ],
   "source": [
    "# Show numerical labels\n",
    "labelsOriginalVSNew = pd.concat([labels, data.grade],axis=1)\n",
    "labelsOriginalVSNew"
   ]
  },
  {
   "cell_type": "code",
   "execution_count": 38,
   "metadata": {
    "colab": {
     "base_uri": "https://localhost:8080/",
     "height": 334
    },
    "executionInfo": {
     "elapsed": 11559,
     "status": "ok",
     "timestamp": 1620243378639,
     "user": {
      "displayName": "Ankur Patel",
      "photoUrl": "https://lh3.googleusercontent.com/a-/AOh14GjuyT9p2uQcITYiB6Ja4gdHeMPvvVZ_RNUvS_DFuY0=s64",
      "userId": "08322043083056308084"
     },
     "user_tz": 240
    },
    "id": "qGG74Ub5ze54",
    "outputId": "5887e741-8506-4803-c341-fbede3d67c72",
    "scrolled": true
   },
   "outputs": [
    {
     "data": {
      "text/html": [
       "<div>\n",
       "<style scoped>\n",
       "    .dataframe tbody tr th:only-of-type {\n",
       "        vertical-align: middle;\n",
       "    }\n",
       "\n",
       "    .dataframe tbody tr th {\n",
       "        vertical-align: top;\n",
       "    }\n",
       "\n",
       "    .dataframe thead th {\n",
       "        text-align: right;\n",
       "    }\n",
       "</style>\n",
       "<table border=\"1\" class=\"dataframe\">\n",
       "  <thead>\n",
       "    <tr style=\"text-align: right;\">\n",
       "      <th></th>\n",
       "      <th>int_rate</th>\n",
       "    </tr>\n",
       "    <tr>\n",
       "      <th>grade</th>\n",
       "      <th></th>\n",
       "    </tr>\n",
       "  </thead>\n",
       "  <tbody>\n",
       "    <tr>\n",
       "      <th>0.0</th>\n",
       "      <td>734.270844</td>\n",
       "    </tr>\n",
       "    <tr>\n",
       "      <th>1.0</th>\n",
       "      <td>1101.420857</td>\n",
       "    </tr>\n",
       "    <tr>\n",
       "      <th>2.0</th>\n",
       "      <td>1349.988902</td>\n",
       "    </tr>\n",
       "    <tr>\n",
       "      <th>3.0</th>\n",
       "      <td>1557.714927</td>\n",
       "    </tr>\n",
       "    <tr>\n",
       "      <th>4.0</th>\n",
       "      <td>1737.676783</td>\n",
       "    </tr>\n",
       "    <tr>\n",
       "      <th>5.0</th>\n",
       "      <td>1926.530361</td>\n",
       "    </tr>\n",
       "    <tr>\n",
       "      <th>6.0</th>\n",
       "      <td>2045.125000</td>\n",
       "    </tr>\n",
       "    <tr>\n",
       "      <th>7.0</th>\n",
       "      <td>1216.501563</td>\n",
       "    </tr>\n",
       "  </tbody>\n",
       "</table>\n",
       "</div>"
      ],
      "text/plain": [
       "          int_rate\n",
       "grade             \n",
       "0.0     734.270844\n",
       "1.0    1101.420857\n",
       "2.0    1349.988902\n",
       "3.0    1557.714927\n",
       "4.0    1737.676783\n",
       "5.0    1926.530361\n",
       "6.0    2045.125000\n",
       "7.0    1216.501563"
      ]
     },
     "execution_count": 38,
     "metadata": {},
     "output_type": "execute_result"
    }
   ],
   "source": [
    "# Compare loan grades with interest rates\n",
    "# 信用評等愈高, 平均貸款利率應愈低\n",
    "interestAndGrade = pd.DataFrame(data=[data.int_rate,labels])\n",
    "interestAndGrade = interestAndGrade.T\n",
    "\n",
    "interestAndGrade.groupby(\"grade\").mean()"
   ]
  },
  {
   "cell_type": "code",
   "execution_count": 43,
   "metadata": {},
   "outputs": [
    {
     "data": {
      "text/html": [
       "<div>\n",
       "<style scoped>\n",
       "    .dataframe tbody tr th:only-of-type {\n",
       "        vertical-align: middle;\n",
       "    }\n",
       "\n",
       "    .dataframe tbody tr th {\n",
       "        vertical-align: top;\n",
       "    }\n",
       "\n",
       "    .dataframe thead th {\n",
       "        text-align: right;\n",
       "    }\n",
       "</style>\n",
       "<table border=\"1\" class=\"dataframe\">\n",
       "  <thead>\n",
       "    <tr style=\"text-align: right;\">\n",
       "      <th></th>\n",
       "      <th>int_rate</th>\n",
       "    </tr>\n",
       "  </thead>\n",
       "  <tbody>\n",
       "    <tr>\n",
       "      <th>0</th>\n",
       "      <td>-0.408626</td>\n",
       "    </tr>\n",
       "    <tr>\n",
       "      <th>1</th>\n",
       "      <td>0.837468</td>\n",
       "    </tr>\n",
       "    <tr>\n",
       "      <th>2</th>\n",
       "      <td>1.023573</td>\n",
       "    </tr>\n",
       "    <tr>\n",
       "      <th>3</th>\n",
       "      <td>0.357371</td>\n",
       "    </tr>\n",
       "    <tr>\n",
       "      <th>4</th>\n",
       "      <td>0.141597</td>\n",
       "    </tr>\n",
       "    <tr>\n",
       "      <th>...</th>\n",
       "      <td>...</td>\n",
       "    </tr>\n",
       "    <tr>\n",
       "      <th>42537</th>\n",
       "      <td>-1.190806</td>\n",
       "    </tr>\n",
       "    <tr>\n",
       "      <th>42538</th>\n",
       "      <td>0.000000</td>\n",
       "    </tr>\n",
       "    <tr>\n",
       "      <th>42539</th>\n",
       "      <td>0.000000</td>\n",
       "    </tr>\n",
       "    <tr>\n",
       "      <th>42540</th>\n",
       "      <td>0.000000</td>\n",
       "    </tr>\n",
       "    <tr>\n",
       "      <th>42541</th>\n",
       "      <td>0.000000</td>\n",
       "    </tr>\n",
       "  </tbody>\n",
       "</table>\n",
       "<p>42542 rows × 1 columns</p>\n",
       "</div>"
      ],
      "text/plain": [
       "       int_rate\n",
       "0     -0.408626\n",
       "1      0.837468\n",
       "2      1.023573\n",
       "3      0.357371\n",
       "4      0.141597\n",
       "...         ...\n",
       "42537 -1.190806\n",
       "42538  0.000000\n",
       "42539  0.000000\n",
       "42540  0.000000\n",
       "42541  0.000000\n",
       "\n",
       "[42542 rows x 1 columns]"
      ]
     },
     "execution_count": 43,
     "metadata": {},
     "output_type": "execute_result"
    }
   ],
   "source": [
    "X_train.loc[:,[\"int_rate\"]]"
   ]
  },
  {
   "cell_type": "markdown",
   "metadata": {
    "id": "MeRb6W5P9pv1"
   },
   "source": [
    "# Define Function\n",
    "```\n",
    "分在同一群的信用評等應該都是相近的.\n",
    "量化分數:\n",
    "\n",
    "(1) 群裡的相近度= 該群內評等出現最多次的數量/ 該群的總數量\n",
    "       此數值愈高, 表示群裡的同質性愈高\n",
    "       \n",
    "(2) 整體的相似度: 所有群內評等出現最多次的數量/ 所有群的總數量\n",
    "    \n",
    "```\n"
   ]
  },
  {
   "cell_type": "code",
   "execution_count": 62,
   "metadata": {
    "executionInfo": {
     "elapsed": 11551,
     "status": "ok",
     "timestamp": 1620243378639,
     "user": {
      "displayName": "Ankur Patel",
      "photoUrl": "https://lh3.googleusercontent.com/a-/AOh14GjuyT9p2uQcITYiB6Ja4gdHeMPvvVZ_RNUvS_DFuY0=s64",
      "userId": "08322043083056308084"
     },
     "user_tz": 240
    },
    "id": "gPJOcuM1ze55"
   },
   "outputs": [],
   "source": [
    "# To Analyze Goodness of the Clusters\n",
    "def analyzeCluster(clusterDF, labelsDF):\n",
    "    countByCluster = \\\n",
    "        pd.DataFrame(data=clusterDF['cluster'].value_counts())\n",
    "    countByCluster.reset_index(inplace=True,drop=False)\n",
    "    countByCluster.columns = ['cluster','clusterCount']\n",
    "        \n",
    "    preds = pd.concat([labelsDF,clusterDF], axis=1)\n",
    "    preds.columns = ['trueLabel','cluster']\n",
    "    \n",
    "    countByLabel = pd.DataFrame(data=preds.groupby('trueLabel').count())\n",
    "        \n",
    "    countMostFreq = pd.DataFrame(data=preds.groupby('cluster').agg( \\\n",
    "        lambda x:x.value_counts().iloc[0]))\n",
    "    countMostFreq.reset_index(inplace=True,drop=False)\n",
    "    countMostFreq.columns = ['cluster','countMostFrequent']\n",
    "    \n",
    "    accuracyDF = countMostFreq.merge(countByCluster, \\\n",
    "        left_on=\"cluster\",right_on=\"cluster\")\n",
    "    \n",
    "    overallAccuracy = accuracyDF.countMostFrequent.sum()/ \\\n",
    "        accuracyDF.clusterCount.sum()\n",
    "    \n",
    "    accuracyByLabel = accuracyDF.countMostFrequent/ \\\n",
    "        accuracyDF.clusterCount\n",
    "    \n",
    "    return countByCluster, countByLabel, countMostFreq, \\\n",
    "        accuracyDF, overallAccuracy, accuracyByLabel"
   ]
  },
  {
   "cell_type": "markdown",
   "metadata": {
    "id": "x5Pmp8thbeWG"
   },
   "source": [
    "# Dimensionality Reduction"
   ]
  },
  {
   "cell_type": "code",
   "execution_count": 47,
   "metadata": {
    "executionInfo": {
     "elapsed": 11671,
     "status": "ok",
     "timestamp": 1620243378760,
     "user": {
      "displayName": "Ankur Patel",
      "photoUrl": "https://lh3.googleusercontent.com/a-/AOh14GjuyT9p2uQcITYiB6Ja4gdHeMPvvVZ_RNUvS_DFuY0=s64",
      "userId": "08322043083056308084"
     },
     "user_tz": 240
    },
    "id": "wDBFMzfRbgEc"
   },
   "outputs": [],
   "source": [
    "# Principal Component Analysis\n",
    "from sklearn.decomposition import PCA\n",
    "\n",
    "n_components = 34\n",
    "whiten = False\n",
    "random_state = 2018\n",
    "\n",
    "pca = PCA(n_components=n_components, whiten=whiten, \\\n",
    "          random_state=random_state)\n",
    "\n",
    "X_train_PCA = pca.fit_transform(X_train)\n",
    "X_train_PCA = pd.DataFrame(data=X_train_PCA, index=X_train.index)"
   ]
  },
  {
   "cell_type": "code",
   "execution_count": 48,
   "metadata": {
    "executionInfo": {
     "elapsed": 11669,
     "status": "ok",
     "timestamp": 1620243378760,
     "user": {
      "displayName": "Ankur Patel",
      "photoUrl": "https://lh3.googleusercontent.com/a-/AOh14GjuyT9p2uQcITYiB6Ja4gdHeMPvvVZ_RNUvS_DFuY0=s64",
      "userId": "08322043083056308084"
     },
     "user_tz": 240
    },
    "id": "WCSJrG-abrv3"
   },
   "outputs": [],
   "source": [
    " # Log data\n",
    "from sklearn.utils import resample\n",
    "cwd = os.getcwd()\n",
    "log_dir = cwd+\"/logs/06_group_segmentation/\"\n",
    "sample = resample(y_train,replace=False,n_samples=2000,random_state=2021,stratify=y_train)\n",
    "sample.to_csv(log_dir+'labels.tsv', sep = '\\t', index=False, header=False)"
   ]
  },
  {
   "cell_type": "code",
   "execution_count": 49,
   "metadata": {
    "executionInfo": {
     "elapsed": 11768,
     "status": "ok",
     "timestamp": 1620243378860,
     "user": {
      "displayName": "Ankur Patel",
      "photoUrl": "https://lh3.googleusercontent.com/a-/AOh14GjuyT9p2uQcITYiB6Ja4gdHeMPvvVZ_RNUvS_DFuY0=s64",
      "userId": "08322043083056308084"
     },
     "user_tz": 240
    },
    "id": "kpV2kgTRwpEE"
   },
   "outputs": [],
   "source": [
    "# Write dimensions to CSV\n",
    "X_train_PCA.loc[sample.index,0:3].to_csv(log_dir+'pca_data.tsv', sep = '\\t', index=False, header=False)"
   ]
  },
  {
   "cell_type": "markdown",
   "metadata": {
    "id": "bu2TupzC9w_C"
   },
   "source": [
    "# K-means Application"
   ]
  },
  {
   "cell_type": "code",
   "execution_count": 50,
   "metadata": {
    "executionInfo": {
     "elapsed": 409359,
     "status": "ok",
     "timestamp": 1620243776453,
     "user": {
      "displayName": "Ankur Patel",
      "photoUrl": "https://lh3.googleusercontent.com/a-/AOh14GjuyT9p2uQcITYiB6Ja4gdHeMPvvVZ_RNUvS_DFuY0=s64",
      "userId": "08322043083056308084"
     },
     "user_tz": 240
    },
    "id": "eSMO_qheze55"
   },
   "outputs": [],
   "source": [
    "# Apply K-Means\n",
    "from sklearn.cluster import KMeans\n",
    "\n",
    "n_clusters = 10\n",
    "n_init = 10\n",
    "max_iter = 300\n",
    "tol = 0.0001\n",
    "random_state = 2018\n",
    "\n",
    "kmeans = KMeans(n_clusters=n_clusters, n_init=n_init, \\\n",
    "                max_iter=max_iter, tol=tol, \\\n",
    "                random_state=random_state)\n",
    "\n",
    "kMeans_inertia = pd.DataFrame(data=[],index=range(10,31), \\\n",
    "                              columns=['inertia'])\n",
    "\n",
    "overallAccuracy_kMeansDF = pd.DataFrame(data=[], \\\n",
    "    index=range(10,31),columns=['overallAccuracy'])\n",
    "\n",
    "for n_clusters in range(10,31):\n",
    "    kmeans = KMeans(n_clusters=n_clusters, n_init=n_init, \\\n",
    "                    max_iter=max_iter, tol=tol, \\\n",
    "                    random_state=random_state)\n",
    "\n",
    "    kmeans.fit(X_train_PCA)\n",
    "    kMeans_inertia.loc[n_clusters] = kmeans.inertia_\n",
    "    X_train_kmeansClustered = kmeans.predict(X_train_PCA)\n",
    "    X_train_kmeansClustered = pd.DataFrame(data= \\\n",
    "        X_train_kmeansClustered, index=X_train.index, \\\n",
    "        columns=['cluster'])\n",
    "    \n",
    "    countByCluster_kMeans, countByLabel_kMeans, \\\n",
    "    countMostFreq_kMeans, accuracyDF_kMeans, \\\n",
    "    overallAccuracy_kMeans, accuracyByLabel_kMeans = \\\n",
    "    analyzeCluster(X_train_kmeansClustered, y_train)\n",
    "    \n",
    "    overallAccuracy_kMeansDF.loc[n_clusters] = \\\n",
    "        overallAccuracy_kMeans"
   ]
  },
  {
   "cell_type": "code",
   "execution_count": 52,
   "metadata": {},
   "outputs": [],
   "source": [
    "clusterDF=X_train_kmeansClustered\n",
    "labelsDF=y_train"
   ]
  },
  {
   "cell_type": "code",
   "execution_count": 54,
   "metadata": {},
   "outputs": [
    {
     "data": {
      "text/plain": [
       "0        1\n",
       "1        2\n",
       "2        2\n",
       "3        2\n",
       "4        1\n",
       "        ..\n",
       "42537    0\n",
       "42538    7\n",
       "42539    7\n",
       "42540    7\n",
       "42541    7\n",
       "Name: grade, Length: 42542, dtype: int32"
      ]
     },
     "execution_count": 54,
     "metadata": {},
     "output_type": "execute_result"
    }
   ],
   "source": [
    "labelsDF"
   ]
  },
  {
   "cell_type": "code",
   "execution_count": 53,
   "metadata": {},
   "outputs": [
    {
     "data": {
      "text/html": [
       "<div>\n",
       "<style scoped>\n",
       "    .dataframe tbody tr th:only-of-type {\n",
       "        vertical-align: middle;\n",
       "    }\n",
       "\n",
       "    .dataframe tbody tr th {\n",
       "        vertical-align: top;\n",
       "    }\n",
       "\n",
       "    .dataframe thead th {\n",
       "        text-align: right;\n",
       "    }\n",
       "</style>\n",
       "<table border=\"1\" class=\"dataframe\">\n",
       "  <thead>\n",
       "    <tr style=\"text-align: right;\">\n",
       "      <th></th>\n",
       "      <th>cluster</th>\n",
       "    </tr>\n",
       "  </thead>\n",
       "  <tbody>\n",
       "    <tr>\n",
       "      <th>0</th>\n",
       "      <td>4</td>\n",
       "    </tr>\n",
       "    <tr>\n",
       "      <th>1</th>\n",
       "      <td>10</td>\n",
       "    </tr>\n",
       "    <tr>\n",
       "      <th>2</th>\n",
       "      <td>29</td>\n",
       "    </tr>\n",
       "    <tr>\n",
       "      <th>3</th>\n",
       "      <td>20</td>\n",
       "    </tr>\n",
       "    <tr>\n",
       "      <th>4</th>\n",
       "      <td>10</td>\n",
       "    </tr>\n",
       "    <tr>\n",
       "      <th>...</th>\n",
       "      <td>...</td>\n",
       "    </tr>\n",
       "    <tr>\n",
       "      <th>42537</th>\n",
       "      <td>28</td>\n",
       "    </tr>\n",
       "    <tr>\n",
       "      <th>42538</th>\n",
       "      <td>9</td>\n",
       "    </tr>\n",
       "    <tr>\n",
       "      <th>42539</th>\n",
       "      <td>9</td>\n",
       "    </tr>\n",
       "    <tr>\n",
       "      <th>42540</th>\n",
       "      <td>9</td>\n",
       "    </tr>\n",
       "    <tr>\n",
       "      <th>42541</th>\n",
       "      <td>9</td>\n",
       "    </tr>\n",
       "  </tbody>\n",
       "</table>\n",
       "<p>42542 rows × 1 columns</p>\n",
       "</div>"
      ],
      "text/plain": [
       "       cluster\n",
       "0            4\n",
       "1           10\n",
       "2           29\n",
       "3           20\n",
       "4           10\n",
       "...        ...\n",
       "42537       28\n",
       "42538        9\n",
       "42539        9\n",
       "42540        9\n",
       "42541        9\n",
       "\n",
       "[42542 rows x 1 columns]"
      ]
     },
     "execution_count": 53,
     "metadata": {},
     "output_type": "execute_result"
    }
   ],
   "source": [
    "clusterDF"
   ]
  },
  {
   "cell_type": "code",
   "execution_count": 55,
   "metadata": {},
   "outputs": [],
   "source": [
    "# To Analyze Goodness of the Clusters\n",
    "countByCluster = \\\n",
    "    pd.DataFrame(data=clusterDF['cluster'].value_counts())\n",
    "countByCluster.reset_index(inplace=True,drop=False)\n",
    "countByCluster.columns = ['cluster','clusterCount']\n",
    "\n",
    "preds = pd.concat([labelsDF,clusterDF], axis=1)\n",
    "preds.columns = ['trueLabel','cluster']\n",
    "\n",
    "countByLabel = pd.DataFrame(data=preds.groupby('trueLabel').count())\n",
    "\n",
    "countMostFreq = pd.DataFrame(data=preds.groupby('cluster').agg( \\\n",
    "    lambda x:x.value_counts().iloc[0]))\n",
    "countMostFreq.reset_index(inplace=True,drop=False)\n",
    "countMostFreq.columns = ['cluster','countMostFrequent']\n",
    "\n",
    "accuracyDF = countMostFreq.merge(countByCluster, \\\n",
    "    left_on=\"cluster\",right_on=\"cluster\")\n",
    "\n",
    "overallAccuracy = accuracyDF.countMostFrequent.sum()/ \\\n",
    "    accuracyDF.clusterCount.sum()\n",
    "\n",
    "accuracyByLabel = accuracyDF.countMostFrequent/ \\\n",
    "    accuracyDF.clusterCount\n"
   ]
  },
  {
   "cell_type": "code",
   "execution_count": 56,
   "metadata": {},
   "outputs": [
    {
     "data": {
      "text/html": [
       "<div>\n",
       "<style scoped>\n",
       "    .dataframe tbody tr th:only-of-type {\n",
       "        vertical-align: middle;\n",
       "    }\n",
       "\n",
       "    .dataframe tbody tr th {\n",
       "        vertical-align: top;\n",
       "    }\n",
       "\n",
       "    .dataframe thead th {\n",
       "        text-align: right;\n",
       "    }\n",
       "</style>\n",
       "<table border=\"1\" class=\"dataframe\">\n",
       "  <thead>\n",
       "    <tr style=\"text-align: right;\">\n",
       "      <th></th>\n",
       "      <th>cluster</th>\n",
       "      <th>clusterCount</th>\n",
       "    </tr>\n",
       "  </thead>\n",
       "  <tbody>\n",
       "    <tr>\n",
       "      <th>0</th>\n",
       "      <td>28</td>\n",
       "      <td>3878</td>\n",
       "    </tr>\n",
       "    <tr>\n",
       "      <th>1</th>\n",
       "      <td>29</td>\n",
       "      <td>3207</td>\n",
       "    </tr>\n",
       "    <tr>\n",
       "      <th>2</th>\n",
       "      <td>9</td>\n",
       "      <td>2687</td>\n",
       "    </tr>\n",
       "    <tr>\n",
       "      <th>3</th>\n",
       "      <td>4</td>\n",
       "      <td>2662</td>\n",
       "    </tr>\n",
       "    <tr>\n",
       "      <th>4</th>\n",
       "      <td>10</td>\n",
       "      <td>2614</td>\n",
       "    </tr>\n",
       "    <tr>\n",
       "      <th>5</th>\n",
       "      <td>3</td>\n",
       "      <td>2609</td>\n",
       "    </tr>\n",
       "    <tr>\n",
       "      <th>6</th>\n",
       "      <td>6</td>\n",
       "      <td>2598</td>\n",
       "    </tr>\n",
       "    <tr>\n",
       "      <th>7</th>\n",
       "      <td>7</td>\n",
       "      <td>2537</td>\n",
       "    </tr>\n",
       "    <tr>\n",
       "      <th>8</th>\n",
       "      <td>12</td>\n",
       "      <td>2523</td>\n",
       "    </tr>\n",
       "    <tr>\n",
       "      <th>9</th>\n",
       "      <td>26</td>\n",
       "      <td>2077</td>\n",
       "    </tr>\n",
       "    <tr>\n",
       "      <th>10</th>\n",
       "      <td>20</td>\n",
       "      <td>1660</td>\n",
       "    </tr>\n",
       "    <tr>\n",
       "      <th>11</th>\n",
       "      <td>2</td>\n",
       "      <td>1617</td>\n",
       "    </tr>\n",
       "    <tr>\n",
       "      <th>12</th>\n",
       "      <td>22</td>\n",
       "      <td>1578</td>\n",
       "    </tr>\n",
       "    <tr>\n",
       "      <th>13</th>\n",
       "      <td>13</td>\n",
       "      <td>1545</td>\n",
       "    </tr>\n",
       "    <tr>\n",
       "      <th>14</th>\n",
       "      <td>21</td>\n",
       "      <td>1206</td>\n",
       "    </tr>\n",
       "    <tr>\n",
       "      <th>15</th>\n",
       "      <td>1</td>\n",
       "      <td>1135</td>\n",
       "    </tr>\n",
       "    <tr>\n",
       "      <th>16</th>\n",
       "      <td>25</td>\n",
       "      <td>1020</td>\n",
       "    </tr>\n",
       "    <tr>\n",
       "      <th>17</th>\n",
       "      <td>11</td>\n",
       "      <td>986</td>\n",
       "    </tr>\n",
       "    <tr>\n",
       "      <th>18</th>\n",
       "      <td>16</td>\n",
       "      <td>868</td>\n",
       "    </tr>\n",
       "    <tr>\n",
       "      <th>19</th>\n",
       "      <td>0</td>\n",
       "      <td>838</td>\n",
       "    </tr>\n",
       "    <tr>\n",
       "      <th>20</th>\n",
       "      <td>5</td>\n",
       "      <td>699</td>\n",
       "    </tr>\n",
       "    <tr>\n",
       "      <th>21</th>\n",
       "      <td>14</td>\n",
       "      <td>581</td>\n",
       "    </tr>\n",
       "    <tr>\n",
       "      <th>22</th>\n",
       "      <td>23</td>\n",
       "      <td>549</td>\n",
       "    </tr>\n",
       "    <tr>\n",
       "      <th>23</th>\n",
       "      <td>19</td>\n",
       "      <td>378</td>\n",
       "    </tr>\n",
       "    <tr>\n",
       "      <th>24</th>\n",
       "      <td>17</td>\n",
       "      <td>214</td>\n",
       "    </tr>\n",
       "    <tr>\n",
       "      <th>25</th>\n",
       "      <td>18</td>\n",
       "      <td>112</td>\n",
       "    </tr>\n",
       "    <tr>\n",
       "      <th>26</th>\n",
       "      <td>15</td>\n",
       "      <td>84</td>\n",
       "    </tr>\n",
       "    <tr>\n",
       "      <th>27</th>\n",
       "      <td>27</td>\n",
       "      <td>58</td>\n",
       "    </tr>\n",
       "    <tr>\n",
       "      <th>28</th>\n",
       "      <td>8</td>\n",
       "      <td>20</td>\n",
       "    </tr>\n",
       "    <tr>\n",
       "      <th>29</th>\n",
       "      <td>24</td>\n",
       "      <td>2</td>\n",
       "    </tr>\n",
       "  </tbody>\n",
       "</table>\n",
       "</div>"
      ],
      "text/plain": [
       "    cluster  clusterCount\n",
       "0        28          3878\n",
       "1        29          3207\n",
       "2         9          2687\n",
       "3         4          2662\n",
       "4        10          2614\n",
       "5         3          2609\n",
       "6         6          2598\n",
       "7         7          2537\n",
       "8        12          2523\n",
       "9        26          2077\n",
       "10       20          1660\n",
       "11        2          1617\n",
       "12       22          1578\n",
       "13       13          1545\n",
       "14       21          1206\n",
       "15        1          1135\n",
       "16       25          1020\n",
       "17       11           986\n",
       "18       16           868\n",
       "19        0           838\n",
       "20        5           699\n",
       "21       14           581\n",
       "22       23           549\n",
       "23       19           378\n",
       "24       17           214\n",
       "25       18           112\n",
       "26       15            84\n",
       "27       27            58\n",
       "28        8            20\n",
       "29       24             2"
      ]
     },
     "execution_count": 56,
     "metadata": {},
     "output_type": "execute_result"
    }
   ],
   "source": [
    "countByCluster #各群內的資料筆數"
   ]
  },
  {
   "cell_type": "code",
   "execution_count": 58,
   "metadata": {},
   "outputs": [
    {
     "data": {
      "text/html": [
       "<div>\n",
       "<style scoped>\n",
       "    .dataframe tbody tr th:only-of-type {\n",
       "        vertical-align: middle;\n",
       "    }\n",
       "\n",
       "    .dataframe tbody tr th {\n",
       "        vertical-align: top;\n",
       "    }\n",
       "\n",
       "    .dataframe thead th {\n",
       "        text-align: right;\n",
       "    }\n",
       "</style>\n",
       "<table border=\"1\" class=\"dataframe\">\n",
       "  <thead>\n",
       "    <tr style=\"text-align: right;\">\n",
       "      <th></th>\n",
       "      <th>cluster</th>\n",
       "      <th>countMostFrequent</th>\n",
       "    </tr>\n",
       "  </thead>\n",
       "  <tbody>\n",
       "    <tr>\n",
       "      <th>0</th>\n",
       "      <td>0</td>\n",
       "      <td>241</td>\n",
       "    </tr>\n",
       "    <tr>\n",
       "      <th>1</th>\n",
       "      <td>1</td>\n",
       "      <td>274</td>\n",
       "    </tr>\n",
       "    <tr>\n",
       "      <th>2</th>\n",
       "      <td>2</td>\n",
       "      <td>647</td>\n",
       "    </tr>\n",
       "    <tr>\n",
       "      <th>3</th>\n",
       "      <td>3</td>\n",
       "      <td>901</td>\n",
       "    </tr>\n",
       "    <tr>\n",
       "      <th>4</th>\n",
       "      <td>4</td>\n",
       "      <td>1336</td>\n",
       "    </tr>\n",
       "    <tr>\n",
       "      <th>5</th>\n",
       "      <td>5</td>\n",
       "      <td>182</td>\n",
       "    </tr>\n",
       "    <tr>\n",
       "      <th>6</th>\n",
       "      <td>6</td>\n",
       "      <td>1295</td>\n",
       "    </tr>\n",
       "    <tr>\n",
       "      <th>7</th>\n",
       "      <td>7</td>\n",
       "      <td>852</td>\n",
       "    </tr>\n",
       "    <tr>\n",
       "      <th>8</th>\n",
       "      <td>8</td>\n",
       "      <td>6</td>\n",
       "    </tr>\n",
       "    <tr>\n",
       "      <th>9</th>\n",
       "      <td>9</td>\n",
       "      <td>1801</td>\n",
       "    </tr>\n",
       "    <tr>\n",
       "      <th>10</th>\n",
       "      <td>10</td>\n",
       "      <td>706</td>\n",
       "    </tr>\n",
       "    <tr>\n",
       "      <th>11</th>\n",
       "      <td>11</td>\n",
       "      <td>371</td>\n",
       "    </tr>\n",
       "    <tr>\n",
       "      <th>12</th>\n",
       "      <td>12</td>\n",
       "      <td>875</td>\n",
       "    </tr>\n",
       "    <tr>\n",
       "      <th>13</th>\n",
       "      <td>13</td>\n",
       "      <td>574</td>\n",
       "    </tr>\n",
       "    <tr>\n",
       "      <th>14</th>\n",
       "      <td>14</td>\n",
       "      <td>153</td>\n",
       "    </tr>\n",
       "    <tr>\n",
       "      <th>15</th>\n",
       "      <td>15</td>\n",
       "      <td>25</td>\n",
       "    </tr>\n",
       "    <tr>\n",
       "      <th>16</th>\n",
       "      <td>16</td>\n",
       "      <td>199</td>\n",
       "    </tr>\n",
       "    <tr>\n",
       "      <th>17</th>\n",
       "      <td>17</td>\n",
       "      <td>46</td>\n",
       "    </tr>\n",
       "    <tr>\n",
       "      <th>18</th>\n",
       "      <td>18</td>\n",
       "      <td>28</td>\n",
       "    </tr>\n",
       "    <tr>\n",
       "      <th>19</th>\n",
       "      <td>19</td>\n",
       "      <td>103</td>\n",
       "    </tr>\n",
       "    <tr>\n",
       "      <th>20</th>\n",
       "      <td>20</td>\n",
       "      <td>519</td>\n",
       "    </tr>\n",
       "    <tr>\n",
       "      <th>21</th>\n",
       "      <td>21</td>\n",
       "      <td>294</td>\n",
       "    </tr>\n",
       "    <tr>\n",
       "      <th>22</th>\n",
       "      <td>22</td>\n",
       "      <td>517</td>\n",
       "    </tr>\n",
       "    <tr>\n",
       "      <th>23</th>\n",
       "      <td>23</td>\n",
       "      <td>169</td>\n",
       "    </tr>\n",
       "    <tr>\n",
       "      <th>24</th>\n",
       "      <td>24</td>\n",
       "      <td>1</td>\n",
       "    </tr>\n",
       "    <tr>\n",
       "      <th>25</th>\n",
       "      <td>25</td>\n",
       "      <td>326</td>\n",
       "    </tr>\n",
       "    <tr>\n",
       "      <th>26</th>\n",
       "      <td>26</td>\n",
       "      <td>678</td>\n",
       "    </tr>\n",
       "    <tr>\n",
       "      <th>27</th>\n",
       "      <td>27</td>\n",
       "      <td>11</td>\n",
       "    </tr>\n",
       "    <tr>\n",
       "      <th>28</th>\n",
       "      <td>28</td>\n",
       "      <td>2183</td>\n",
       "    </tr>\n",
       "    <tr>\n",
       "      <th>29</th>\n",
       "      <td>29</td>\n",
       "      <td>1036</td>\n",
       "    </tr>\n",
       "  </tbody>\n",
       "</table>\n",
       "</div>"
      ],
      "text/plain": [
       "    cluster  countMostFrequent\n",
       "0         0                241\n",
       "1         1                274\n",
       "2         2                647\n",
       "3         3                901\n",
       "4         4               1336\n",
       "5         5                182\n",
       "6         6               1295\n",
       "7         7                852\n",
       "8         8                  6\n",
       "9         9               1801\n",
       "10       10                706\n",
       "11       11                371\n",
       "12       12                875\n",
       "13       13                574\n",
       "14       14                153\n",
       "15       15                 25\n",
       "16       16                199\n",
       "17       17                 46\n",
       "18       18                 28\n",
       "19       19                103\n",
       "20       20                519\n",
       "21       21                294\n",
       "22       22                517\n",
       "23       23                169\n",
       "24       24                  1\n",
       "25       25                326\n",
       "26       26                678\n",
       "27       27                 11\n",
       "28       28               2183\n",
       "29       29               1036"
      ]
     },
     "execution_count": 58,
     "metadata": {},
     "output_type": "execute_result"
    }
   ],
   "source": [
    "countMostFreq #各群內同出現最多次的grade的數量\n",
    "  "
   ]
  },
  {
   "cell_type": "code",
   "execution_count": 59,
   "metadata": {
    "scrolled": true
   },
   "outputs": [
    {
     "data": {
      "text/html": [
       "<div>\n",
       "<style scoped>\n",
       "    .dataframe tbody tr th:only-of-type {\n",
       "        vertical-align: middle;\n",
       "    }\n",
       "\n",
       "    .dataframe tbody tr th {\n",
       "        vertical-align: top;\n",
       "    }\n",
       "\n",
       "    .dataframe thead th {\n",
       "        text-align: right;\n",
       "    }\n",
       "</style>\n",
       "<table border=\"1\" class=\"dataframe\">\n",
       "  <thead>\n",
       "    <tr style=\"text-align: right;\">\n",
       "      <th></th>\n",
       "      <th>cluster</th>\n",
       "      <th>countMostFrequent</th>\n",
       "      <th>clusterCount</th>\n",
       "    </tr>\n",
       "  </thead>\n",
       "  <tbody>\n",
       "    <tr>\n",
       "      <th>0</th>\n",
       "      <td>0</td>\n",
       "      <td>241</td>\n",
       "      <td>838</td>\n",
       "    </tr>\n",
       "    <tr>\n",
       "      <th>1</th>\n",
       "      <td>1</td>\n",
       "      <td>274</td>\n",
       "      <td>1135</td>\n",
       "    </tr>\n",
       "    <tr>\n",
       "      <th>2</th>\n",
       "      <td>2</td>\n",
       "      <td>647</td>\n",
       "      <td>1617</td>\n",
       "    </tr>\n",
       "    <tr>\n",
       "      <th>3</th>\n",
       "      <td>3</td>\n",
       "      <td>901</td>\n",
       "      <td>2609</td>\n",
       "    </tr>\n",
       "    <tr>\n",
       "      <th>4</th>\n",
       "      <td>4</td>\n",
       "      <td>1336</td>\n",
       "      <td>2662</td>\n",
       "    </tr>\n",
       "    <tr>\n",
       "      <th>5</th>\n",
       "      <td>5</td>\n",
       "      <td>182</td>\n",
       "      <td>699</td>\n",
       "    </tr>\n",
       "    <tr>\n",
       "      <th>6</th>\n",
       "      <td>6</td>\n",
       "      <td>1295</td>\n",
       "      <td>2598</td>\n",
       "    </tr>\n",
       "    <tr>\n",
       "      <th>7</th>\n",
       "      <td>7</td>\n",
       "      <td>852</td>\n",
       "      <td>2537</td>\n",
       "    </tr>\n",
       "    <tr>\n",
       "      <th>8</th>\n",
       "      <td>8</td>\n",
       "      <td>6</td>\n",
       "      <td>20</td>\n",
       "    </tr>\n",
       "    <tr>\n",
       "      <th>9</th>\n",
       "      <td>9</td>\n",
       "      <td>1801</td>\n",
       "      <td>2687</td>\n",
       "    </tr>\n",
       "    <tr>\n",
       "      <th>10</th>\n",
       "      <td>10</td>\n",
       "      <td>706</td>\n",
       "      <td>2614</td>\n",
       "    </tr>\n",
       "    <tr>\n",
       "      <th>11</th>\n",
       "      <td>11</td>\n",
       "      <td>371</td>\n",
       "      <td>986</td>\n",
       "    </tr>\n",
       "    <tr>\n",
       "      <th>12</th>\n",
       "      <td>12</td>\n",
       "      <td>875</td>\n",
       "      <td>2523</td>\n",
       "    </tr>\n",
       "    <tr>\n",
       "      <th>13</th>\n",
       "      <td>13</td>\n",
       "      <td>574</td>\n",
       "      <td>1545</td>\n",
       "    </tr>\n",
       "    <tr>\n",
       "      <th>14</th>\n",
       "      <td>14</td>\n",
       "      <td>153</td>\n",
       "      <td>581</td>\n",
       "    </tr>\n",
       "    <tr>\n",
       "      <th>15</th>\n",
       "      <td>15</td>\n",
       "      <td>25</td>\n",
       "      <td>84</td>\n",
       "    </tr>\n",
       "    <tr>\n",
       "      <th>16</th>\n",
       "      <td>16</td>\n",
       "      <td>199</td>\n",
       "      <td>868</td>\n",
       "    </tr>\n",
       "    <tr>\n",
       "      <th>17</th>\n",
       "      <td>17</td>\n",
       "      <td>46</td>\n",
       "      <td>214</td>\n",
       "    </tr>\n",
       "    <tr>\n",
       "      <th>18</th>\n",
       "      <td>18</td>\n",
       "      <td>28</td>\n",
       "      <td>112</td>\n",
       "    </tr>\n",
       "    <tr>\n",
       "      <th>19</th>\n",
       "      <td>19</td>\n",
       "      <td>103</td>\n",
       "      <td>378</td>\n",
       "    </tr>\n",
       "    <tr>\n",
       "      <th>20</th>\n",
       "      <td>20</td>\n",
       "      <td>519</td>\n",
       "      <td>1660</td>\n",
       "    </tr>\n",
       "    <tr>\n",
       "      <th>21</th>\n",
       "      <td>21</td>\n",
       "      <td>294</td>\n",
       "      <td>1206</td>\n",
       "    </tr>\n",
       "    <tr>\n",
       "      <th>22</th>\n",
       "      <td>22</td>\n",
       "      <td>517</td>\n",
       "      <td>1578</td>\n",
       "    </tr>\n",
       "    <tr>\n",
       "      <th>23</th>\n",
       "      <td>23</td>\n",
       "      <td>169</td>\n",
       "      <td>549</td>\n",
       "    </tr>\n",
       "    <tr>\n",
       "      <th>24</th>\n",
       "      <td>24</td>\n",
       "      <td>1</td>\n",
       "      <td>2</td>\n",
       "    </tr>\n",
       "    <tr>\n",
       "      <th>25</th>\n",
       "      <td>25</td>\n",
       "      <td>326</td>\n",
       "      <td>1020</td>\n",
       "    </tr>\n",
       "    <tr>\n",
       "      <th>26</th>\n",
       "      <td>26</td>\n",
       "      <td>678</td>\n",
       "      <td>2077</td>\n",
       "    </tr>\n",
       "    <tr>\n",
       "      <th>27</th>\n",
       "      <td>27</td>\n",
       "      <td>11</td>\n",
       "      <td>58</td>\n",
       "    </tr>\n",
       "    <tr>\n",
       "      <th>28</th>\n",
       "      <td>28</td>\n",
       "      <td>2183</td>\n",
       "      <td>3878</td>\n",
       "    </tr>\n",
       "    <tr>\n",
       "      <th>29</th>\n",
       "      <td>29</td>\n",
       "      <td>1036</td>\n",
       "      <td>3207</td>\n",
       "    </tr>\n",
       "  </tbody>\n",
       "</table>\n",
       "</div>"
      ],
      "text/plain": [
       "    cluster  countMostFrequent  clusterCount\n",
       "0         0                241           838\n",
       "1         1                274          1135\n",
       "2         2                647          1617\n",
       "3         3                901          2609\n",
       "4         4               1336          2662\n",
       "5         5                182           699\n",
       "6         6               1295          2598\n",
       "7         7                852          2537\n",
       "8         8                  6            20\n",
       "9         9               1801          2687\n",
       "10       10                706          2614\n",
       "11       11                371           986\n",
       "12       12                875          2523\n",
       "13       13                574          1545\n",
       "14       14                153           581\n",
       "15       15                 25            84\n",
       "16       16                199           868\n",
       "17       17                 46           214\n",
       "18       18                 28           112\n",
       "19       19                103           378\n",
       "20       20                519          1660\n",
       "21       21                294          1206\n",
       "22       22                517          1578\n",
       "23       23                169           549\n",
       "24       24                  1             2\n",
       "25       25                326          1020\n",
       "26       26                678          2077\n",
       "27       27                 11            58\n",
       "28       28               2183          3878\n",
       "29       29               1036          3207"
      ]
     },
     "execution_count": 59,
     "metadata": {},
     "output_type": "execute_result"
    }
   ],
   "source": [
    "accuracyDF"
   ]
  },
  {
   "cell_type": "code",
   "execution_count": 61,
   "metadata": {},
   "outputs": [
    {
     "data": {
      "text/plain": [
       "0     0.287589\n",
       "1     0.241410\n",
       "2     0.400124\n",
       "3     0.345343\n",
       "4     0.501878\n",
       "5     0.260372\n",
       "6     0.498460\n",
       "7     0.335830\n",
       "8     0.300000\n",
       "9     0.670264\n",
       "10    0.270084\n",
       "11    0.376268\n",
       "12    0.346809\n",
       "13    0.371521\n",
       "14    0.263339\n",
       "15    0.297619\n",
       "16    0.229263\n",
       "17    0.214953\n",
       "18    0.250000\n",
       "19    0.272487\n",
       "20    0.312651\n",
       "21    0.243781\n",
       "22    0.327630\n",
       "23    0.307832\n",
       "24    0.500000\n",
       "25    0.319608\n",
       "26    0.326432\n",
       "27    0.189655\n",
       "28    0.562919\n",
       "29    0.323043\n",
       "dtype: float64"
      ]
     },
     "execution_count": 61,
     "metadata": {},
     "output_type": "execute_result"
    }
   ],
   "source": [
    "accuracyByLabel"
   ]
  },
  {
   "cell_type": "code",
   "execution_count": 60,
   "metadata": {},
   "outputs": [
    {
     "data": {
      "text/plain": [
       "0.3843025715763246"
      ]
     },
     "execution_count": 60,
     "metadata": {},
     "output_type": "execute_result"
    }
   ],
   "source": [
    "overallAccuracy"
   ]
  },
  {
   "cell_type": "code",
   "execution_count": 57,
   "metadata": {},
   "outputs": [
    {
     "data": {
      "text/html": [
       "<div>\n",
       "<style scoped>\n",
       "    .dataframe tbody tr th:only-of-type {\n",
       "        vertical-align: middle;\n",
       "    }\n",
       "\n",
       "    .dataframe tbody tr th {\n",
       "        vertical-align: top;\n",
       "    }\n",
       "\n",
       "    .dataframe thead th {\n",
       "        text-align: right;\n",
       "    }\n",
       "</style>\n",
       "<table border=\"1\" class=\"dataframe\">\n",
       "  <thead>\n",
       "    <tr style=\"text-align: right;\">\n",
       "      <th></th>\n",
       "      <th>cluster</th>\n",
       "    </tr>\n",
       "    <tr>\n",
       "      <th>trueLabel</th>\n",
       "      <th></th>\n",
       "    </tr>\n",
       "  </thead>\n",
       "  <tbody>\n",
       "    <tr>\n",
       "      <th>0</th>\n",
       "      <td>10183</td>\n",
       "    </tr>\n",
       "    <tr>\n",
       "      <th>1</th>\n",
       "      <td>12389</td>\n",
       "    </tr>\n",
       "    <tr>\n",
       "      <th>2</th>\n",
       "      <td>8740</td>\n",
       "    </tr>\n",
       "    <tr>\n",
       "      <th>3</th>\n",
       "      <td>6016</td>\n",
       "    </tr>\n",
       "    <tr>\n",
       "      <th>4</th>\n",
       "      <td>3394</td>\n",
       "    </tr>\n",
       "    <tr>\n",
       "      <th>5</th>\n",
       "      <td>1301</td>\n",
       "    </tr>\n",
       "    <tr>\n",
       "      <th>6</th>\n",
       "      <td>512</td>\n",
       "    </tr>\n",
       "    <tr>\n",
       "      <th>7</th>\n",
       "      <td>7</td>\n",
       "    </tr>\n",
       "  </tbody>\n",
       "</table>\n",
       "</div>"
      ],
      "text/plain": [
       "           cluster\n",
       "trueLabel         \n",
       "0            10183\n",
       "1            12389\n",
       "2             8740\n",
       "3             6016\n",
       "4             3394\n",
       "5             1301\n",
       "6              512\n",
       "7                7"
      ]
     },
     "execution_count": 57,
     "metadata": {},
     "output_type": "execute_result"
    }
   ],
   "source": [
    "countByLabel #y grade level ,A~G的數量"
   ]
  },
  {
   "cell_type": "code",
   "execution_count": 51,
   "metadata": {
    "colab": {
     "base_uri": "https://localhost:8080/",
     "height": 283
    },
    "executionInfo": {
     "elapsed": 409687,
     "status": "ok",
     "timestamp": 1620243776783,
     "user": {
      "displayName": "Ankur Patel",
      "photoUrl": "https://lh3.googleusercontent.com/a-/AOh14GjuyT9p2uQcITYiB6Ja4gdHeMPvvVZ_RNUvS_DFuY0=s64",
      "userId": "08322043083056308084"
     },
     "user_tz": 240
    },
    "id": "s0pVrIDCze56",
    "outputId": "c019b4bc-cc1c-495e-9f98-00fa4c522201"
   },
   "outputs": [
    {
     "data": {
      "text/plain": [
       "<Axes: >"
      ]
     },
     "execution_count": 51,
     "metadata": {},
     "output_type": "execute_result"
    },
    {
     "data": {
      "image/png": "[encoded data removed]",
      "text/plain": [
       "<Figure size 432x288 with 1 Axes>"
      ]
     },
     "metadata": {
      "needs_background": "light"
     },
     "output_type": "display_data"
    }
   ],
   "source": [
    "# View plot\n",
    "#當10~30群,分別觀察其 OverallAccuracy.\n",
    "#K=30群, 整體而言，各群的同質性是最高的\n",
    "overallAccuracy_kMeansDF.plot()"
   ]
  },
  {
   "cell_type": "code",
   "execution_count": 64,
   "metadata": {
    "colab": {
     "base_uri": "https://localhost:8080/"
    },
    "executionInfo": {
     "elapsed": 409679,
     "status": "ok",
     "timestamp": 1620243776783,
     "user": {
      "displayName": "Ankur Patel",
      "photoUrl": "https://lh3.googleusercontent.com/a-/AOh14GjuyT9p2uQcITYiB6Ja4gdHeMPvvVZ_RNUvS_DFuY0=s64",
      "userId": "08322043083056308084"
     },
     "user_tz": 240
    },
    "id": "ezwMaAyGze56",
    "outputId": "bfe0a011-1704-43e8-afe7-8a6804f6398f"
   },
   "outputs": [
    {
     "data": {
      "text/plain": [
       "0     0.287589\n",
       "1     0.241410\n",
       "2     0.400124\n",
       "3     0.345343\n",
       "4     0.501878\n",
       "5     0.260372\n",
       "6     0.498460\n",
       "7     0.335830\n",
       "8     0.300000\n",
       "9     0.670264\n",
       "10    0.270084\n",
       "11    0.376268\n",
       "12    0.346809\n",
       "13    0.371521\n",
       "14    0.263339\n",
       "15    0.297619\n",
       "16    0.229263\n",
       "17    0.214953\n",
       "18    0.250000\n",
       "19    0.272487\n",
       "20    0.312651\n",
       "21    0.243781\n",
       "22    0.327630\n",
       "23    0.307832\n",
       "24    0.500000\n",
       "25    0.319608\n",
       "26    0.326432\n",
       "27    0.189655\n",
       "28    0.562919\n",
       "29    0.323043\n",
       "dtype: float64"
      ]
     },
     "execution_count": 64,
     "metadata": {},
     "output_type": "execute_result"
    }
   ],
   "source": [
    "# View accuracy by cluster\n",
    "accuracyByLabel_kMeans"
   ]
  },
  {
   "cell_type": "code",
   "execution_count": 27,
   "metadata": {
    "executionInfo": {
     "elapsed": 409671,
     "status": "ok",
     "timestamp": 1620243776783,
     "user": {
      "displayName": "Ankur Patel",
      "photoUrl": "https://lh3.googleusercontent.com/a-/AOh14GjuyT9p2uQcITYiB6Ja4gdHeMPvvVZ_RNUvS_DFuY0=s64",
      "userId": "08322043083056308084"
     },
     "user_tz": 240
    },
    "id": "cMsXioCktQt6"
   },
   "outputs": [],
   "source": [
    "# Save cluster labels\n",
    "X_train_kmeansClustered.loc[sample.index].to_csv(log_dir+'kmeans_cluster_labels.tsv', sep = '\\t', index=False, header=False)"
   ]
  },
  {
   "cell_type": "markdown",
   "metadata": {
    "id": "YSa_4F6b98_V"
   },
   "source": [
    "# Hierarchical Clustering Application\n",
    "\n",
    "\n",
    "clusterOne, clusterTwo 槾位裡的值是群的編號,表示那個群的編號和那個群的編號要合併, 合併後的群會產生新的群編號。\n",
    "clusterOne, clusterTwo\n",
    "85076.0\t     85081.0   進行合併??\n",
    "\n",
    "資料原本為 (42542, 34), 怎麼有群組編號85081?\n",
    "0~42541 是原本的資料, 而42542的組編號後是的來自合併的新群編號。"
   ]
  },
  {
   "cell_type": "code",
   "execution_count": 68,
   "metadata": {
    "executionInfo": {
     "elapsed": 512261,
     "status": "ok",
     "timestamp": 1620243879375,
     "user": {
      "displayName": "Ankur Patel",
      "photoUrl": "https://lh3.googleusercontent.com/a-/AOh14GjuyT9p2uQcITYiB6Ja4gdHeMPvvVZ_RNUvS_DFuY0=s64",
      "userId": "08322043083056308084"
     },
     "user_tz": 240
    },
    "id": "3xx3lOKgze56"
   },
   "outputs": [],
   "source": [
    "# Hierarchical Clustering Application\n",
    "import fastcluster\n",
    "from scipy.cluster.hierarchy import dendrogram\n",
    "from scipy.cluster.hierarchy import cophenet\n",
    "from scipy.spatial.distance import pdist\n",
    "\n",
    "Z = fastcluster.linkage_vector(X_train_PCA, method='ward', \\\n",
    "                               metric='euclidean')\n",
    "\n",
    "Z_dataFrame = pd.DataFrame(data=Z,columns=['clusterOne', \\\n",
    "                'clusterTwo','distance','newClusterSize'])"
   ]
  },
  {
   "cell_type": "code",
   "execution_count": 69,
   "metadata": {},
   "outputs": [
    {
     "data": {
      "text/plain": [
       "(42542, 34)"
      ]
     },
     "execution_count": 69,
     "metadata": {},
     "output_type": "execute_result"
    }
   ],
   "source": [
    "X_train_PCA.shape"
   ]
  },
  {
   "cell_type": "code",
   "execution_count": 70,
   "metadata": {
    "colab": {
     "base_uri": "https://localhost:8080/",
     "height": 682
    },
    "executionInfo": {
     "elapsed": 512260,
     "status": "ok",
     "timestamp": 1620243879376,
     "user": {
      "displayName": "Ankur Patel",
      "photoUrl": "https://lh3.googleusercontent.com/a-/AOh14GjuyT9p2uQcITYiB6Ja4gdHeMPvvVZ_RNUvS_DFuY0=s64",
      "userId": "08322043083056308084"
     },
     "user_tz": 240
    },
    "id": "xvM2XQz0ze57",
    "outputId": "c67db67b-8706-418d-a85a-9f56c4bfa4fb"
   },
   "outputs": [
    {
     "data": {
      "text/html": [
       "<div>\n",
       "<style scoped>\n",
       "    .dataframe tbody tr th:only-of-type {\n",
       "        vertical-align: middle;\n",
       "    }\n",
       "\n",
       "    .dataframe tbody tr th {\n",
       "        vertical-align: top;\n",
       "    }\n",
       "\n",
       "    .dataframe thead th {\n",
       "        text-align: right;\n",
       "    }\n",
       "</style>\n",
       "<table border=\"1\" class=\"dataframe\">\n",
       "  <thead>\n",
       "    <tr style=\"text-align: right;\">\n",
       "      <th></th>\n",
       "      <th>clusterOne</th>\n",
       "      <th>clusterTwo</th>\n",
       "      <th>distance</th>\n",
       "      <th>newClusterSize</th>\n",
       "    </tr>\n",
       "  </thead>\n",
       "  <tbody>\n",
       "    <tr>\n",
       "      <th>0</th>\n",
       "      <td>39786.0</td>\n",
       "      <td>39787.0</td>\n",
       "      <td>0.000000e+00</td>\n",
       "      <td>2.0</td>\n",
       "    </tr>\n",
       "    <tr>\n",
       "      <th>1</th>\n",
       "      <td>39788.0</td>\n",
       "      <td>42542.0</td>\n",
       "      <td>0.000000e+00</td>\n",
       "      <td>3.0</td>\n",
       "    </tr>\n",
       "    <tr>\n",
       "      <th>2</th>\n",
       "      <td>42539.0</td>\n",
       "      <td>42540.0</td>\n",
       "      <td>0.000000e+00</td>\n",
       "      <td>2.0</td>\n",
       "    </tr>\n",
       "    <tr>\n",
       "      <th>3</th>\n",
       "      <td>42541.0</td>\n",
       "      <td>42544.0</td>\n",
       "      <td>1.799039e-16</td>\n",
       "      <td>3.0</td>\n",
       "    </tr>\n",
       "    <tr>\n",
       "      <th>4</th>\n",
       "      <td>42538.0</td>\n",
       "      <td>42543.0</td>\n",
       "      <td>2.096147e-16</td>\n",
       "      <td>4.0</td>\n",
       "    </tr>\n",
       "    <tr>\n",
       "      <th>5</th>\n",
       "      <td>42545.0</td>\n",
       "      <td>42546.0</td>\n",
       "      <td>3.639077e-16</td>\n",
       "      <td>7.0</td>\n",
       "    </tr>\n",
       "    <tr>\n",
       "      <th>6</th>\n",
       "      <td>33251.0</td>\n",
       "      <td>33261.0</td>\n",
       "      <td>1.561313e-01</td>\n",
       "      <td>2.0</td>\n",
       "    </tr>\n",
       "    <tr>\n",
       "      <th>7</th>\n",
       "      <td>42512.0</td>\n",
       "      <td>42535.0</td>\n",
       "      <td>3.342654e-01</td>\n",
       "      <td>2.0</td>\n",
       "    </tr>\n",
       "    <tr>\n",
       "      <th>8</th>\n",
       "      <td>42219.0</td>\n",
       "      <td>42316.0</td>\n",
       "      <td>3.368231e-01</td>\n",
       "      <td>2.0</td>\n",
       "    </tr>\n",
       "    <tr>\n",
       "      <th>9</th>\n",
       "      <td>6112.0</td>\n",
       "      <td>21928.0</td>\n",
       "      <td>3.384368e-01</td>\n",
       "      <td>2.0</td>\n",
       "    </tr>\n",
       "    <tr>\n",
       "      <th>10</th>\n",
       "      <td>33248.0</td>\n",
       "      <td>33275.0</td>\n",
       "      <td>3.583819e-01</td>\n",
       "      <td>2.0</td>\n",
       "    </tr>\n",
       "    <tr>\n",
       "      <th>11</th>\n",
       "      <td>33253.0</td>\n",
       "      <td>33265.0</td>\n",
       "      <td>3.595331e-01</td>\n",
       "      <td>2.0</td>\n",
       "    </tr>\n",
       "    <tr>\n",
       "      <th>12</th>\n",
       "      <td>33258.0</td>\n",
       "      <td>42552.0</td>\n",
       "      <td>3.719377e-01</td>\n",
       "      <td>3.0</td>\n",
       "    </tr>\n",
       "    <tr>\n",
       "      <th>13</th>\n",
       "      <td>20430.0</td>\n",
       "      <td>23299.0</td>\n",
       "      <td>3.757307e-01</td>\n",
       "      <td>2.0</td>\n",
       "    </tr>\n",
       "    <tr>\n",
       "      <th>14</th>\n",
       "      <td>5455.0</td>\n",
       "      <td>32845.0</td>\n",
       "      <td>3.828709e-01</td>\n",
       "      <td>2.0</td>\n",
       "    </tr>\n",
       "    <tr>\n",
       "      <th>15</th>\n",
       "      <td>28615.0</td>\n",
       "      <td>30306.0</td>\n",
       "      <td>3.900294e-01</td>\n",
       "      <td>2.0</td>\n",
       "    </tr>\n",
       "    <tr>\n",
       "      <th>16</th>\n",
       "      <td>9056.0</td>\n",
       "      <td>9769.0</td>\n",
       "      <td>3.967378e-01</td>\n",
       "      <td>2.0</td>\n",
       "    </tr>\n",
       "    <tr>\n",
       "      <th>17</th>\n",
       "      <td>11162.0</td>\n",
       "      <td>13857.0</td>\n",
       "      <td>3.991124e-01</td>\n",
       "      <td>2.0</td>\n",
       "    </tr>\n",
       "    <tr>\n",
       "      <th>18</th>\n",
       "      <td>33270.0</td>\n",
       "      <td>42548.0</td>\n",
       "      <td>3.995620e-01</td>\n",
       "      <td>3.0</td>\n",
       "    </tr>\n",
       "    <tr>\n",
       "      <th>19</th>\n",
       "      <td>17422.0</td>\n",
       "      <td>17986.0</td>\n",
       "      <td>4.061704e-01</td>\n",
       "      <td>2.0</td>\n",
       "    </tr>\n",
       "  </tbody>\n",
       "</table>\n",
       "</div>"
      ],
      "text/plain": [
       "    clusterOne  clusterTwo      distance  newClusterSize\n",
       "0      39786.0     39787.0  0.000000e+00             2.0\n",
       "1      39788.0     42542.0  0.000000e+00             3.0\n",
       "2      42539.0     42540.0  0.000000e+00             2.0\n",
       "3      42541.0     42544.0  1.799039e-16             3.0\n",
       "4      42538.0     42543.0  2.096147e-16             4.0\n",
       "5      42545.0     42546.0  3.639077e-16             7.0\n",
       "6      33251.0     33261.0  1.561313e-01             2.0\n",
       "7      42512.0     42535.0  3.342654e-01             2.0\n",
       "8      42219.0     42316.0  3.368231e-01             2.0\n",
       "9       6112.0     21928.0  3.384368e-01             2.0\n",
       "10     33248.0     33275.0  3.583819e-01             2.0\n",
       "11     33253.0     33265.0  3.595331e-01             2.0\n",
       "12     33258.0     42552.0  3.719377e-01             3.0\n",
       "13     20430.0     23299.0  3.757307e-01             2.0\n",
       "14      5455.0     32845.0  3.828709e-01             2.0\n",
       "15     28615.0     30306.0  3.900294e-01             2.0\n",
       "16      9056.0      9769.0  3.967378e-01             2.0\n",
       "17     11162.0     13857.0  3.991124e-01             2.0\n",
       "18     33270.0     42548.0  3.995620e-01             3.0\n",
       "19     17422.0     17986.0  4.061704e-01             2.0"
      ]
     },
     "execution_count": 70,
     "metadata": {},
     "output_type": "execute_result"
    }
   ],
   "source": [
    "# View bottom most leaves\n",
    "\n",
    "\n",
    "\n",
    "Z_dataFrame[:20]"
   ]
  },
  {
   "cell_type": "code",
   "execution_count": 71,
   "metadata": {
    "colab": {
     "base_uri": "https://localhost:8080/",
     "height": 682
    },
    "executionInfo": {
     "elapsed": 512253,
     "status": "ok",
     "timestamp": 1620243879377,
     "user": {
      "displayName": "Ankur Patel",
      "photoUrl": "https://lh3.googleusercontent.com/a-/AOh14GjuyT9p2uQcITYiB6Ja4gdHeMPvvVZ_RNUvS_DFuY0=s64",
      "userId": "08322043083056308084"
     },
     "user_tz": 240
    },
    "id": "Hu6X7Fcpze57",
    "outputId": "9d9f72f6-434e-45e9-9c8b-110e8f888d8e"
   },
   "outputs": [
    {
     "data": {
      "text/html": [
       "<div>\n",
       "<style scoped>\n",
       "    .dataframe tbody tr th:only-of-type {\n",
       "        vertical-align: middle;\n",
       "    }\n",
       "\n",
       "    .dataframe tbody tr th {\n",
       "        vertical-align: top;\n",
       "    }\n",
       "\n",
       "    .dataframe thead th {\n",
       "        text-align: right;\n",
       "    }\n",
       "</style>\n",
       "<table border=\"1\" class=\"dataframe\">\n",
       "  <thead>\n",
       "    <tr style=\"text-align: right;\">\n",
       "      <th></th>\n",
       "      <th>clusterOne</th>\n",
       "      <th>clusterTwo</th>\n",
       "      <th>distance</th>\n",
       "      <th>newClusterSize</th>\n",
       "    </tr>\n",
       "  </thead>\n",
       "  <tbody>\n",
       "    <tr>\n",
       "      <th>42521</th>\n",
       "      <td>85038.0</td>\n",
       "      <td>85043.0</td>\n",
       "      <td>132.715723</td>\n",
       "      <td>3969.0</td>\n",
       "    </tr>\n",
       "    <tr>\n",
       "      <th>42522</th>\n",
       "      <td>85051.0</td>\n",
       "      <td>85052.0</td>\n",
       "      <td>141.386569</td>\n",
       "      <td>2899.0</td>\n",
       "    </tr>\n",
       "    <tr>\n",
       "      <th>42523</th>\n",
       "      <td>85026.0</td>\n",
       "      <td>85027.0</td>\n",
       "      <td>146.976703</td>\n",
       "      <td>2351.0</td>\n",
       "    </tr>\n",
       "    <tr>\n",
       "      <th>42524</th>\n",
       "      <td>85048.0</td>\n",
       "      <td>85049.0</td>\n",
       "      <td>152.660192</td>\n",
       "      <td>5691.0</td>\n",
       "    </tr>\n",
       "    <tr>\n",
       "      <th>42525</th>\n",
       "      <td>85036.0</td>\n",
       "      <td>85059.0</td>\n",
       "      <td>153.512281</td>\n",
       "      <td>5956.0</td>\n",
       "    </tr>\n",
       "    <tr>\n",
       "      <th>42526</th>\n",
       "      <td>85033.0</td>\n",
       "      <td>85044.0</td>\n",
       "      <td>160.825959</td>\n",
       "      <td>2203.0</td>\n",
       "    </tr>\n",
       "    <tr>\n",
       "      <th>42527</th>\n",
       "      <td>85055.0</td>\n",
       "      <td>85061.0</td>\n",
       "      <td>163.701428</td>\n",
       "      <td>668.0</td>\n",
       "    </tr>\n",
       "    <tr>\n",
       "      <th>42528</th>\n",
       "      <td>85062.0</td>\n",
       "      <td>85066.0</td>\n",
       "      <td>168.199295</td>\n",
       "      <td>6897.0</td>\n",
       "    </tr>\n",
       "    <tr>\n",
       "      <th>42529</th>\n",
       "      <td>85054.0</td>\n",
       "      <td>85060.0</td>\n",
       "      <td>168.924039</td>\n",
       "      <td>9414.0</td>\n",
       "    </tr>\n",
       "    <tr>\n",
       "      <th>42530</th>\n",
       "      <td>85028.0</td>\n",
       "      <td>85064.0</td>\n",
       "      <td>185.215769</td>\n",
       "      <td>3118.0</td>\n",
       "    </tr>\n",
       "    <tr>\n",
       "      <th>42531</th>\n",
       "      <td>85067.0</td>\n",
       "      <td>85071.0</td>\n",
       "      <td>187.832588</td>\n",
       "      <td>15370.0</td>\n",
       "    </tr>\n",
       "    <tr>\n",
       "      <th>42532</th>\n",
       "      <td>85056.0</td>\n",
       "      <td>85073.0</td>\n",
       "      <td>203.212147</td>\n",
       "      <td>17995.0</td>\n",
       "    </tr>\n",
       "    <tr>\n",
       "      <th>42533</th>\n",
       "      <td>85057.0</td>\n",
       "      <td>85063.0</td>\n",
       "      <td>205.285993</td>\n",
       "      <td>9221.0</td>\n",
       "    </tr>\n",
       "    <tr>\n",
       "      <th>42534</th>\n",
       "      <td>85068.0</td>\n",
       "      <td>85072.0</td>\n",
       "      <td>207.902660</td>\n",
       "      <td>5321.0</td>\n",
       "    </tr>\n",
       "    <tr>\n",
       "      <th>42535</th>\n",
       "      <td>85069.0</td>\n",
       "      <td>85075.0</td>\n",
       "      <td>236.754581</td>\n",
       "      <td>9889.0</td>\n",
       "    </tr>\n",
       "    <tr>\n",
       "      <th>42536</th>\n",
       "      <td>85070.0</td>\n",
       "      <td>85077.0</td>\n",
       "      <td>298.587755</td>\n",
       "      <td>16786.0</td>\n",
       "    </tr>\n",
       "    <tr>\n",
       "      <th>42537</th>\n",
       "      <td>85058.0</td>\n",
       "      <td>85078.0</td>\n",
       "      <td>309.946867</td>\n",
       "      <td>16875.0</td>\n",
       "    </tr>\n",
       "    <tr>\n",
       "      <th>42538</th>\n",
       "      <td>85074.0</td>\n",
       "      <td>85079.0</td>\n",
       "      <td>375.698458</td>\n",
       "      <td>34870.0</td>\n",
       "    </tr>\n",
       "    <tr>\n",
       "      <th>42539</th>\n",
       "      <td>85065.0</td>\n",
       "      <td>85080.0</td>\n",
       "      <td>400.711547</td>\n",
       "      <td>37221.0</td>\n",
       "    </tr>\n",
       "    <tr>\n",
       "      <th>42540</th>\n",
       "      <td>85076.0</td>\n",
       "      <td>85081.0</td>\n",
       "      <td>644.047472</td>\n",
       "      <td>42542.0</td>\n",
       "    </tr>\n",
       "  </tbody>\n",
       "</table>\n",
       "</div>"
      ],
      "text/plain": [
       "       clusterOne  clusterTwo    distance  newClusterSize\n",
       "42521     85038.0     85043.0  132.715723          3969.0\n",
       "42522     85051.0     85052.0  141.386569          2899.0\n",
       "42523     85026.0     85027.0  146.976703          2351.0\n",
       "42524     85048.0     85049.0  152.660192          5691.0\n",
       "42525     85036.0     85059.0  153.512281          5956.0\n",
       "42526     85033.0     85044.0  160.825959          2203.0\n",
       "42527     85055.0     85061.0  163.701428           668.0\n",
       "42528     85062.0     85066.0  168.199295          6897.0\n",
       "42529     85054.0     85060.0  168.924039          9414.0\n",
       "42530     85028.0     85064.0  185.215769          3118.0\n",
       "42531     85067.0     85071.0  187.832588         15370.0\n",
       "42532     85056.0     85073.0  203.212147         17995.0\n",
       "42533     85057.0     85063.0  205.285993          9221.0\n",
       "42534     85068.0     85072.0  207.902660          5321.0\n",
       "42535     85069.0     85075.0  236.754581          9889.0\n",
       "42536     85070.0     85077.0  298.587755         16786.0\n",
       "42537     85058.0     85078.0  309.946867         16875.0\n",
       "42538     85074.0     85079.0  375.698458         34870.0\n",
       "42539     85065.0     85080.0  400.711547         37221.0\n",
       "42540     85076.0     85081.0  644.047472         42542.0"
      ]
     },
     "execution_count": 71,
     "metadata": {},
     "output_type": "execute_result"
    }
   ],
   "source": [
    "# View top most leaves\n",
    "Z_dataFrame[42521:]"
   ]
  },
  {
   "cell_type": "code",
   "execution_count": 31,
   "metadata": {
    "executionInfo": {
     "elapsed": 512376,
     "status": "ok",
     "timestamp": 1620243879508,
     "user": {
      "displayName": "Ankur Patel",
      "photoUrl": "https://lh3.googleusercontent.com/a-/AOh14GjuyT9p2uQcITYiB6Ja4gdHeMPvvVZ_RNUvS_DFuY0=s64",
      "userId": "08322043083056308084"
     },
     "user_tz": 240
    },
    "id": "k-4vYPndze57"
   },
   "outputs": [],
   "source": [
    "# Cluster results\n",
    "from scipy.cluster.hierarchy import fcluster\n",
    "\n",
    "distance_threshold = 100\n",
    "clusters = fcluster(Z, distance_threshold, criterion='distance')\n",
    "X_train_hierClustered = pd.DataFrame(data=clusters, \\\n",
    "    index=X_train.index,columns=['cluster'])"
   ]
  },
  {
   "cell_type": "code",
   "execution_count": 32,
   "metadata": {
    "colab": {
     "base_uri": "https://localhost:8080/"
    },
    "executionInfo": {
     "elapsed": 512534,
     "status": "ok",
     "timestamp": 1620243879668,
     "user": {
      "displayName": "Ankur Patel",
      "photoUrl": "https://lh3.googleusercontent.com/a-/AOh14GjuyT9p2uQcITYiB6Ja4gdHeMPvvVZ_RNUvS_DFuY0=s64",
      "userId": "08322043083056308084"
     },
     "user_tz": 240
    },
    "id": "XBM17FxIze58",
    "outputId": "4271a428-8061-4685-9b30-ba42e7c285a0"
   },
   "outputs": [
    {
     "name": "stdout",
     "output_type": "stream",
     "text": [
      "Number of distinct clusters:  32\n"
     ]
    }
   ],
   "source": [
    "# Show number of clusters created\n",
    "print(\"Number of distinct clusters: \", \\\n",
    "      len(X_train_hierClustered['cluster'].unique()))"
   ]
  },
  {
   "cell_type": "code",
   "execution_count": 33,
   "metadata": {
    "colab": {
     "base_uri": "https://localhost:8080/"
    },
    "executionInfo": {
     "elapsed": 512527,
     "status": "ok",
     "timestamp": 1620243879668,
     "user": {
      "displayName": "Ankur Patel",
      "photoUrl": "https://lh3.googleusercontent.com/a-/AOh14GjuyT9p2uQcITYiB6Ja4gdHeMPvvVZ_RNUvS_DFuY0=s64",
      "userId": "08322043083056308084"
     },
     "user_tz": 240
    },
    "id": "sp6HOwgNze58",
    "outputId": "105311b5-a2b4-439b-fa33-5c31a9886ac3"
   },
   "outputs": [
    {
     "name": "stdout",
     "output_type": "stream",
     "text": [
      "Overall accuracy from hierarchical clustering:  0.3651685393258427\n"
     ]
    }
   ],
   "source": [
    "# Show overall accuracy\n",
    "countByCluster_hierClust, countByLabel_hierClust, \\\n",
    "    countMostFreq_hierClust, accuracyDF_hierClust, \\\n",
    "    overallAccuracy_hierClust, accuracyByLabel_hierClust = \\\n",
    "    analyzeCluster(X_train_hierClustered, y_train)\n",
    "\n",
    "print(\"Overall accuracy from hierarchical clustering: \", \\\n",
    "      overallAccuracy_hierClust)"
   ]
  },
  {
   "cell_type": "code",
   "execution_count": 34,
   "metadata": {
    "colab": {
     "base_uri": "https://localhost:8080/"
    },
    "executionInfo": {
     "elapsed": 512520,
     "status": "ok",
     "timestamp": 1620243879669,
     "user": {
      "displayName": "Ankur Patel",
      "photoUrl": "https://lh3.googleusercontent.com/a-/AOh14GjuyT9p2uQcITYiB6Ja4gdHeMPvvVZ_RNUvS_DFuY0=s64",
      "userId": "08322043083056308084"
     },
     "user_tz": 240
    },
    "id": "z5s_tRfRze58",
    "outputId": "78e6a993-fc64-423d-eeb5-a6dd95da6bc5"
   },
   "outputs": [
    {
     "name": "stdout",
     "output_type": "stream",
     "text": [
      "Accuracy by cluster for hierarchical clustering\n"
     ]
    },
    {
     "data": {
      "text/plain": [
       "0     0.304124\n",
       "1     0.219001\n",
       "2     0.228311\n",
       "3     0.379722\n",
       "4     0.240064\n",
       "5     0.272011\n",
       "6     0.314560\n",
       "7     0.263930\n",
       "8     0.246138\n",
       "9     0.318942\n",
       "10    0.302752\n",
       "11    0.269772\n",
       "12    0.335717\n",
       "13    0.330403\n",
       "14    0.346320\n",
       "15    0.440141\n",
       "16    0.744155\n",
       "17    0.502227\n",
       "18    0.294118\n",
       "19    0.236111\n",
       "20    0.254727\n",
       "21    0.241042\n",
       "22    0.317979\n",
       "23    0.308771\n",
       "24    0.284314\n",
       "25    0.243243\n",
       "26    0.500000\n",
       "27    0.289157\n",
       "28    0.365283\n",
       "29    0.479693\n",
       "30    0.393559\n",
       "31    0.340875\n",
       "dtype: float64"
      ]
     },
     "execution_count": 34,
     "metadata": {
      "tags": []
     },
     "output_type": "execute_result"
    }
   ],
   "source": [
    "# Show accuracy by cluster\n",
    "print(\"Accuracy by cluster for hierarchical clustering\")\n",
    "accuracyByLabel_hierClust"
   ]
  },
  {
   "cell_type": "code",
   "execution_count": 35,
   "metadata": {
    "executionInfo": {
     "elapsed": 512512,
     "status": "ok",
     "timestamp": 1620243879669,
     "user": {
      "displayName": "Ankur Patel",
      "photoUrl": "https://lh3.googleusercontent.com/a-/AOh14GjuyT9p2uQcITYiB6Ja4gdHeMPvvVZ_RNUvS_DFuY0=s64",
      "userId": "08322043083056308084"
     },
     "user_tz": 240
    },
    "id": "M2WvQCyMtkJ8"
   },
   "outputs": [],
   "source": [
    "# Save cluster labels\n",
    "X_train_hierClustered.loc[sample.index].to_csv(log_dir+'hierarchical_cluster_labels.tsv', sep = '\\t', index=False, header=False)"
   ]
  },
  {
   "cell_type": "markdown",
   "metadata": {
    "id": "cLWm5C3g-MfZ"
   },
   "source": [
    "# HDBSCAN Application"
   ]
  },
  {
   "cell_type": "code",
   "execution_count": 36,
   "metadata": {
    "executionInfo": {
     "elapsed": 574283,
     "status": "ok",
     "timestamp": 1620243941443,
     "user": {
      "displayName": "Ankur Patel",
      "photoUrl": "https://lh3.googleusercontent.com/a-/AOh14GjuyT9p2uQcITYiB6Ja4gdHeMPvvVZ_RNUvS_DFuY0=s64",
      "userId": "08322043083056308084"
     },
     "user_tz": 240
    },
    "id": "-Oj-5nTRze58"
   },
   "outputs": [],
   "source": [
    "# HDBSCAN Application\n",
    "import hdbscan\n",
    "\n",
    "min_cluster_size = 20\n",
    "min_samples = 20\n",
    "alpha = 1.0\n",
    "cluster_selection_method = 'leaf'\n",
    "\n",
    "hdb = hdbscan.HDBSCAN(min_cluster_size=min_cluster_size, \\\n",
    "    min_samples=min_samples, alpha=alpha, \\\n",
    "    cluster_selection_method=cluster_selection_method)\n",
    "\n",
    "X_train_hdbscanClustered = hdb.fit_predict(X_train_PCA)\n",
    "X_train_hdbscanClustered = pd.DataFrame(data= \\\n",
    "    X_train_hdbscanClustered, index=X_train.index, \\\n",
    "    columns=['cluster'])\n",
    "\n",
    "countByCluster_hdbscan, countByLabel_hdbscan, \\\n",
    "    countMostFreq_hdbscan, accuracyDF_hdbscan, \\\n",
    "    overallAccuracy_hdbscan, accuracyByLabel_hdbscan = \\\n",
    "    analyzeCluster(X_train_hdbscanClustered, y_train)"
   ]
  },
  {
   "cell_type": "code",
   "execution_count": 37,
   "metadata": {
    "colab": {
     "base_uri": "https://localhost:8080/"
    },
    "executionInfo": {
     "elapsed": 574285,
     "status": "ok",
     "timestamp": 1620243941446,
     "user": {
      "displayName": "Ankur Patel",
      "photoUrl": "https://lh3.googleusercontent.com/a-/AOh14GjuyT9p2uQcITYiB6Ja4gdHeMPvvVZ_RNUvS_DFuY0=s64",
      "userId": "08322043083056308084"
     },
     "user_tz": 240
    },
    "id": "dfxd6ix0ze59",
    "outputId": "86ff8e9d-5ac5-4038-cd63-31e080e2129b"
   },
   "outputs": [
    {
     "name": "stdout",
     "output_type": "stream",
     "text": [
      "Overall accuracy from HDBSCAN:  0.3258426966292135\n"
     ]
    }
   ],
   "source": [
    "# Show overall accuracy\n",
    "print(\"Overall accuracy from HDBSCAN: \", overallAccuracy_hdbscan)"
   ]
  },
  {
   "cell_type": "code",
   "execution_count": 38,
   "metadata": {
    "colab": {
     "base_uri": "https://localhost:8080/",
     "height": 352
    },
    "executionInfo": {
     "elapsed": 574284,
     "status": "ok",
     "timestamp": 1620243941447,
     "user": {
      "displayName": "Ankur Patel",
      "photoUrl": "https://lh3.googleusercontent.com/a-/AOh14GjuyT9p2uQcITYiB6Ja4gdHeMPvvVZ_RNUvS_DFuY0=s64",
      "userId": "08322043083056308084"
     },
     "user_tz": 240
    },
    "id": "7w3PkuAMze59",
    "outputId": "09526fc7-85fb-4f31-e21d-9eeea7332285"
   },
   "outputs": [
    {
     "name": "stdout",
     "output_type": "stream",
     "text": [
      "Cluster results for HDBSCAN\n"
     ]
    },
    {
     "data": {
      "text/html": [
       "<div>\n",
       "<style scoped>\n",
       "    .dataframe tbody tr th:only-of-type {\n",
       "        vertical-align: middle;\n",
       "    }\n",
       "\n",
       "    .dataframe tbody tr th {\n",
       "        vertical-align: top;\n",
       "    }\n",
       "\n",
       "    .dataframe thead th {\n",
       "        text-align: right;\n",
       "    }\n",
       "</style>\n",
       "<table border=\"1\" class=\"dataframe\">\n",
       "  <thead>\n",
       "    <tr style=\"text-align: right;\">\n",
       "      <th></th>\n",
       "      <th>cluster</th>\n",
       "      <th>clusterCount</th>\n",
       "    </tr>\n",
       "  </thead>\n",
       "  <tbody>\n",
       "    <tr>\n",
       "      <th>0</th>\n",
       "      <td>-1</td>\n",
       "      <td>32478</td>\n",
       "    </tr>\n",
       "    <tr>\n",
       "      <th>1</th>\n",
       "      <td>6</td>\n",
       "      <td>4261</td>\n",
       "    </tr>\n",
       "    <tr>\n",
       "      <th>2</th>\n",
       "      <td>2</td>\n",
       "      <td>3668</td>\n",
       "    </tr>\n",
       "    <tr>\n",
       "      <th>3</th>\n",
       "      <td>1</td>\n",
       "      <td>1096</td>\n",
       "    </tr>\n",
       "    <tr>\n",
       "      <th>4</th>\n",
       "      <td>4</td>\n",
       "      <td>786</td>\n",
       "    </tr>\n",
       "    <tr>\n",
       "      <th>5</th>\n",
       "      <td>0</td>\n",
       "      <td>120</td>\n",
       "    </tr>\n",
       "    <tr>\n",
       "      <th>6</th>\n",
       "      <td>7</td>\n",
       "      <td>72</td>\n",
       "    </tr>\n",
       "    <tr>\n",
       "      <th>7</th>\n",
       "      <td>3</td>\n",
       "      <td>38</td>\n",
       "    </tr>\n",
       "    <tr>\n",
       "      <th>8</th>\n",
       "      <td>5</td>\n",
       "      <td>23</td>\n",
       "    </tr>\n",
       "  </tbody>\n",
       "</table>\n",
       "</div>"
      ],
      "text/plain": [
       "   cluster  clusterCount\n",
       "0       -1         32478\n",
       "1        6          4261\n",
       "2        2          3668\n",
       "3        1          1096\n",
       "4        4           786\n",
       "5        0           120\n",
       "6        7            72\n",
       "7        3            38\n",
       "8        5            23"
      ]
     },
     "execution_count": 38,
     "metadata": {
      "tags": []
     },
     "output_type": "execute_result"
    }
   ],
   "source": [
    "# Count by cluster\n",
    "print(\"Cluster results for HDBSCAN\")\n",
    "countByCluster_hdbscan"
   ]
  },
  {
   "cell_type": "code",
   "execution_count": 39,
   "metadata": {
    "colab": {
     "base_uri": "https://localhost:8080/"
    },
    "executionInfo": {
     "elapsed": 574283,
     "status": "ok",
     "timestamp": 1620243941447,
     "user": {
      "displayName": "Ankur Patel",
      "photoUrl": "https://lh3.googleusercontent.com/a-/AOh14GjuyT9p2uQcITYiB6Ja4gdHeMPvvVZ_RNUvS_DFuY0=s64",
      "userId": "08322043083056308084"
     },
     "user_tz": 240
    },
    "id": "gknDIjlMze59",
    "outputId": "1122dd4e-7dc1-43cc-82ef-d9bbefaf56ee"
   },
   "outputs": [
    {
     "data": {
      "text/plain": [
       "0    0.284346\n",
       "1    0.341667\n",
       "2    0.414234\n",
       "3    0.332061\n",
       "4    0.552632\n",
       "5    0.438931\n",
       "6    0.391304\n",
       "7    0.588829\n",
       "8    0.416667\n",
       "dtype: float64"
      ]
     },
     "execution_count": 39,
     "metadata": {
      "tags": []
     },
     "output_type": "execute_result"
    }
   ],
   "source": [
    "# Accuracy by cluster\n",
    "accuracyByLabel_hdbscan"
   ]
  },
  {
   "cell_type": "code",
   "execution_count": 40,
   "metadata": {
    "executionInfo": {
     "elapsed": 574377,
     "status": "ok",
     "timestamp": 1620243941543,
     "user": {
      "displayName": "Ankur Patel",
      "photoUrl": "https://lh3.googleusercontent.com/a-/AOh14GjuyT9p2uQcITYiB6Ja4gdHeMPvvVZ_RNUvS_DFuY0=s64",
      "userId": "08322043083056308084"
     },
     "user_tz": 240
    },
    "id": "09TK0QietwSe"
   },
   "outputs": [],
   "source": [
    "# Save cluster labels\n",
    "X_train_hdbscanClustered.loc[sample.index].to_csv(log_dir+'hdbscan_cluster_labels.tsv', sep = '\\t', index=False, header=False)"
   ]
  },
  {
   "cell_type": "markdown",
   "metadata": {
    "id": "xhBvF3JD-UDD"
   },
   "source": [
    "# Conclusion"
   ]
  },
  {
   "cell_type": "code",
   "execution_count": 41,
   "metadata": {
    "colab": {
     "base_uri": "https://localhost:8080/"
    },
    "executionInfo": {
     "elapsed": 574377,
     "status": "ok",
     "timestamp": 1620243941544,
     "user": {
      "displayName": "Ankur Patel",
      "photoUrl": "https://lh3.googleusercontent.com/a-/AOh14GjuyT9p2uQcITYiB6Ja4gdHeMPvvVZ_RNUvS_DFuY0=s64",
      "userId": "08322043083056308084"
     },
     "user_tz": 240
    },
    "id": "cPLsneGKp4JG",
    "outputId": "a9af1aeb-094c-47cc-ebeb-9f1f8e0b28fa"
   },
   "outputs": [
    {
     "name": "stdout",
     "output_type": "stream",
     "text": [
      "Completed:  2021-05-05 19:45:41.336670\n"
     ]
    }
   ],
   "source": [
    "import datetime as dt\n",
    "print(\"Completed: \", dt.datetime.now())"
   ]
  }
 ],
 "metadata": {
  "anaconda-cloud": {},
  "colab": {
   "collapsed_sections": [],
   "name": "06_group_segmentation.ipynb",
   "provenance": []
  },
  "kernelspec": {
   "display_name": "Python 3",
   "language": "python",
   "name": "python3"
  },
  "language_info": {
   "codemirror_mode": {
    "name": "ipython",
    "version": 3
   },
   "file_extension": ".py",
   "mimetype": "text/x-python",
   "name": "python",
   "nbconvert_exporter": "python",
   "pygments_lexer": "ipython3",
   "version": "3.8.5"
  },
  "toc": {
   "base_numbering": 1,
   "nav_menu": {},
   "number_sections": true,
   "sideBar": true,
   "skip_h1_title": false,
   "title_cell": "Table of Contents",
   "title_sidebar": "Contents",
   "toc_cell": false,
   "toc_position": {},
   "toc_section_display": true,
   "toc_window_display": true
  }
 },
 "nbformat": 4,
 "nbformat_minor": 1
}
