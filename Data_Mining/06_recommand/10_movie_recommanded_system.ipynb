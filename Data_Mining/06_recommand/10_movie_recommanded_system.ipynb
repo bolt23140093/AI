{
 "cells": [
  {
   "cell_type": "markdown",
   "metadata": {
    "id": "xIpBRNUohNVf"
   },
   "source": [
    "# Google Colab Setup\n",
    "**Only for users on Google Colab**"
   ]
  },
  {
   "cell_type": "code",
   "execution_count": 1,
   "metadata": {
    "colab": {
     "base_uri": "https://localhost:8080/"
    },
    "executionInfo": {
     "elapsed": 123598,
     "status": "ok",
     "timestamp": 1620258616582,
     "user": {
      "displayName": "Ankur Patel",
      "photoUrl": "https://lh3.googleusercontent.com/a-/AOh14GjuyT9p2uQcITYiB6Ja4gdHeMPvvVZ_RNUvS_DFuY0=s64",
      "userId": "08322043083056308084"
     },
     "user_tz": 240
    },
    "id": "CH_EnKYqhODj",
    "outputId": "6ba89e31-2644-4a01-932a-d691524b890c"
   },
   "outputs": [],
   "source": [
    "# Define functions to connect to Google and change directories\n",
    "def connectDrive():\n",
    "    from google.colab import drive\n",
    "    drive.mount('/content/drive', force_remount=True)\n",
    "\n",
    "def changeDirectory(path):\n",
    "    import os\n",
    "    original_path = os.getcwd()\n",
    "    os.chdir(path)\n",
    "    new_path = os.getcwd()\n",
    "    print(\"Original path: \",original_path)\n",
    "    print(\"New path: \",new_path)\n",
    "\n",
    "# Connect to Google Drive\n",
    "#connectDrive()\n",
    "\n",
    "# Change path\n",
    "#changeDirectory(\"/content/drive/My Drive/github/handson-unsupervised-learning/\")"
   ]
  },
  {
   "cell_type": "markdown",
   "metadata": {
    "id": "Rk39ncx5hFm5"
   },
   "source": [
    "## Setup"
   ]
  },
  {
   "cell_type": "code",
   "execution_count": 1,
   "metadata": {
    "executionInfo": {
     "elapsed": 128801,
     "status": "ok",
     "timestamp": 1620258621795,
     "user": {
      "displayName": "Ankur Patel",
      "photoUrl": "https://lh3.googleusercontent.com/a-/AOh14GjuyT9p2uQcITYiB6Ja4gdHeMPvvVZ_RNUvS_DFuY0=s64",
      "userId": "08322043083056308084"
     },
     "user_tz": 240
    },
    "id": "9r75cm6WhFm6"
   },
   "outputs": [],
   "source": [
    "'''Main'''\n",
    "import numpy as np\n",
    "import pandas as pd\n",
    "import os, time, re\n",
    "import pickle, gzip, datetime\n",
    "from datetime import datetime\n",
    "from zipfile import ZipFile\n",
    "from urllib.request import urlretrieve\n",
    "\n",
    "'''Data Viz'''\n",
    "import matplotlib.pyplot as plt\n",
    "import seaborn as sns\n",
    "color = sns.color_palette()\n",
    "import matplotlib as mpl\n",
    "\n",
    "%matplotlib inline\n",
    "\n",
    "'''Data Prep and Model Evaluation'''\n",
    "from sklearn import preprocessing as pp\n",
    "from sklearn.model_selection import train_test_split \n",
    "from sklearn.model_selection import StratifiedKFold \n",
    "from sklearn.metrics import log_loss\n",
    "from sklearn.metrics import precision_recall_curve, average_precision_score\n",
    "from sklearn.metrics import roc_curve, auc, roc_auc_score, mean_squared_error\n",
    "\n",
    "'''Algos'''\n",
    "import lightgbm as lgb\n",
    "\n",
    "'''TensorFlow and Keras'''\n",
    "import tensorflow as tf\n",
    "from tensorflow import keras\n",
    "K = keras.backend\n",
    "\n",
    "from tensorflow.keras.models import Sequential, Model\n",
    "from tensorflow.keras.layers import Activation, Dense, Dropout\n",
    "from tensorflow.keras.layers import BatchNormalization, Input, Lambda\n",
    "from tensorflow.keras.layers import Embedding, Flatten, dot\n",
    "from tensorflow.keras import regularizers\n",
    "from tensorflow.keras.losses import mse, binary_crossentropy"
   ]
  },
  {
   "cell_type": "markdown",
   "metadata": {
    "id": "pSIDsFcshFm7"
   },
   "source": [
    "## Check library versions & set seed"
   ]
  },
  {
   "cell_type": "code",
   "execution_count": 2,
   "metadata": {
    "colab": {
     "base_uri": "https://localhost:8080/"
    },
    "executionInfo": {
     "elapsed": 128802,
     "status": "ok",
     "timestamp": 1620258621798,
     "user": {
      "displayName": "Ankur Patel",
      "photoUrl": "https://lh3.googleusercontent.com/a-/AOh14GjuyT9p2uQcITYiB6Ja4gdHeMPvvVZ_RNUvS_DFuY0=s64",
      "userId": "08322043083056308084"
     },
     "user_tz": 240
    },
    "id": "j_WUaLIbhFm7",
    "outputId": "4849a102-29c5-4722-98ed-05b0839e780f"
   },
   "outputs": [
    {
     "name": "stdout",
     "output_type": "stream",
     "text": [
      "sklearn    1.3.2\n",
      "tensorflow 2.4.1\n",
      "keras      2.4.0\n",
      "numpy      1.20.0\n"
     ]
    }
   ],
   "source": [
    "import sys, sklearn\n",
    "print(f'sklearn    {sklearn.__version__}')\n",
    "print(f'tensorflow {tf.__version__}')\n",
    "print(f'keras      {keras.__version__}')\n",
    "print(f'numpy      {np.__version__}')"
   ]
  },
  {
   "cell_type": "code",
   "execution_count": 3,
   "metadata": {
    "executionInfo": {
     "elapsed": 128794,
     "status": "ok",
     "timestamp": 1620258621798,
     "user": {
      "displayName": "Ankur Patel",
      "photoUrl": "https://lh3.googleusercontent.com/a-/AOh14GjuyT9p2uQcITYiB6Ja4gdHeMPvvVZ_RNUvS_DFuY0=s64",
      "userId": "08322043083056308084"
     },
     "user_tz": 240
    },
    "id": "6U6cPDcBhFm8"
   },
   "outputs": [],
   "source": [
    "# To make the output stable across runs\n",
    "tf.random.set_seed(42)\n",
    "np.random.seed(42)"
   ]
  },
  {
   "cell_type": "code",
   "execution_count": 4,
   "metadata": {
    "colab": {
     "base_uri": "https://localhost:8080/"
    },
    "executionInfo": {
     "elapsed": 131744,
     "status": "ok",
     "timestamp": 1620258624750,
     "user": {
      "displayName": "Ankur Patel",
      "photoUrl": "https://lh3.googleusercontent.com/a-/AOh14GjuyT9p2uQcITYiB6Ja4gdHeMPvvVZ_RNUvS_DFuY0=s64",
      "userId": "08322043083056308084"
     },
     "user_tz": 240
    },
    "id": "A09g2KtI7FsO",
    "outputId": "da16a8a4-5a6d-4746-d3ae-a00e48c963b2"
   },
   "outputs": [
    {
     "name": "stdout",
     "output_type": "stream",
     "text": [
      "Default GPU Device: /device:GPU:0\n"
     ]
    }
   ],
   "source": [
    "# Check use of GPU\n",
    "if tf.test.gpu_device_name(): \n",
    "    print('Default GPU Device: {}'.format(tf.test.gpu_device_name()))\n",
    "else:\n",
    "   print(\"Please install GPU version of TF, if GPU is available.\")"
   ]
  },
  {
   "cell_type": "markdown",
   "metadata": {
    "id": "WzDYSxgKhFm8"
   },
   "source": [
    "# Data Preparation"
   ]
  },
  {
   "cell_type": "markdown",
   "metadata": {
    "id": "OTIo16YPhFm8"
   },
   "source": [
    "## MovieLens Dataset "
   ]
  },
  {
   "cell_type": "markdown",
   "metadata": {
    "id": "iyUHJ_zehFm9"
   },
   "source": [
    "|MovieLens 20M Dataset||\n",
    "|:------------|----------|\n",
    "|ratings     |20,000,263| \n",
    "|movies      |27,278| \n",
    "|users       |138,493|"
   ]
  },
  {
   "cell_type": "markdown",
   "metadata": {
    "id": "9xT9Q0KbhFm9"
   },
   "source": [
    "## Load the Data \n",
    " \n",
    " ```\n",
    " Note: you can just read data directrly \n",
    " pd.read_pickle(current_path + \"/datasets/ml-20m/ratingReducedPickle\")\n",
    " ```\n"
   ]
  },
  {
   "cell_type": "code",
   "execution_count": 6,
   "metadata": {
    "executionInfo": {
     "elapsed": 175506,
     "status": "ok",
     "timestamp": 1620258668520,
     "user": {
      "displayName": "Ankur Patel",
      "photoUrl": "https://lh3.googleusercontent.com/a-/AOh14GjuyT9p2uQcITYiB6Ja4gdHeMPvvVZ_RNUvS_DFuY0=s64",
      "userId": "08322043083056308084"
     },
     "user_tz": 240
    },
    "id": "FgcOLcwohFm9"
   },
   "outputs": [],
   "source": [
    "# Download and read into Pandas DataFrame\n",
    "current_path = os.getcwd()\n",
    "urlretrieve(\"http://files.grouplens.org/datasets/movielens/ml-20m.zip\", \\\n",
    "            current_path+\"/datasets/movielens.zip\")\n",
    "ZipFile(current_path+\"/datasets/movielens.zip\", \"r\").extractall(current_path+\"/datasets/\")\n"
   ]
  },
  {
   "cell_type": "code",
   "execution_count": 9,
   "metadata": {},
   "outputs": [],
   "source": [
    "current_path = os.getcwd()\n",
    "ratingDF = pd.read_csv(current_path+\"/datasets/ml-20m/ratings.csv\")"
   ]
  },
  {
   "cell_type": "code",
   "execution_count": 10,
   "metadata": {
    "executionInfo": {
     "elapsed": 270735,
     "status": "ok",
     "timestamp": 1620258763751,
     "user": {
      "displayName": "Ankur Patel",
      "photoUrl": "https://lh3.googleusercontent.com/a-/AOh14GjuyT9p2uQcITYiB6Ja4gdHeMPvvVZ_RNUvS_DFuY0=s64",
      "userId": "08322043083056308084"
     },
     "user_tz": 240
    },
    "id": "JOJtcO9PhFm9"
   },
   "outputs": [],
   "source": [
    "# Convert fields into appropriate data types \n",
    "ratingDF.userId = ratingDF.userId.astype(str).astype(int)\n",
    "ratingDF.movieId = ratingDF.movieId.astype(str).astype(int)\n",
    "ratingDF.rating = ratingDF.rating.astype(str).astype(float)\n",
    "ratingDF.timestamp = ratingDF.timestamp.apply(lambda x: \\\n",
    "                        datetime.utcfromtimestamp(x).strftime('%Y-%m-%d %H:%M:%S'))"
   ]
  },
  {
   "cell_type": "code",
   "execution_count": 8,
   "metadata": {
    "executionInfo": {
     "elapsed": 293930,
     "status": "ok",
     "timestamp": 1620258786953,
     "user": {
      "displayName": "Ankur Patel",
      "photoUrl": "https://lh3.googleusercontent.com/a-/AOh14GjuyT9p2uQcITYiB6Ja4gdHeMPvvVZ_RNUvS_DFuY0=s64",
      "userId": "08322043083056308084"
     },
     "user_tz": 240
    },
    "id": "TjNPTGAmhFm9"
   },
   "outputs": [],
   "source": [
    "# Store DataFrame as pickle for faster loading in the future\n",
    "ratingDF.to_pickle(current_path+\"/datasets/ml-20m/ratingPickle\")\n",
    "ratingDF = pd.read_pickle(current_path+\"/datasets/ml-20m/ratingPickle\")"
   ]
  },
  {
   "cell_type": "code",
   "execution_count": 11,
   "metadata": {
    "colab": {
     "base_uri": "https://localhost:8080/",
     "height": 208
    },
    "executionInfo": {
     "elapsed": 293929,
     "status": "ok",
     "timestamp": 1620258786954,
     "user": {
      "displayName": "Ankur Patel",
      "photoUrl": "https://lh3.googleusercontent.com/a-/AOh14GjuyT9p2uQcITYiB6Ja4gdHeMPvvVZ_RNUvS_DFuY0=s64",
      "userId": "08322043083056308084"
     },
     "user_tz": 240
    },
    "id": "e4f_Bz4IhFm-",
    "outputId": "9f353fca-3e43-4329-b71f-8df6c04c0b22"
   },
   "outputs": [
    {
     "data": {
      "text/html": [
       "<div>\n",
       "<style scoped>\n",
       "    .dataframe tbody tr th:only-of-type {\n",
       "        vertical-align: middle;\n",
       "    }\n",
       "\n",
       "    .dataframe tbody tr th {\n",
       "        vertical-align: top;\n",
       "    }\n",
       "\n",
       "    .dataframe thead th {\n",
       "        text-align: right;\n",
       "    }\n",
       "</style>\n",
       "<table border=\"1\" class=\"dataframe\">\n",
       "  <thead>\n",
       "    <tr style=\"text-align: right;\">\n",
       "      <th></th>\n",
       "      <th>userId</th>\n",
       "      <th>movieId</th>\n",
       "      <th>rating</th>\n",
       "      <th>timestamp</th>\n",
       "    </tr>\n",
       "  </thead>\n",
       "  <tbody>\n",
       "    <tr>\n",
       "      <th>0</th>\n",
       "      <td>1</td>\n",
       "      <td>2</td>\n",
       "      <td>3.5</td>\n",
       "      <td>2005-04-02 23:53:47</td>\n",
       "    </tr>\n",
       "    <tr>\n",
       "      <th>1</th>\n",
       "      <td>1</td>\n",
       "      <td>29</td>\n",
       "      <td>3.5</td>\n",
       "      <td>2005-04-02 23:31:16</td>\n",
       "    </tr>\n",
       "    <tr>\n",
       "      <th>2</th>\n",
       "      <td>1</td>\n",
       "      <td>32</td>\n",
       "      <td>3.5</td>\n",
       "      <td>2005-04-02 23:33:39</td>\n",
       "    </tr>\n",
       "    <tr>\n",
       "      <th>3</th>\n",
       "      <td>1</td>\n",
       "      <td>47</td>\n",
       "      <td>3.5</td>\n",
       "      <td>2005-04-02 23:32:07</td>\n",
       "    </tr>\n",
       "    <tr>\n",
       "      <th>4</th>\n",
       "      <td>1</td>\n",
       "      <td>50</td>\n",
       "      <td>3.5</td>\n",
       "      <td>2005-04-02 23:29:40</td>\n",
       "    </tr>\n",
       "  </tbody>\n",
       "</table>\n",
       "</div>"
      ],
      "text/plain": [
       "   userId  movieId  rating            timestamp\n",
       "0       1        2     3.5  2005-04-02 23:53:47\n",
       "1       1       29     3.5  2005-04-02 23:31:16\n",
       "2       1       32     3.5  2005-04-02 23:33:39\n",
       "3       1       47     3.5  2005-04-02 23:32:07\n",
       "4       1       50     3.5  2005-04-02 23:29:40"
      ]
     },
     "execution_count": 11,
     "metadata": {},
     "output_type": "execute_result"
    }
   ],
   "source": [
    "# Preview data\n",
    "ratingDF.head()"
   ]
  },
  {
   "cell_type": "code",
   "execution_count": 12,
   "metadata": {},
   "outputs": [
    {
     "data": {
      "text/html": [
       "<div>\n",
       "<style scoped>\n",
       "    .dataframe tbody tr th:only-of-type {\n",
       "        vertical-align: middle;\n",
       "    }\n",
       "\n",
       "    .dataframe tbody tr th {\n",
       "        vertical-align: top;\n",
       "    }\n",
       "\n",
       "    .dataframe thead th {\n",
       "        text-align: right;\n",
       "    }\n",
       "</style>\n",
       "<table border=\"1\" class=\"dataframe\">\n",
       "  <thead>\n",
       "    <tr style=\"text-align: right;\">\n",
       "      <th></th>\n",
       "      <th>userId</th>\n",
       "      <th>movieId</th>\n",
       "      <th>rating</th>\n",
       "    </tr>\n",
       "  </thead>\n",
       "  <tbody>\n",
       "    <tr>\n",
       "      <th>count</th>\n",
       "      <td>2.000026e+07</td>\n",
       "      <td>2.000026e+07</td>\n",
       "      <td>2.000026e+07</td>\n",
       "    </tr>\n",
       "    <tr>\n",
       "      <th>mean</th>\n",
       "      <td>6.904587e+04</td>\n",
       "      <td>9.041567e+03</td>\n",
       "      <td>3.525529e+00</td>\n",
       "    </tr>\n",
       "    <tr>\n",
       "      <th>std</th>\n",
       "      <td>4.003863e+04</td>\n",
       "      <td>1.978948e+04</td>\n",
       "      <td>1.051989e+00</td>\n",
       "    </tr>\n",
       "    <tr>\n",
       "      <th>min</th>\n",
       "      <td>1.000000e+00</td>\n",
       "      <td>1.000000e+00</td>\n",
       "      <td>5.000000e-01</td>\n",
       "    </tr>\n",
       "    <tr>\n",
       "      <th>25%</th>\n",
       "      <td>3.439500e+04</td>\n",
       "      <td>9.020000e+02</td>\n",
       "      <td>3.000000e+00</td>\n",
       "    </tr>\n",
       "    <tr>\n",
       "      <th>50%</th>\n",
       "      <td>6.914100e+04</td>\n",
       "      <td>2.167000e+03</td>\n",
       "      <td>3.500000e+00</td>\n",
       "    </tr>\n",
       "    <tr>\n",
       "      <th>75%</th>\n",
       "      <td>1.036370e+05</td>\n",
       "      <td>4.770000e+03</td>\n",
       "      <td>4.000000e+00</td>\n",
       "    </tr>\n",
       "    <tr>\n",
       "      <th>max</th>\n",
       "      <td>1.384930e+05</td>\n",
       "      <td>1.312620e+05</td>\n",
       "      <td>5.000000e+00</td>\n",
       "    </tr>\n",
       "  </tbody>\n",
       "</table>\n",
       "</div>"
      ],
      "text/plain": [
       "             userId       movieId        rating\n",
       "count  2.000026e+07  2.000026e+07  2.000026e+07\n",
       "mean   6.904587e+04  9.041567e+03  3.525529e+00\n",
       "std    4.003863e+04  1.978948e+04  1.051989e+00\n",
       "min    1.000000e+00  1.000000e+00  5.000000e-01\n",
       "25%    3.439500e+04  9.020000e+02  3.000000e+00\n",
       "50%    6.914100e+04  2.167000e+03  3.500000e+00\n",
       "75%    1.036370e+05  4.770000e+03  4.000000e+00\n",
       "max    1.384930e+05  1.312620e+05  5.000000e+00"
      ]
     },
     "execution_count": 12,
     "metadata": {},
     "output_type": "execute_result"
    }
   ],
   "source": [
    "ratingDF.describe()"
   ]
  },
  {
   "cell_type": "code",
   "execution_count": 10,
   "metadata": {
    "colab": {
     "base_uri": "https://localhost:8080/"
    },
    "executionInfo": {
     "elapsed": 294255,
     "status": "ok",
     "timestamp": 1620258787281,
     "user": {
      "displayName": "Ankur Patel",
      "photoUrl": "https://lh3.googleusercontent.com/a-/AOh14GjuyT9p2uQcITYiB6Ja4gdHeMPvvVZ_RNUvS_DFuY0=s64",
      "userId": "08322043083056308084"
     },
     "user_tz": 240
    },
    "id": "VTwkV2pdhFm-",
    "outputId": "aa2ffe64-8fe7-4d71-ae75-a94c66490daf"
   },
   "outputs": [
    {
     "name": "stdout",
     "output_type": "stream",
     "text": [
      "Number of unique users: 138493\n",
      "Number of unique movies: 26744\n",
      "Number of total ratings: 20000263\n",
      "Average number of ratings per user: 144.4\n"
     ]
    }
   ],
   "source": [
    "# Calculate summary statistics on full dataset\n",
    "n_users = ratingDF.userId.unique().shape[0]\n",
    "n_movies = ratingDF.movieId.unique().shape[0]\n",
    "n_ratings = len(ratingDF)\n",
    "avg_ratings_per_user = n_ratings/n_users\n",
    "\n",
    "print(f'Number of unique users: {n_users}')\n",
    "print(f'Number of unique movies: {n_movies}')\n",
    "print(f'Number of total ratings: {n_ratings}')\n",
    "print(f'Average number of ratings per user: {round(avg_ratings_per_user,1)}')"
   ]
  },
  {
   "cell_type": "code",
   "execution_count": 14,
   "metadata": {
    "colab": {
     "base_uri": "https://localhost:8080/"
    },
    "executionInfo": {
     "elapsed": 301096,
     "status": "ok",
     "timestamp": 1620258794123,
     "user": {
      "displayName": "Ankur Patel",
      "photoUrl": "https://lh3.googleusercontent.com/a-/AOh14GjuyT9p2uQcITYiB6Ja4gdHeMPvvVZ_RNUvS_DFuY0=s64",
      "userId": "08322043083056308084"
     },
     "user_tz": 240
    },
    "id": "P4XeOTswhFm_",
    "outputId": "69a641c7-4e34-41a0-acdd-6a2e94757167"
   },
   "outputs": [
    {
     "data": {
      "text/plain": [
       "userId       12840344\n",
       "movieId      12840344\n",
       "rating       12840344\n",
       "timestamp    12840344\n",
       "dtype: int64"
      ]
     },
     "execution_count": 14,
     "metadata": {},
     "output_type": "execute_result"
    }
   ],
   "source": [
    "# Reduce size of dataset : 只取rating分數是屬於TOP 1000的電影的資料列,此時資料剩下約12萬多筆\n",
    "\n",
    "movieIndex = ratingDF.groupby(\"movieId\").count().sort_values(by= \n",
    "                \"rating\",ascending=False)[0:1000].index\n",
    "#有包含這top 1000 movies的資料\n",
    "ratingDFX2 = ratingDF[ratingDF.movieId.isin(movieIndex)] \n",
    "ratingDFX2.count() #Count non-NA cells for each column."
   ]
  },
  {
   "cell_type": "code",
   "execution_count": 16,
   "metadata": {},
   "outputs": [
    {
     "data": {
      "text/html": [
       "<div>\n",
       "<style scoped>\n",
       "    .dataframe tbody tr th:only-of-type {\n",
       "        vertical-align: middle;\n",
       "    }\n",
       "\n",
       "    .dataframe tbody tr th {\n",
       "        vertical-align: top;\n",
       "    }\n",
       "\n",
       "    .dataframe thead th {\n",
       "        text-align: right;\n",
       "    }\n",
       "</style>\n",
       "<table border=\"1\" class=\"dataframe\">\n",
       "  <thead>\n",
       "    <tr style=\"text-align: right;\">\n",
       "      <th></th>\n",
       "      <th>userId</th>\n",
       "      <th>movieId</th>\n",
       "      <th>rating</th>\n",
       "      <th>timestamp</th>\n",
       "    </tr>\n",
       "  </thead>\n",
       "  <tbody>\n",
       "    <tr>\n",
       "      <th>0</th>\n",
       "      <td>1</td>\n",
       "      <td>2</td>\n",
       "      <td>3.5</td>\n",
       "      <td>2005-04-02 23:53:47</td>\n",
       "    </tr>\n",
       "    <tr>\n",
       "      <th>1</th>\n",
       "      <td>1</td>\n",
       "      <td>29</td>\n",
       "      <td>3.5</td>\n",
       "      <td>2005-04-02 23:31:16</td>\n",
       "    </tr>\n",
       "    <tr>\n",
       "      <th>2</th>\n",
       "      <td>1</td>\n",
       "      <td>32</td>\n",
       "      <td>3.5</td>\n",
       "      <td>2005-04-02 23:33:39</td>\n",
       "    </tr>\n",
       "    <tr>\n",
       "      <th>3</th>\n",
       "      <td>1</td>\n",
       "      <td>47</td>\n",
       "      <td>3.5</td>\n",
       "      <td>2005-04-02 23:32:07</td>\n",
       "    </tr>\n",
       "    <tr>\n",
       "      <th>4</th>\n",
       "      <td>1</td>\n",
       "      <td>50</td>\n",
       "      <td>3.5</td>\n",
       "      <td>2005-04-02 23:29:40</td>\n",
       "    </tr>\n",
       "    <tr>\n",
       "      <th>...</th>\n",
       "      <td>...</td>\n",
       "      <td>...</td>\n",
       "      <td>...</td>\n",
       "      <td>...</td>\n",
       "    </tr>\n",
       "    <tr>\n",
       "      <th>20000243</th>\n",
       "      <td>138493</td>\n",
       "      <td>53996</td>\n",
       "      <td>4.5</td>\n",
       "      <td>2009-12-03 18:31:44</td>\n",
       "    </tr>\n",
       "    <tr>\n",
       "      <th>20000249</th>\n",
       "      <td>138493</td>\n",
       "      <td>59315</td>\n",
       "      <td>4.0</td>\n",
       "      <td>2009-10-17 22:22:18</td>\n",
       "    </tr>\n",
       "    <tr>\n",
       "      <th>20000252</th>\n",
       "      <td>138493</td>\n",
       "      <td>60069</td>\n",
       "      <td>4.0</td>\n",
       "      <td>2009-11-13 17:51:27</td>\n",
       "    </tr>\n",
       "    <tr>\n",
       "      <th>20000258</th>\n",
       "      <td>138493</td>\n",
       "      <td>68954</td>\n",
       "      <td>4.5</td>\n",
       "      <td>2009-11-13 15:42:00</td>\n",
       "    </tr>\n",
       "    <tr>\n",
       "      <th>20000261</th>\n",
       "      <td>138493</td>\n",
       "      <td>70286</td>\n",
       "      <td>5.0</td>\n",
       "      <td>2009-11-13 15:42:24</td>\n",
       "    </tr>\n",
       "  </tbody>\n",
       "</table>\n",
       "<p>12840344 rows × 4 columns</p>\n",
       "</div>"
      ],
      "text/plain": [
       "          userId  movieId  rating            timestamp\n",
       "0              1        2     3.5  2005-04-02 23:53:47\n",
       "1              1       29     3.5  2005-04-02 23:31:16\n",
       "2              1       32     3.5  2005-04-02 23:33:39\n",
       "3              1       47     3.5  2005-04-02 23:32:07\n",
       "4              1       50     3.5  2005-04-02 23:29:40\n",
       "...          ...      ...     ...                  ...\n",
       "20000243  138493    53996     4.5  2009-12-03 18:31:44\n",
       "20000249  138493    59315     4.0  2009-10-17 22:22:18\n",
       "20000252  138493    60069     4.0  2009-11-13 17:51:27\n",
       "20000258  138493    68954     4.5  2009-11-13 15:42:00\n",
       "20000261  138493    70286     5.0  2009-11-13 15:42:24\n",
       "\n",
       "[12840344 rows x 4 columns]"
      ]
     },
     "execution_count": 16,
     "metadata": {},
     "output_type": "execute_result"
    }
   ],
   "source": [
    "ratingDFX2"
   ]
  },
  {
   "cell_type": "code",
   "execution_count": 12,
   "metadata": {
    "colab": {
     "base_uri": "https://localhost:8080/"
    },
    "executionInfo": {
     "elapsed": 303116,
     "status": "ok",
     "timestamp": 1620258796144,
     "user": {
      "displayName": "Ankur Patel",
      "photoUrl": "https://lh3.googleusercontent.com/a-/AOh14GjuyT9p2uQcITYiB6Ja4gdHeMPvvVZ_RNUvS_DFuY0=s64",
      "userId": "08322043083056308084"
     },
     "user_tz": 240
    },
    "id": "3IFxSpBLhFm_",
    "outputId": "ab645e68-7cb2-4206-b462-faf984a057ee"
   },
   "outputs": [
    {
     "data": {
      "text/plain": [
       "userId       90213\n",
       "movieId      90213\n",
       "rating       90213\n",
       "timestamp    90213\n",
       "dtype: int64"
      ]
     },
     "execution_count": 12,
     "metadata": {},
     "output_type": "execute_result"
    }
   ],
   "source": [
    "# 接著在從上述表格, 隨機挑出1000 users, 故資料剩下約9萬筆\n",
    "userIndex = ratingDFX2.groupby(\"userId\").count().sort_values(by= \n",
    "    \"rating\",ascending=False).sample(n=1000, random_state=2018).index\n",
    "ratingDFX3 = ratingDFX2[ratingDFX2.userId.isin(userIndex)]\n",
    "ratingDFX3.count()"
   ]
  },
  {
   "cell_type": "code",
   "execution_count": 13,
   "metadata": {
    "colab": {
     "base_uri": "https://localhost:8080/",
     "height": 208
    },
    "executionInfo": {
     "elapsed": 303115,
     "status": "ok",
     "timestamp": 1620258796144,
     "user": {
      "displayName": "Ankur Patel",
      "photoUrl": "https://lh3.googleusercontent.com/a-/AOh14GjuyT9p2uQcITYiB6Ja4gdHeMPvvVZ_RNUvS_DFuY0=s64",
      "userId": "08322043083056308084"
     },
     "user_tz": 240
    },
    "id": "WuhXVJAAhFm_",
    "outputId": "57aee93f-7fd1-4c89-9430-c066246f964b"
   },
   "outputs": [
    {
     "data": {
      "text/html": [
       "<div>\n",
       "<style scoped>\n",
       "    .dataframe tbody tr th:only-of-type {\n",
       "        vertical-align: middle;\n",
       "    }\n",
       "\n",
       "    .dataframe tbody tr th {\n",
       "        vertical-align: top;\n",
       "    }\n",
       "\n",
       "    .dataframe thead th {\n",
       "        text-align: right;\n",
       "    }\n",
       "</style>\n",
       "<table border=\"1\" class=\"dataframe\">\n",
       "  <thead>\n",
       "    <tr style=\"text-align: right;\">\n",
       "      <th></th>\n",
       "      <th>originalMovieId</th>\n",
       "      <th>newMovieId</th>\n",
       "    </tr>\n",
       "  </thead>\n",
       "  <tbody>\n",
       "    <tr>\n",
       "      <th>0</th>\n",
       "      <td>50</td>\n",
       "      <td>1</td>\n",
       "    </tr>\n",
       "    <tr>\n",
       "      <th>1</th>\n",
       "      <td>163</td>\n",
       "      <td>2</td>\n",
       "    </tr>\n",
       "    <tr>\n",
       "      <th>2</th>\n",
       "      <td>216</td>\n",
       "      <td>3</td>\n",
       "    </tr>\n",
       "    <tr>\n",
       "      <th>3</th>\n",
       "      <td>296</td>\n",
       "      <td>4</td>\n",
       "    </tr>\n",
       "    <tr>\n",
       "      <th>4</th>\n",
       "      <td>333</td>\n",
       "      <td>5</td>\n",
       "    </tr>\n",
       "  </tbody>\n",
       "</table>\n",
       "</div>"
      ],
      "text/plain": [
       "   originalMovieId  newMovieId\n",
       "0               50           1\n",
       "1              163           2\n",
       "2              216           3\n",
       "3              296           4\n",
       "4              333           5"
      ]
     },
     "execution_count": 13,
     "metadata": {},
     "output_type": "execute_result"
    }
   ],
   "source": [
    "# Reindex movie ID\n",
    "movies = ratingDFX3.movieId.unique()\n",
    "moviesDF = pd.DataFrame(data=movies,columns=['originalMovieId'])\n",
    "moviesDF['newMovieId'] = moviesDF.index+1\n",
    "moviesDF.head()"
   ]
  },
  {
   "cell_type": "code",
   "execution_count": 14,
   "metadata": {
    "colab": {
     "base_uri": "https://localhost:8080/",
     "height": 208
    },
    "executionInfo": {
     "elapsed": 303115,
     "status": "ok",
     "timestamp": 1620258796145,
     "user": {
      "displayName": "Ankur Patel",
      "photoUrl": "https://lh3.googleusercontent.com/a-/AOh14GjuyT9p2uQcITYiB6Ja4gdHeMPvvVZ_RNUvS_DFuY0=s64",
      "userId": "08322043083056308084"
     },
     "user_tz": 240
    },
    "id": "pOFEgjmghFnA",
    "outputId": "993ada60-6557-4ae6-d560-7de85bda6415"
   },
   "outputs": [
    {
     "data": {
      "text/html": [
       "<div>\n",
       "<style scoped>\n",
       "    .dataframe tbody tr th:only-of-type {\n",
       "        vertical-align: middle;\n",
       "    }\n",
       "\n",
       "    .dataframe tbody tr th {\n",
       "        vertical-align: top;\n",
       "    }\n",
       "\n",
       "    .dataframe thead th {\n",
       "        text-align: right;\n",
       "    }\n",
       "</style>\n",
       "<table border=\"1\" class=\"dataframe\">\n",
       "  <thead>\n",
       "    <tr style=\"text-align: right;\">\n",
       "      <th></th>\n",
       "      <th>originalUserId</th>\n",
       "      <th>newUserId</th>\n",
       "    </tr>\n",
       "  </thead>\n",
       "  <tbody>\n",
       "    <tr>\n",
       "      <th>0</th>\n",
       "      <td>49</td>\n",
       "      <td>1</td>\n",
       "    </tr>\n",
       "    <tr>\n",
       "      <th>1</th>\n",
       "      <td>260</td>\n",
       "      <td>2</td>\n",
       "    </tr>\n",
       "    <tr>\n",
       "      <th>2</th>\n",
       "      <td>311</td>\n",
       "      <td>3</td>\n",
       "    </tr>\n",
       "    <tr>\n",
       "      <th>3</th>\n",
       "      <td>319</td>\n",
       "      <td>4</td>\n",
       "    </tr>\n",
       "    <tr>\n",
       "      <th>4</th>\n",
       "      <td>499</td>\n",
       "      <td>5</td>\n",
       "    </tr>\n",
       "  </tbody>\n",
       "</table>\n",
       "</div>"
      ],
      "text/plain": [
       "   originalUserId  newUserId\n",
       "0              49          1\n",
       "1             260          2\n",
       "2             311          3\n",
       "3             319          4\n",
       "4             499          5"
      ]
     },
     "execution_count": 14,
     "metadata": {},
     "output_type": "execute_result"
    }
   ],
   "source": [
    "# Reindex user ID\n",
    "users = ratingDFX3.userId.unique()\n",
    "usersDF = pd.DataFrame(data=users,columns=['originalUserId'])\n",
    "usersDF['newUserId'] = usersDF.index+1\n",
    "usersDF.head()"
   ]
  },
  {
   "cell_type": "code",
   "execution_count": 15,
   "metadata": {
    "colab": {
     "base_uri": "https://localhost:8080/",
     "height": 208
    },
    "executionInfo": {
     "elapsed": 303115,
     "status": "ok",
     "timestamp": 1620258796146,
     "user": {
      "displayName": "Ankur Patel",
      "photoUrl": "https://lh3.googleusercontent.com/a-/AOh14GjuyT9p2uQcITYiB6Ja4gdHeMPvvVZ_RNUvS_DFuY0=s64",
      "userId": "08322043083056308084"
     },
     "user_tz": 240
    },
    "id": "K7NTLT9ShFnB",
    "outputId": "c4acc922-0f49-44e5-c44a-ad023e43ca9a"
   },
   "outputs": [
    {
     "data": {
      "text/html": [
       "<div>\n",
       "<style scoped>\n",
       "    .dataframe tbody tr th:only-of-type {\n",
       "        vertical-align: middle;\n",
       "    }\n",
       "\n",
       "    .dataframe tbody tr th {\n",
       "        vertical-align: top;\n",
       "    }\n",
       "\n",
       "    .dataframe thead th {\n",
       "        text-align: right;\n",
       "    }\n",
       "</style>\n",
       "<table border=\"1\" class=\"dataframe\">\n",
       "  <thead>\n",
       "    <tr style=\"text-align: right;\">\n",
       "      <th></th>\n",
       "      <th>userId</th>\n",
       "      <th>movieId</th>\n",
       "      <th>rating</th>\n",
       "      <th>timestamp</th>\n",
       "      <th>newMovieId</th>\n",
       "      <th>newUserId</th>\n",
       "    </tr>\n",
       "  </thead>\n",
       "  <tbody>\n",
       "    <tr>\n",
       "      <th>0</th>\n",
       "      <td>49</td>\n",
       "      <td>50</td>\n",
       "      <td>5.0</td>\n",
       "      <td>2013-05-03 02:50:26</td>\n",
       "      <td>1</td>\n",
       "      <td>1</td>\n",
       "    </tr>\n",
       "    <tr>\n",
       "      <th>1</th>\n",
       "      <td>49</td>\n",
       "      <td>163</td>\n",
       "      <td>3.5</td>\n",
       "      <td>2013-05-03 02:43:37</td>\n",
       "      <td>2</td>\n",
       "      <td>1</td>\n",
       "    </tr>\n",
       "    <tr>\n",
       "      <th>2</th>\n",
       "      <td>49</td>\n",
       "      <td>216</td>\n",
       "      <td>3.0</td>\n",
       "      <td>2013-05-03 02:45:58</td>\n",
       "      <td>3</td>\n",
       "      <td>1</td>\n",
       "    </tr>\n",
       "    <tr>\n",
       "      <th>3</th>\n",
       "      <td>49</td>\n",
       "      <td>296</td>\n",
       "      <td>5.0</td>\n",
       "      <td>2013-05-03 02:50:13</td>\n",
       "      <td>4</td>\n",
       "      <td>1</td>\n",
       "    </tr>\n",
       "    <tr>\n",
       "      <th>4</th>\n",
       "      <td>49</td>\n",
       "      <td>333</td>\n",
       "      <td>3.0</td>\n",
       "      <td>2013-05-03 02:44:38</td>\n",
       "      <td>5</td>\n",
       "      <td>1</td>\n",
       "    </tr>\n",
       "  </tbody>\n",
       "</table>\n",
       "</div>"
      ],
      "text/plain": [
       "   userId  movieId  rating            timestamp  newMovieId  newUserId\n",
       "0      49       50     5.0  2013-05-03 02:50:26           1          1\n",
       "1      49      163     3.5  2013-05-03 02:43:37           2          1\n",
       "2      49      216     3.0  2013-05-03 02:45:58           3          1\n",
       "3      49      296     5.0  2013-05-03 02:50:13           4          1\n",
       "4      49      333     3.0  2013-05-03 02:44:38           5          1"
      ]
     },
     "execution_count": 15,
     "metadata": {},
     "output_type": "execute_result"
    }
   ],
   "source": [
    "# Generate newly merged DataFrame\n",
    "ratingDFX3 = ratingDFX3.merge(moviesDF,left_on='movieId',\n",
    "                              right_on='originalMovieId')\n",
    "ratingDFX3.drop(labels='originalMovieId', axis=1, inplace=True)\n",
    "ratingDFX3 = ratingDFX3.merge(usersDF,left_on='userId', \n",
    "                              right_on='originalUserId')\n",
    "ratingDFX3.drop(labels='originalUserId', axis=1, inplace=True)\n",
    "ratingDFX3.head()"
   ]
  },
  {
   "cell_type": "code",
   "execution_count": 16,
   "metadata": {
    "executionInfo": {
     "elapsed": 303996,
     "status": "ok",
     "timestamp": 1620258797028,
     "user": {
      "displayName": "Ankur Patel",
      "photoUrl": "https://lh3.googleusercontent.com/a-/AOh14GjuyT9p2uQcITYiB6Ja4gdHeMPvvVZ_RNUvS_DFuY0=s64",
      "userId": "08322043083056308084"
     },
     "user_tz": 240
    },
    "id": "kQz8Vt3ThFnB"
   },
   "outputs": [],
   "source": [
    "# Save as pickle\n",
    "pickle_file = os.path.sep.join(['', 'datasets', 'movielens_data', 'ratingReducedPickle'])\n",
    "ratingDFX3.to_pickle(current_path + \"/datasets/ml-20m/ratingReducedPickle\")\n",
    "ratingDFX3 = pd.read_pickle(current_path + \"/datasets/ml-20m/ratingReducedPickle\")"
   ]
  },
  {
   "cell_type": "markdown",
   "metadata": {},
   "source": [
    "# Read dataset"
   ]
  },
  {
   "cell_type": "code",
   "execution_count": 7,
   "metadata": {},
   "outputs": [],
   "source": [
    "# Download and read into Pandas DataFrame\n",
    "current_path = os.getcwd()\n",
    "ratingDFX3 = pd.read_pickle(current_path + \"/datasets/ml-20m/ratingReducedPickle\")"
   ]
  },
  {
   "cell_type": "code",
   "execution_count": 21,
   "metadata": {},
   "outputs": [
    {
     "data": {
      "text/html": [
       "<div>\n",
       "<style scoped>\n",
       "    .dataframe tbody tr th:only-of-type {\n",
       "        vertical-align: middle;\n",
       "    }\n",
       "\n",
       "    .dataframe tbody tr th {\n",
       "        vertical-align: top;\n",
       "    }\n",
       "\n",
       "    .dataframe thead th {\n",
       "        text-align: right;\n",
       "    }\n",
       "</style>\n",
       "<table border=\"1\" class=\"dataframe\">\n",
       "  <thead>\n",
       "    <tr style=\"text-align: right;\">\n",
       "      <th></th>\n",
       "      <th>userId</th>\n",
       "      <th>movieId</th>\n",
       "      <th>rating</th>\n",
       "      <th>timestamp</th>\n",
       "      <th>newMovieId</th>\n",
       "      <th>newUserId</th>\n",
       "    </tr>\n",
       "  </thead>\n",
       "  <tbody>\n",
       "    <tr>\n",
       "      <th>0</th>\n",
       "      <td>49</td>\n",
       "      <td>50</td>\n",
       "      <td>5.0</td>\n",
       "      <td>2013-05-03 02:50:26</td>\n",
       "      <td>1</td>\n",
       "      <td>1</td>\n",
       "    </tr>\n",
       "    <tr>\n",
       "      <th>1</th>\n",
       "      <td>49</td>\n",
       "      <td>163</td>\n",
       "      <td>3.5</td>\n",
       "      <td>2013-05-03 02:43:37</td>\n",
       "      <td>2</td>\n",
       "      <td>1</td>\n",
       "    </tr>\n",
       "    <tr>\n",
       "      <th>2</th>\n",
       "      <td>49</td>\n",
       "      <td>216</td>\n",
       "      <td>3.0</td>\n",
       "      <td>2013-05-03 02:45:58</td>\n",
       "      <td>3</td>\n",
       "      <td>1</td>\n",
       "    </tr>\n",
       "    <tr>\n",
       "      <th>3</th>\n",
       "      <td>49</td>\n",
       "      <td>296</td>\n",
       "      <td>5.0</td>\n",
       "      <td>2013-05-03 02:50:13</td>\n",
       "      <td>4</td>\n",
       "      <td>1</td>\n",
       "    </tr>\n",
       "    <tr>\n",
       "      <th>4</th>\n",
       "      <td>49</td>\n",
       "      <td>333</td>\n",
       "      <td>3.0</td>\n",
       "      <td>2013-05-03 02:44:38</td>\n",
       "      <td>5</td>\n",
       "      <td>1</td>\n",
       "    </tr>\n",
       "    <tr>\n",
       "      <th>5</th>\n",
       "      <td>49</td>\n",
       "      <td>475</td>\n",
       "      <td>4.5</td>\n",
       "      <td>2013-05-03 02:45:40</td>\n",
       "      <td>6</td>\n",
       "      <td>1</td>\n",
       "    </tr>\n",
       "    <tr>\n",
       "      <th>6</th>\n",
       "      <td>49</td>\n",
       "      <td>527</td>\n",
       "      <td>3.5</td>\n",
       "      <td>2013-05-03 02:49:22</td>\n",
       "      <td>7</td>\n",
       "      <td>1</td>\n",
       "    </tr>\n",
       "    <tr>\n",
       "      <th>7</th>\n",
       "      <td>49</td>\n",
       "      <td>593</td>\n",
       "      <td>4.0</td>\n",
       "      <td>2013-05-03 02:51:10</td>\n",
       "      <td>8</td>\n",
       "      <td>1</td>\n",
       "    </tr>\n",
       "    <tr>\n",
       "      <th>8</th>\n",
       "      <td>49</td>\n",
       "      <td>610</td>\n",
       "      <td>4.0</td>\n",
       "      <td>2013-05-03 02:46:44</td>\n",
       "      <td>9</td>\n",
       "      <td>1</td>\n",
       "    </tr>\n",
       "    <tr>\n",
       "      <th>9</th>\n",
       "      <td>49</td>\n",
       "      <td>785</td>\n",
       "      <td>3.5</td>\n",
       "      <td>2013-05-03 02:44:34</td>\n",
       "      <td>10</td>\n",
       "      <td>1</td>\n",
       "    </tr>\n",
       "  </tbody>\n",
       "</table>\n",
       "</div>"
      ],
      "text/plain": [
       "   userId  movieId  rating            timestamp  newMovieId  newUserId\n",
       "0      49       50     5.0  2013-05-03 02:50:26           1          1\n",
       "1      49      163     3.5  2013-05-03 02:43:37           2          1\n",
       "2      49      216     3.0  2013-05-03 02:45:58           3          1\n",
       "3      49      296     5.0  2013-05-03 02:50:13           4          1\n",
       "4      49      333     3.0  2013-05-03 02:44:38           5          1\n",
       "5      49      475     4.5  2013-05-03 02:45:40           6          1\n",
       "6      49      527     3.5  2013-05-03 02:49:22           7          1\n",
       "7      49      593     4.0  2013-05-03 02:51:10           8          1\n",
       "8      49      610     4.0  2013-05-03 02:46:44           9          1\n",
       "9      49      785     3.5  2013-05-03 02:44:34          10          1"
      ]
     },
     "execution_count": 21,
     "metadata": {},
     "output_type": "execute_result"
    }
   ],
   "source": [
    "ratingDFX3.head(10)"
   ]
  },
  {
   "cell_type": "code",
   "execution_count": 22,
   "metadata": {},
   "outputs": [
    {
     "data": {
      "text/plain": [
       "userId        0\n",
       "movieId       0\n",
       "rating        0\n",
       "timestamp     0\n",
       "newMovieId    0\n",
       "newUserId     0\n",
       "dtype: int64"
      ]
     },
     "execution_count": 22,
     "metadata": {},
     "output_type": "execute_result"
    }
   ],
   "source": [
    "np.sum(ratingDFX3.isnull(),axis=0)  # or df.isna()"
   ]
  },
  {
   "cell_type": "code",
   "execution_count": 23,
   "metadata": {},
   "outputs": [
    {
     "name": "stdout",
     "output_type": "stream",
     "text": [
      "<class 'pandas.core.frame.DataFrame'>\n",
      "Int64Index: 90213 entries, 0 to 90212\n",
      "Data columns (total 6 columns):\n",
      " #   Column      Non-Null Count  Dtype  \n",
      "---  ------      --------------  -----  \n",
      " 0   userId      90213 non-null  int32  \n",
      " 1   movieId     90213 non-null  int32  \n",
      " 2   rating      90213 non-null  float64\n",
      " 3   timestamp   90213 non-null  object \n",
      " 4   newMovieId  90213 non-null  int64  \n",
      " 5   newUserId   90213 non-null  int64  \n",
      "dtypes: float64(1), int32(2), int64(2), object(1)\n",
      "memory usage: 4.1+ MB\n"
     ]
    }
   ],
   "source": [
    "ratingDFX3.info()"
   ]
  },
  {
   "cell_type": "code",
   "execution_count": 24,
   "metadata": {},
   "outputs": [
    {
     "data": {
      "text/html": [
       "<div>\n",
       "<style scoped>\n",
       "    .dataframe tbody tr th:only-of-type {\n",
       "        vertical-align: middle;\n",
       "    }\n",
       "\n",
       "    .dataframe tbody tr th {\n",
       "        vertical-align: top;\n",
       "    }\n",
       "\n",
       "    .dataframe thead th {\n",
       "        text-align: right;\n",
       "    }\n",
       "</style>\n",
       "<table border=\"1\" class=\"dataframe\">\n",
       "  <thead>\n",
       "    <tr style=\"text-align: right;\">\n",
       "      <th></th>\n",
       "      <th>userId</th>\n",
       "      <th>movieId</th>\n",
       "      <th>rating</th>\n",
       "      <th>newMovieId</th>\n",
       "      <th>newUserId</th>\n",
       "    </tr>\n",
       "  </thead>\n",
       "  <tbody>\n",
       "    <tr>\n",
       "      <th>count</th>\n",
       "      <td>90213.000000</td>\n",
       "      <td>90213.000000</td>\n",
       "      <td>90213.000000</td>\n",
       "      <td>90213.000000</td>\n",
       "      <td>90213.000000</td>\n",
       "    </tr>\n",
       "    <tr>\n",
       "      <th>mean</th>\n",
       "      <td>69174.188787</td>\n",
       "      <td>4344.580870</td>\n",
       "      <td>3.625896</td>\n",
       "      <td>400.148748</td>\n",
       "      <td>490.860408</td>\n",
       "    </tr>\n",
       "    <tr>\n",
       "      <th>std</th>\n",
       "      <td>40122.438358</td>\n",
       "      <td>11066.728397</td>\n",
       "      <td>1.025440</td>\n",
       "      <td>280.464924</td>\n",
       "      <td>283.210360</td>\n",
       "    </tr>\n",
       "    <tr>\n",
       "      <th>min</th>\n",
       "      <td>49.000000</td>\n",
       "      <td>1.000000</td>\n",
       "      <td>0.500000</td>\n",
       "      <td>1.000000</td>\n",
       "      <td>1.000000</td>\n",
       "    </tr>\n",
       "    <tr>\n",
       "      <th>25%</th>\n",
       "      <td>33512.000000</td>\n",
       "      <td>553.000000</td>\n",
       "      <td>3.000000</td>\n",
       "      <td>139.000000</td>\n",
       "      <td>249.000000</td>\n",
       "    </tr>\n",
       "    <tr>\n",
       "      <th>50%</th>\n",
       "      <td>67793.000000</td>\n",
       "      <td>1380.000000</td>\n",
       "      <td>4.000000</td>\n",
       "      <td>364.000000</td>\n",
       "      <td>482.000000</td>\n",
       "    </tr>\n",
       "    <tr>\n",
       "      <th>75%</th>\n",
       "      <td>103394.000000</td>\n",
       "      <td>3072.000000</td>\n",
       "      <td>4.000000</td>\n",
       "      <td>615.000000</td>\n",
       "      <td>725.000000</td>\n",
       "    </tr>\n",
       "    <tr>\n",
       "      <th>max</th>\n",
       "      <td>138172.000000</td>\n",
       "      <td>81845.000000</td>\n",
       "      <td>5.000000</td>\n",
       "      <td>1000.000000</td>\n",
       "      <td>1000.000000</td>\n",
       "    </tr>\n",
       "  </tbody>\n",
       "</table>\n",
       "</div>"
      ],
      "text/plain": [
       "              userId       movieId        rating    newMovieId     newUserId\n",
       "count   90213.000000  90213.000000  90213.000000  90213.000000  90213.000000\n",
       "mean    69174.188787   4344.580870      3.625896    400.148748    490.860408\n",
       "std     40122.438358  11066.728397      1.025440    280.464924    283.210360\n",
       "min        49.000000      1.000000      0.500000      1.000000      1.000000\n",
       "25%     33512.000000    553.000000      3.000000    139.000000    249.000000\n",
       "50%     67793.000000   1380.000000      4.000000    364.000000    482.000000\n",
       "75%    103394.000000   3072.000000      4.000000    615.000000    725.000000\n",
       "max    138172.000000  81845.000000      5.000000   1000.000000   1000.000000"
      ]
     },
     "execution_count": 24,
     "metadata": {},
     "output_type": "execute_result"
    }
   ],
   "source": [
    "ratingDFX3.describe()\n",
    "#rating 最小值是 0.5"
   ]
  },
  {
   "cell_type": "code",
   "execution_count": 25,
   "metadata": {
    "colab": {
     "base_uri": "https://localhost:8080/"
    },
    "executionInfo": {
     "elapsed": 303996,
     "status": "ok",
     "timestamp": 1620258797029,
     "user": {
      "displayName": "Ankur Patel",
      "photoUrl": "https://lh3.googleusercontent.com/a-/AOh14GjuyT9p2uQcITYiB6Ja4gdHeMPvvVZ_RNUvS_DFuY0=s64",
      "userId": "08322043083056308084"
     },
     "user_tz": 240
    },
    "id": "sIMfkEl_hFnB",
    "outputId": "2d1c5c12-a94e-4f40-dd14-8d2744fe2cca"
   },
   "outputs": [
    {
     "name": "stdout",
     "output_type": "stream",
     "text": [
      "Number of unique users: 1000\n",
      "Number of unique movies: 1000\n",
      "Number of total ratings: 90213\n",
      "Average number of ratings per user: 90.2\n"
     ]
    }
   ],
   "source": [
    "# Calculate summary statistics on reduced dataset\n",
    "n_users = ratingDFX3.userId.unique().shape[0]\n",
    "n_movies = ratingDFX3.movieId.unique().shape[0]\n",
    "n_ratings = len(ratingDFX3)\n",
    "avg_ratings_per_user = n_ratings/n_users\n",
    "\n",
    "print(f'Number of unique users: {n_users}')\n",
    "print(f'Number of unique movies: {n_movies}')\n",
    "print(f'Number of total ratings: {n_ratings}')\n",
    "print(f'Average number of ratings per user: {round(avg_ratings_per_user,1)}')"
   ]
  },
  {
   "cell_type": "code",
   "execution_count": 26,
   "metadata": {
    "executionInfo": {
     "elapsed": 303996,
     "status": "ok",
     "timestamp": 1620258797030,
     "user": {
      "displayName": "Ankur Patel",
      "photoUrl": "https://lh3.googleusercontent.com/a-/AOh14GjuyT9p2uQcITYiB6Ja4gdHeMPvvVZ_RNUvS_DFuY0=s64",
      "userId": "08322043083056308084"
     },
     "user_tz": 240
    },
    "id": "OdHV5EH7hFnB"
   },
   "outputs": [],
   "source": [
    "# Split into validation and test, such that each is 5% of the dataset\n",
    "X_train, X_test = train_test_split(ratingDFX3, test_size=0.10, \\\n",
    "                                   shuffle=True, random_state=2018)\n",
    "X_valid, X_test = train_test_split(X_test,     test_size=0.50, \\\n",
    "                                   shuffle=True, random_state=2018)"
   ]
  },
  {
   "cell_type": "code",
   "execution_count": 27,
   "metadata": {
    "colab": {
     "base_uri": "https://localhost:8080/"
    },
    "executionInfo": {
     "elapsed": 303995,
     "status": "ok",
     "timestamp": 1620258797030,
     "user": {
      "displayName": "Ankur Patel",
      "photoUrl": "https://lh3.googleusercontent.com/a-/AOh14GjuyT9p2uQcITYiB6Ja4gdHeMPvvVZ_RNUvS_DFuY0=s64",
      "userId": "08322043083056308084"
     },
     "user_tz": 240
    },
    "id": "kFXIC962hFnC",
    "outputId": "f0e53c0d-c0c7-4899-b2e6-3215cae8a854"
   },
   "outputs": [
    {
     "name": "stdout",
     "output_type": "stream",
     "text": [
      "Size of train set: 81191\n",
      "Size of validation set: 4511\n",
      "Size of test set: 4511\n"
     ]
    }
   ],
   "source": [
    "# Confirm size of train, validation, and test datasets\n",
    "for (l,x) in [('train',X_train),('validation',X_valid),('test',X_test)]:\n",
    "    print(f'Size of {l} set: {len(x)}')"
   ]
  },
  {
   "attachments": {
    "image.png": {
     "image/png": "[encoded data removed]"
    }
   },
   "cell_type": "markdown",
   "metadata": {},
   "source": [
    "![image.png](attachment:image.png)"
   ]
  },
  {
   "cell_type": "code",
   "execution_count": 28,
   "metadata": {
    "executionInfo": {
     "elapsed": 304411,
     "status": "ok",
     "timestamp": 1620258797447,
     "user": {
      "displayName": "Ankur Patel",
      "photoUrl": "https://lh3.googleusercontent.com/a-/AOh14GjuyT9p2uQcITYiB6Ja4gdHeMPvvVZ_RNUvS_DFuY0=s64",
      "userId": "08322043083056308084"
     },
     "user_tz": 240
    },
    "id": "WhzbVfJdhFnC"
   },
   "outputs": [],
   "source": [
    "# Generate ratings matrix for train, validation and test\n",
    "ratings_train = np.zeros((n_users, n_movies))\n",
    "ratings_valid = np.zeros((n_users, n_movies))\n",
    "ratings_test  = np.zeros((n_users, n_movies))\n",
    "for (X,ratings) in [(X_train,ratings_train),(X_valid,ratings_valid),(X_test,ratings_test)]:\n",
    "    for row in X.itertuples(): #itertuples:pandas datqframe中取出列\n",
    "        ratings[row[6]-1, row[5]-1] = row[3]"
   ]
  },
  {
   "cell_type": "code",
   "execution_count": 29,
   "metadata": {
    "scrolled": true
   },
   "outputs": [
    {
     "data": {
      "text/html": [
       "<div>\n",
       "<style scoped>\n",
       "    .dataframe tbody tr th:only-of-type {\n",
       "        vertical-align: middle;\n",
       "    }\n",
       "\n",
       "    .dataframe tbody tr th {\n",
       "        vertical-align: top;\n",
       "    }\n",
       "\n",
       "    .dataframe thead th {\n",
       "        text-align: right;\n",
       "    }\n",
       "</style>\n",
       "<table border=\"1\" class=\"dataframe\">\n",
       "  <thead>\n",
       "    <tr style=\"text-align: right;\">\n",
       "      <th></th>\n",
       "      <th>userId</th>\n",
       "      <th>movieId</th>\n",
       "      <th>rating</th>\n",
       "      <th>timestamp</th>\n",
       "      <th>newMovieId</th>\n",
       "      <th>newUserId</th>\n",
       "    </tr>\n",
       "  </thead>\n",
       "  <tbody>\n",
       "    <tr>\n",
       "      <th>77796</th>\n",
       "      <td>118358</td>\n",
       "      <td>2918</td>\n",
       "      <td>4.0</td>\n",
       "      <td>2005-03-17 13:11:50</td>\n",
       "      <td>725</td>\n",
       "      <td>841</td>\n",
       "    </tr>\n",
       "    <tr>\n",
       "      <th>20109</th>\n",
       "      <td>48345</td>\n",
       "      <td>1907</td>\n",
       "      <td>3.0</td>\n",
       "      <td>2003-01-26 05:32:21</td>\n",
       "      <td>345</td>\n",
       "      <td>347</td>\n",
       "    </tr>\n",
       "    <tr>\n",
       "      <th>61046</th>\n",
       "      <td>25880</td>\n",
       "      <td>74458</td>\n",
       "      <td>4.0</td>\n",
       "      <td>2010-11-21 09:47:32</td>\n",
       "      <td>75</td>\n",
       "      <td>180</td>\n",
       "    </tr>\n",
       "    <tr>\n",
       "      <th>58074</th>\n",
       "      <td>73713</td>\n",
       "      <td>39</td>\n",
       "      <td>4.0</td>\n",
       "      <td>1999-02-07 05:07:01</td>\n",
       "      <td>465</td>\n",
       "      <td>522</td>\n",
       "    </tr>\n",
       "    <tr>\n",
       "      <th>77706</th>\n",
       "      <td>117584</td>\n",
       "      <td>590</td>\n",
       "      <td>4.0</td>\n",
       "      <td>1996-09-11 08:24:35</td>\n",
       "      <td>255</td>\n",
       "      <td>831</td>\n",
       "    </tr>\n",
       "    <tr>\n",
       "      <th>...</th>\n",
       "      <td>...</td>\n",
       "      <td>...</td>\n",
       "      <td>...</td>\n",
       "      <td>...</td>\n",
       "      <td>...</td>\n",
       "      <td>...</td>\n",
       "    </tr>\n",
       "    <tr>\n",
       "      <th>10388</th>\n",
       "      <td>27131</td>\n",
       "      <td>52</td>\n",
       "      <td>5.0</td>\n",
       "      <td>2000-07-03 18:02:48</td>\n",
       "      <td>634</td>\n",
       "      <td>195</td>\n",
       "    </tr>\n",
       "    <tr>\n",
       "      <th>40092</th>\n",
       "      <td>108946</td>\n",
       "      <td>2028</td>\n",
       "      <td>4.0</td>\n",
       "      <td>2001-01-31 05:48:49</td>\n",
       "      <td>57</td>\n",
       "      <td>769</td>\n",
       "    </tr>\n",
       "    <tr>\n",
       "      <th>84745</th>\n",
       "      <td>32312</td>\n",
       "      <td>5299</td>\n",
       "      <td>4.0</td>\n",
       "      <td>2005-03-27 06:42:32</td>\n",
       "      <td>380</td>\n",
       "      <td>243</td>\n",
       "    </tr>\n",
       "    <tr>\n",
       "      <th>80098</th>\n",
       "      <td>93974</td>\n",
       "      <td>508</td>\n",
       "      <td>5.0</td>\n",
       "      <td>2003-01-20 07:06:12</td>\n",
       "      <td>39</td>\n",
       "      <td>654</td>\n",
       "    </tr>\n",
       "    <tr>\n",
       "      <th>60006</th>\n",
       "      <td>7934</td>\n",
       "      <td>1210</td>\n",
       "      <td>5.0</td>\n",
       "      <td>2011-09-21 19:02:01</td>\n",
       "      <td>138</td>\n",
       "      <td>61</td>\n",
       "    </tr>\n",
       "  </tbody>\n",
       "</table>\n",
       "<p>81191 rows × 6 columns</p>\n",
       "</div>"
      ],
      "text/plain": [
       "       userId  movieId  rating            timestamp  newMovieId  newUserId\n",
       "77796  118358     2918     4.0  2005-03-17 13:11:50         725        841\n",
       "20109   48345     1907     3.0  2003-01-26 05:32:21         345        347\n",
       "61046   25880    74458     4.0  2010-11-21 09:47:32          75        180\n",
       "58074   73713       39     4.0  1999-02-07 05:07:01         465        522\n",
       "77706  117584      590     4.0  1996-09-11 08:24:35         255        831\n",
       "...       ...      ...     ...                  ...         ...        ...\n",
       "10388   27131       52     5.0  2000-07-03 18:02:48         634        195\n",
       "40092  108946     2028     4.0  2001-01-31 05:48:49          57        769\n",
       "84745   32312     5299     4.0  2005-03-27 06:42:32         380        243\n",
       "80098   93974      508     5.0  2003-01-20 07:06:12          39        654\n",
       "60006    7934     1210     5.0  2011-09-21 19:02:01         138         61\n",
       "\n",
       "[81191 rows x 6 columns]"
      ]
     },
     "execution_count": 29,
     "metadata": {},
     "output_type": "execute_result"
    }
   ],
   "source": [
    "X_train"
   ]
  },
  {
   "cell_type": "code",
   "execution_count": 36,
   "metadata": {},
   "outputs": [
    {
     "data": {
      "text/plain": [
       "4.0"
      ]
     },
     "execution_count": 36,
     "metadata": {},
     "output_type": "execute_result"
    }
   ],
   "source": [
    "ratings_train[840][724]"
   ]
  },
  {
   "cell_type": "code",
   "execution_count": 45,
   "metadata": {},
   "outputs": [
    {
     "data": {
      "text/plain": [
       "array([5. , 3.5, 0. , 5. , 3. , 4.5, 3.5, 4. , 4. , 3.5, 2.5, 0. , 3. ,\n",
       "       4. , 4. , 4. , 3. , 4. , 4.5, 3. , 3.5, 4. , 3.5, 4. , 4. , 3.5,\n",
       "       4. , 4. , 0. , 0. , 0. , 0. , 0. , 0. , 0. , 0. , 0. , 0. , 0. ,\n",
       "       0. , 0. , 0. , 0. , 0. , 0. , 0. , 0. , 0. , 0. , 0. ])"
      ]
     },
     "execution_count": 45,
     "metadata": {},
     "output_type": "execute_result"
    }
   ],
   "source": [
    "ratings_train[0][:50]"
   ]
  },
  {
   "cell_type": "code",
   "execution_count": 37,
   "metadata": {
    "colab": {
     "base_uri": "https://localhost:8080/"
    },
    "executionInfo": {
     "elapsed": 304411,
     "status": "ok",
     "timestamp": 1620258797448,
     "user": {
      "displayName": "Ankur Patel",
      "photoUrl": "https://lh3.googleusercontent.com/a-/AOh14GjuyT9p2uQcITYiB6Ja4gdHeMPvvVZ_RNUvS_DFuY0=s64",
      "userId": "08322043083056308084"
     },
     "user_tz": 240
    },
    "id": "pgQbNDt1hFnC",
    "outputId": "b845612a-8c65-4a6f-89b9-f2c972faec3c"
   },
   "outputs": [
    {
     "data": {
      "text/plain": [
       "((1000, 1000), (1000, 1000), (1000, 1000))"
      ]
     },
     "execution_count": 37,
     "metadata": {},
     "output_type": "execute_result"
    }
   ],
   "source": [
    "ratings_train.shape, ratings_valid.shape, ratings_test.shape"
   ]
  },
  {
   "cell_type": "code",
   "execution_count": 38,
   "metadata": {
    "executionInfo": {
     "elapsed": 304410,
     "status": "ok",
     "timestamp": 1620258797448,
     "user": {
      "displayName": "Ankur Patel",
      "photoUrl": "https://lh3.googleusercontent.com/a-/AOh14GjuyT9p2uQcITYiB6Ja4gdHeMPvvVZ_RNUvS_DFuY0=s64",
      "userId": "08322043083056308084"
     },
     "user_tz": 240
    },
    "id": "C4dHTIHJhFnD"
   },
   "outputs": [],
   "source": [
    "# Calculate the sparsity of the train, validation & test rating matrices\n",
    "def calc_sparsity(label, ratings):\n",
    "    sparsity = float(len(ratings.nonzero()[0]))\n",
    "    sparsity /= (ratings.shape[0] * ratings.shape[1])\n",
    "    sparsity *= 100\n",
    "    print('{:s} Sparsity: {:4.2f}%'.format(label, sparsity))"
   ]
  },
  {
   "cell_type": "code",
   "execution_count": 39,
   "metadata": {
    "colab": {
     "base_uri": "https://localhost:8080/"
    },
    "executionInfo": {
     "elapsed": 304409,
     "status": "ok",
     "timestamp": 1620258797448,
     "user": {
      "displayName": "Ankur Patel",
      "photoUrl": "https://lh3.googleusercontent.com/a-/AOh14GjuyT9p2uQcITYiB6Ja4gdHeMPvvVZ_RNUvS_DFuY0=s64",
      "userId": "08322043083056308084"
     },
     "user_tz": 240
    },
    "id": "UP6WOJWVhFnD",
    "outputId": "09b6d679-6868-435d-8b0c-d326a871a965"
   },
   "outputs": [
    {
     "name": "stdout",
     "output_type": "stream",
     "text": [
      "Train Sparsity: 8.12%\n",
      "Validation Sparsity: 0.45%\n",
      "Test Sparsity: 0.45%\n"
     ]
    }
   ],
   "source": [
    "for (lbl, rtg) in [('Train',ratings_train),('Validation',ratings_valid),('Test', ratings_test)]:\n",
    "    calc_sparsity(lbl,rtg)"
   ]
  },
  {
   "cell_type": "markdown",
   "metadata": {
    "id": "rKoY2ZcxhFnD"
   },
   "source": [
    "# Perform Baseline Experiments "
   ]
  },
  {
   "cell_type": "code",
   "execution_count": 131,
   "metadata": {},
   "outputs": [
    {
     "data": {
      "text/plain": [
       "(1000, 1000)"
      ]
     },
     "execution_count": 131,
     "metadata": {},
     "output_type": "execute_result"
    }
   ],
   "source": [
    "ratings_valid.shape"
   ]
  },
  {
   "cell_type": "code",
   "execution_count": 132,
   "metadata": {},
   "outputs": [
    {
     "data": {
      "text/plain": [
       "array([0., 0., 3., 0., 0., 0., 0., 0., 0., 0., 0., 0., 0., 0., 0., 0., 0.,\n",
       "       0., 0., 0., 0., 0., 0., 0., 0., 0., 0., 0., 0., 0., 0., 0., 0., 0.,\n",
       "       0., 0., 0., 0., 0., 0., 0., 0., 0., 0., 0., 0., 0., 0., 0., 0., 0.,\n",
       "       0., 0., 0., 0., 0., 0., 0., 0., 0., 0., 0., 0., 0., 0., 0., 0., 0.,\n",
       "       0., 0., 0., 0., 0., 0., 0., 0., 0., 0., 0., 0., 0., 0., 0., 0., 0.,\n",
       "       0., 0., 0., 0., 0., 0., 0., 0., 0., 0., 0., 0., 0., 0., 0., 0., 0.,\n",
       "       0., 0., 0., 0., 0., 0., 0., 0., 0., 0., 0., 0., 0., 0., 0., 0., 0.,\n",
       "       0., 0., 0., 0., 0., 0., 0., 0., 0., 0., 0., 0., 0., 0., 0., 0., 0.,\n",
       "       0., 0., 0., 0., 0., 0., 0., 0., 0., 0., 0., 0., 0., 0., 0., 0., 0.,\n",
       "       0., 0., 0., 0., 0., 0., 0., 0., 0., 0., 0., 0., 0., 0., 0., 0., 0.,\n",
       "       0., 0., 0., 0., 0., 0., 0., 0., 0., 0., 0., 0., 0., 0., 0., 0., 0.,\n",
       "       0., 0., 0., 0., 0., 0., 0., 0., 0., 0., 0., 0., 0., 0., 0., 0., 0.,\n",
       "       0., 0., 0., 0., 0., 0., 0., 0., 0., 0., 0., 0., 0., 0., 0., 0., 0.,\n",
       "       0., 0., 0., 0., 0., 0., 0., 0., 0., 0., 0., 0., 0., 0., 0., 0., 0.,\n",
       "       0., 0., 0., 0., 0., 0., 0., 0., 0., 0., 0., 0., 0., 0., 0., 0., 0.,\n",
       "       0., 0., 0., 0., 0., 0., 0., 0., 0., 0., 0., 0., 0., 0., 0., 0., 0.,\n",
       "       0., 0., 0., 0., 0., 0., 0., 0., 0., 0., 0., 0., 0., 0., 0., 0., 0.,\n",
       "       0., 0., 0., 0., 0., 0., 0., 0., 0., 0., 0., 0., 0., 0., 0., 0., 0.,\n",
       "       0., 0., 0., 0., 0., 0., 0., 0., 0., 0., 0., 0., 0., 0., 0., 0., 0.,\n",
       "       0., 0., 0., 0., 0., 0., 0., 0., 0., 0., 0., 0., 0., 0., 0., 0., 0.,\n",
       "       0., 0., 0., 0., 0., 0., 0., 0., 0., 0., 0., 0., 0., 0., 0., 0., 0.,\n",
       "       0., 0., 0., 0., 0., 0., 0., 0., 0., 0., 0., 0., 0., 0., 0., 0., 0.,\n",
       "       0., 0., 0., 0., 0., 0., 0., 0., 0., 0., 0., 0., 0., 0., 0., 0., 0.,\n",
       "       0., 0., 0., 0., 0., 0., 0., 0., 0., 0., 0., 0., 0., 0., 0., 0., 0.,\n",
       "       0., 0., 0., 0., 0., 0., 0., 0., 0., 0., 0., 0., 0., 0., 0., 0., 0.,\n",
       "       0., 0., 0., 0., 0., 0., 0., 0., 0., 0., 0., 0., 0., 0., 0., 0., 0.,\n",
       "       0., 0., 0., 0., 0., 0., 0., 0., 0., 0., 0., 0., 0., 0., 0., 0., 0.,\n",
       "       0., 0., 0., 0., 0., 0., 0., 0., 0., 0., 0., 0., 0., 0., 0., 0., 0.,\n",
       "       0., 0., 0., 0., 0., 0., 0., 0., 0., 0., 0., 0., 0., 0., 0., 0., 0.,\n",
       "       0., 0., 0., 0., 0., 0., 0., 0., 0., 0., 0., 0., 0., 0., 0., 0., 0.,\n",
       "       0., 0., 0., 0., 0., 0., 0., 0., 0., 0., 0., 0., 0., 0., 0., 0., 0.,\n",
       "       0., 0., 0., 0., 0., 0., 0., 0., 0., 0., 0., 0., 0., 0., 0., 0., 0.,\n",
       "       0., 0., 0., 0., 0., 0., 0., 0., 0., 0., 0., 0., 0., 0., 0., 0., 0.,\n",
       "       0., 0., 0., 0., 0., 0., 0., 0., 0., 0., 0., 0., 0., 0., 0., 0., 0.,\n",
       "       0., 0., 0., 0., 0., 0., 0., 0., 0., 0., 0., 0., 0., 0., 0., 0., 0.,\n",
       "       0., 0., 0., 0., 0., 0., 0., 0., 0., 0., 0., 0., 0., 0., 0., 0., 0.,\n",
       "       0., 0., 0., 0., 0., 0., 0., 0., 0., 0., 0., 0., 0., 0., 0., 0., 0.,\n",
       "       0., 0., 0., 0., 0., 0., 0., 0., 0., 0., 0., 0., 0., 0., 0., 0., 0.,\n",
       "       0., 0., 0., 0., 0., 0., 0., 0., 0., 0., 0., 0., 0., 0., 0., 0., 0.,\n",
       "       0., 0., 0., 0., 0., 0., 0., 0., 0., 0., 0., 0., 0., 0., 0., 0., 0.,\n",
       "       0., 0., 0., 0., 0., 0., 0., 0., 0., 0., 0., 0., 0., 0., 0., 0., 0.,\n",
       "       0., 0., 0., 0., 0., 0., 0., 0., 0., 0., 0., 0., 0., 0., 0., 0., 0.,\n",
       "       0., 0., 0., 0., 0., 0., 0., 0., 0., 0., 0., 0., 0., 0., 0., 0., 0.,\n",
       "       0., 0., 0., 0., 0., 0., 0., 0., 0., 0., 0., 0., 0., 0., 0., 0., 0.,\n",
       "       0., 0., 0., 0., 0., 0., 0., 0., 0., 0., 0., 0., 0., 0., 0., 0., 0.,\n",
       "       0., 0., 0., 0., 0., 0., 0., 0., 0., 0., 0., 0., 0., 0., 0., 0., 0.,\n",
       "       0., 0., 0., 0., 0., 0., 0., 0., 0., 0., 0., 0., 0., 0., 0., 0., 0.,\n",
       "       0., 0., 0., 0., 0., 0., 0., 0., 0., 0., 0., 0., 0., 0., 0., 0., 0.,\n",
       "       0., 0., 0., 0., 0., 0., 0., 0., 0., 0., 0., 0., 0., 0., 0., 0., 0.,\n",
       "       0., 0., 0., 0., 0., 0., 0., 0., 0., 0., 0., 0., 0., 0., 0., 0., 0.,\n",
       "       0., 0., 0., 0., 0., 0., 0., 0., 0., 0., 0., 0., 0., 0., 0., 0., 0.,\n",
       "       0., 0., 0., 0., 0., 0., 0., 0., 0., 0., 0., 0., 0., 0., 0., 0., 0.,\n",
       "       0., 0., 0., 0., 0., 0., 0., 0., 0., 0., 0., 0., 0., 0., 0., 0., 0.,\n",
       "       0., 0., 0., 0., 0., 0., 0., 0., 0., 0., 0., 0., 0., 0., 0., 0., 0.,\n",
       "       0., 0., 0., 0., 0., 0., 0., 0., 0., 0., 0., 0., 0., 0., 0., 0., 0.,\n",
       "       0., 0., 0., 0., 0., 0., 0., 0., 0., 0., 0., 0., 0., 0., 0., 0., 0.,\n",
       "       0., 0., 0., 0., 0., 0., 0., 0., 0., 0., 0., 0., 0., 0., 0., 0., 0.,\n",
       "       0., 0., 0., 0., 0., 0., 0., 0., 0., 0., 0., 0., 0., 0., 0., 0., 0.,\n",
       "       0., 0., 0., 0., 0., 0., 0., 0., 0., 0., 0., 0., 0., 0.])"
      ]
     },
     "execution_count": 132,
     "metadata": {},
     "output_type": "execute_result"
    }
   ],
   "source": [
    "ratings_valid[0]"
   ]
  },
  {
   "cell_type": "code",
   "execution_count": 133,
   "metadata": {},
   "outputs": [
    {
     "data": {
      "text/plain": [
       "(array([  0,   1,   1, ..., 998, 998, 998], dtype=int64),\n",
       " array([  2,  35,  36, ..., 966, 968, 985], dtype=int64))"
      ]
     },
     "execution_count": 133,
     "metadata": {},
     "output_type": "execute_result"
    }
   ],
   "source": [
    "ratings_valid.nonzero()"
   ]
  },
  {
   "cell_type": "code",
   "execution_count": 134,
   "metadata": {
    "executionInfo": {
     "elapsed": 304408,
     "status": "ok",
     "timestamp": 1620258797448,
     "user": {
      "displayName": "Ankur Patel",
      "photoUrl": "https://lh3.googleusercontent.com/a-/AOh14GjuyT9p2uQcITYiB6Ja4gdHeMPvvVZ_RNUvS_DFuY0=s64",
      "userId": "08322043083056308084"
     },
     "user_tz": 240
    },
    "id": "eKd4Rz-ahFnD"
   },
   "outputs": [],
   "source": [
    "# Flatten the sprace matrix with the rations for the validation set. This will be the vector of actual ratings\n",
    "#numpy.nonzero():returns two arrays, \n",
    "#The first array represents the row indices where the non-zero elements are found.\n",
    "#The second array represents the column indices where the non-zero elements are found.\n",
    "actual_valid = ratings_valid[ratings_valid.nonzero()].flatten()"
   ]
  },
  {
   "cell_type": "code",
   "execution_count": 135,
   "metadata": {},
   "outputs": [
    {
     "data": {
      "text/plain": [
       "array([3., 1., 3., ..., 3., 3., 4.])"
      ]
     },
     "execution_count": 135,
     "metadata": {},
     "output_type": "execute_result"
    }
   ],
   "source": [
    "actual_valid"
   ]
  },
  {
   "cell_type": "code",
   "execution_count": 136,
   "metadata": {},
   "outputs": [
    {
     "data": {
      "text/plain": [
       "4511"
      ]
     },
     "execution_count": 136,
     "metadata": {},
     "output_type": "execute_result"
    }
   ],
   "source": [
    "len(actual_valid)"
   ]
  },
  {
   "cell_type": "markdown",
   "metadata": {
    "id": "FuJDbFO5hFnD"
   },
   "source": [
    "## Experiment One \n",
    "### Assign naive 3.5 rating and calculate baseline MSE\n",
    "\n",
    "### 比較的基準是你對於電影評價的預測評價和他實際上對此電影的評價    "
   ]
  },
  {
   "cell_type": "code",
   "execution_count": 137,
   "metadata": {
    "executionInfo": {
     "elapsed": 304408,
     "status": "ok",
     "timestamp": 1620258797449,
     "user": {
      "displayName": "Ankur Patel",
      "photoUrl": "https://lh3.googleusercontent.com/a-/AOh14GjuyT9p2uQcITYiB6Ja4gdHeMPvvVZ_RNUvS_DFuY0=s64",
      "userId": "08322043083056308084"
     },
     "user_tz": 240
    },
    "id": "Se4fx8awhFnE"
   },
   "outputs": [],
   "source": [
    "pred_valid = np.zeros((len(actual_valid),1))\n"
   ]
  },
  {
   "cell_type": "code",
   "execution_count": 138,
   "metadata": {},
   "outputs": [
    {
     "data": {
      "text/plain": [
       "(4511, 1)"
      ]
     },
     "execution_count": 138,
     "metadata": {},
     "output_type": "execute_result"
    }
   ],
   "source": [
    "pred_valid.shape"
   ]
  },
  {
   "cell_type": "code",
   "execution_count": 139,
   "metadata": {},
   "outputs": [
    {
     "data": {
      "text/plain": [
       "array([[0.],\n",
       "       [0.],\n",
       "       [0.],\n",
       "       ...,\n",
       "       [0.],\n",
       "       [0.],\n",
       "       [0.]])"
      ]
     },
     "execution_count": 139,
     "metadata": {},
     "output_type": "execute_result"
    }
   ],
   "source": [
    "pred_valid"
   ]
  },
  {
   "cell_type": "code",
   "execution_count": 140,
   "metadata": {},
   "outputs": [],
   "source": [
    "pred_valid[pred_valid==0]=3.5"
   ]
  },
  {
   "cell_type": "code",
   "execution_count": 141,
   "metadata": {},
   "outputs": [
    {
     "data": {
      "text/plain": [
       "array([[3.5],\n",
       "       [3.5],\n",
       "       [3.5],\n",
       "       ...,\n",
       "       [3.5],\n",
       "       [3.5],\n",
       "       [3.5]])"
      ]
     },
     "execution_count": 141,
     "metadata": {},
     "output_type": "execute_result"
    }
   ],
   "source": [
    "pred_valid"
   ]
  },
  {
   "cell_type": "code",
   "execution_count": 121,
   "metadata": {
    "colab": {
     "base_uri": "https://localhost:8080/"
    },
    "executionInfo": {
     "elapsed": 304407,
     "status": "ok",
     "timestamp": 1620258797449,
     "user": {
      "displayName": "Ankur Patel",
      "photoUrl": "https://lh3.googleusercontent.com/a-/AOh14GjuyT9p2uQcITYiB6Ja4gdHeMPvvVZ_RNUvS_DFuY0=s64",
      "userId": "08322043083056308084"
     },
     "user_tz": 240
    },
    "id": "fFwFhFFehFnE",
    "outputId": "c314eedf-4c76-48a9-91f3-c4e95b757843"
   },
   "outputs": [
    {
     "name": "stdout",
     "output_type": "stream",
     "text": [
      "Mean squared error using naive prediction: 1.06\n"
     ]
    }
   ],
   "source": [
    "naive_prediction = mean_squared_error(pred_valid, actual_valid)\n",
    "print(f'Mean squared error using naive prediction: {round(naive_prediction,2)}')"
   ]
  },
  {
   "attachments": {
    "recommand_1-2.png": {
     "image/png": "[encoded data removed]"
    }
   },
   "cell_type": "markdown",
   "metadata": {
    "id": "ZVtJ6NIghFnF"
   },
   "source": [
    "## Experiment Two\n",
    "## Predict a user's rating based on user's average rating for all other movies\n",
    "![recommand_1-2.png](attachment:recommand_1-2.png)"
   ]
  },
  {
   "cell_type": "code",
   "execution_count": 153,
   "metadata": {},
   "outputs": [
    {
     "data": {
      "text/plain": [
       "(1000, 1000)"
      ]
     },
     "execution_count": 153,
     "metadata": {},
     "output_type": "execute_result"
    }
   ],
   "source": [
    "ratings_train.shape"
   ]
  },
  {
   "cell_type": "code",
   "execution_count": 154,
   "metadata": {},
   "outputs": [
    {
     "data": {
      "text/plain": [
       "array([[5. , 3.5, 0. , ..., 0. , 0. , 0. ],\n",
       "       [4. , 0. , 0. , ..., 0. , 0. , 0. ],\n",
       "       [5. , 3. , 0. , ..., 0. , 0. , 0. ],\n",
       "       ...,\n",
       "       [0. , 4. , 0. , ..., 0. , 0. , 0. ],\n",
       "       [4. , 2. , 1.5, ..., 0. , 0. , 0. ],\n",
       "       [0. , 0. , 0. , ..., 0. , 0. , 0. ]])"
      ]
     },
     "execution_count": 154,
     "metadata": {},
     "output_type": "execute_result"
    }
   ],
   "source": [
    "ratings_train"
   ]
  },
  {
   "cell_type": "code",
   "execution_count": 159,
   "metadata": {},
   "outputs": [
    {
     "name": "stdout",
     "output_type": "stream",
     "text": [
      "(1000, 1000)\n"
     ]
    }
   ],
   "source": [
    "ratings_valid_pred = np.zeros((n_users, n_movies))\n",
    "print(ratings_valid_pred.shape)"
   ]
  },
  {
   "cell_type": "code",
   "execution_count": 160,
   "metadata": {},
   "outputs": [
    {
     "data": {
      "text/plain": [
       "array([[0., 0., 0., ..., 0., 0., 0.],\n",
       "       [0., 0., 0., ..., 0., 0., 0.],\n",
       "       [0., 0., 0., ..., 0., 0., 0.],\n",
       "       ...,\n",
       "       [0., 0., 0., ..., 0., 0., 0.],\n",
       "       [0., 0., 0., ..., 0., 0., 0.],\n",
       "       [0., 0., 0., ..., 0., 0., 0.]])"
      ]
     },
     "execution_count": 160,
     "metadata": {},
     "output_type": "execute_result"
    }
   ],
   "source": [
    "ratings_valid_pred"
   ]
  },
  {
   "cell_type": "code",
   "execution_count": 162,
   "metadata": {
    "colab": {
     "base_uri": "https://localhost:8080/"
    },
    "executionInfo": {
     "elapsed": 304406,
     "status": "ok",
     "timestamp": 1620258797449,
     "user": {
      "displayName": "Ankur Patel",
      "photoUrl": "https://lh3.googleusercontent.com/a-/AOh14GjuyT9p2uQcITYiB6Ja4gdHeMPvvVZ_RNUvS_DFuY0=s64",
      "userId": "08322043083056308084"
     },
     "user_tz": 240
    },
    "id": "rXDCSH97hFnF",
    "outputId": "80a0477e-6203-44be-e13e-f55017a5cf61"
   },
   "outputs": [
    {
     "name": "stdout",
     "output_type": "stream",
     "text": [
      "Mean squared error using user average: 0.909\n"
     ]
    }
   ],
   "source": [
    "\n",
    "i = 0\n",
    "for row in ratings_train:  #ratings_valid_pred 每個人對其沒有看過的電影都設成其對電影的平均評價\n",
    "    ratings_valid_pred[i][ratings_valid_pred[i]==0] = np.mean(row[row>0])\n",
    "    #ratings_valid_pred[i][ratings_valid[i]==0] = np.mean(row[row>0])\n",
    "    i += 1\n",
    "\n",
    "#比較的基準是你對於電影評價的預測評價和他實際上對此電影的評價    \n",
    "#故只取ratings_valid_pred中屬於ratings_valid有評價的電影出來和actual_valid做比較,就知道預測準不準確\n",
    "pred_valid = ratings_valid_pred[ratings_valid.nonzero()].flatten()\n",
    "\n",
    "\n",
    "\n",
    "user_average = mean_squared_error(pred_valid, actual_valid)\n",
    "print(f'Mean squared error using user average: {round(user_average,3)}')"
   ]
  },
  {
   "cell_type": "code",
   "execution_count": 96,
   "metadata": {},
   "outputs": [
    {
     "data": {
      "text/plain": [
       "array([[4.32291667, 3.45108696, 3.37      , ..., 0.        , 4.04166667,\n",
       "        3.77777778],\n",
       "       [4.32291667, 3.45108696, 3.37      , ..., 4.13235294, 4.04166667,\n",
       "        3.77777778],\n",
       "       [0.        , 3.45108696, 3.37      , ..., 4.13235294, 4.04166667,\n",
       "        3.77777778],\n",
       "       ...,\n",
       "       [4.32291667, 3.45108696, 3.37      , ..., 4.13235294, 4.04166667,\n",
       "        3.77777778],\n",
       "       [4.32291667, 3.45108696, 3.37      , ..., 4.13235294, 4.04166667,\n",
       "        3.77777778],\n",
       "       [4.32291667, 3.45108696, 3.37      , ..., 4.13235294, 4.04166667,\n",
       "        3.77777778]])"
      ]
     },
     "execution_count": 96,
     "metadata": {},
     "output_type": "execute_result"
    }
   ],
   "source": [
    "ratings_valid_pred"
   ]
  },
  {
   "attachments": {
    "recommand_2-2.png": {
     "image/png": "[encoded data removed]"
    }
   },
   "cell_type": "markdown",
   "metadata": {},
   "source": [
    "## Experiment Three\n",
    "### Predict a user's rating for a movie based on the average rating other users have given that movie \n",
    "\n",
    "\n",
    "![recommand_2-2.png](attachment:recommand_2-2.png)\n"
   ]
  },
  {
   "cell_type": "code",
   "execution_count": 147,
   "metadata": {
    "colab": {
     "base_uri": "https://localhost:8080/"
    },
    "executionInfo": {
     "elapsed": 304406,
     "status": "ok",
     "timestamp": 1620258797450,
     "user": {
      "displayName": "Ankur Patel",
      "photoUrl": "https://lh3.googleusercontent.com/a-/AOh14GjuyT9p2uQcITYiB6Ja4gdHeMPvvVZ_RNUvS_DFuY0=s64",
      "userId": "08322043083056308084"
     },
     "user_tz": 240
    },
    "id": "SGmYoG8jhFnG",
    "outputId": "ed79ede7-ff14-4e76-9966-9032977e3444"
   },
   "outputs": [
    {
     "name": "stdout",
     "output_type": "stream",
     "text": [
      "Mean squared error using movie average: 0.914\n"
     ]
    }
   ],
   "source": [
    "ratings_valid_pred = np.zeros((n_users, n_movies)).T\n",
    "i = 0\n",
    "for row in ratings_train.T:\n",
    "    ratings_valid_pred[i][ratings_valid_pred[i]==0] = np.mean(row[row>0])\n",
    "    i += 1\n",
    "\n",
    "ratings_valid_pred = ratings_valid_pred.T\n",
    "pred_valid = ratings_valid_pred[ratings_valid.nonzero()].flatten()\n",
    "movie_average = mean_squared_error(pred_valid, actual_valid)\n",
    "print(f'Mean squared error using movie average: {round(movie_average,3)}')"
   ]
  },
  {
   "cell_type": "markdown",
   "metadata": {
    "id": "3aO33rYMhFnK"
   },
   "source": [
    "# Matrix Factorization "
   ]
  },
  {
   "cell_type": "markdown",
   "metadata": {
    "id": "KjFU36m6hFnL"
   },
   "source": [
    "## Experiment Four - Recommender System using Matrix Factorization\n",
    "### One Latent Factor"
   ]
  },
  {
   "cell_type": "code",
   "execution_count": 29,
   "metadata": {
    "executionInfo": {
     "elapsed": 304774,
     "status": "ok",
     "timestamp": 1620258797818,
     "user": {
      "displayName": "Ankur Patel",
      "photoUrl": "https://lh3.googleusercontent.com/a-/AOh14GjuyT9p2uQcITYiB6Ja4gdHeMPvvVZ_RNUvS_DFuY0=s64",
      "userId": "08322043083056308084"
     },
     "user_tz": 240
    },
    "id": "qgGbVkIahFnN"
   },
   "outputs": [],
   "source": [
    "n_latent_factors = 1\n",
    "\n",
    "user_input = Input(shape=[1], name='user')\n",
    "user_embedding = Embedding(input_dim=n_users + 1, \n",
    "                           output_dim=n_latent_factors, \n",
    "                           name='user_embedding')(user_input)\n",
    "user_vec = Flatten(name='flatten_users')(user_embedding)\n",
    "\n",
    "movie_input = Input(shape=[1], name='movie')\n",
    "movie_embedding = Embedding(input_dim=n_movies + 1, \n",
    "                            output_dim=n_latent_factors,\n",
    "                            name='movie_embedding')(movie_input)\n",
    "movie_vec = Flatten(name='flatten_movies')(movie_embedding)\n",
    "\n",
    "product = dot([movie_vec, user_vec], axes=1)\n",
    "model = Model(inputs=[user_input, movie_input], outputs=product)\n",
    "model.compile('adam', 'mean_squared_error')"
   ]
  },
  {
   "cell_type": "code",
   "execution_count": 30,
   "metadata": {
    "colab": {
     "base_uri": "https://localhost:8080/"
    },
    "executionInfo": {
     "elapsed": 855350,
     "status": "ok",
     "timestamp": 1620259348395,
     "user": {
      "displayName": "Ankur Patel",
      "photoUrl": "https://lh3.googleusercontent.com/a-/AOh14GjuyT9p2uQcITYiB6Ja4gdHeMPvvVZ_RNUvS_DFuY0=s64",
      "userId": "08322043083056308084"
     },
     "user_tz": 240
    },
    "id": "TMDiVUOXhFnN",
    "outputId": "37012ece-5f87-4602-8c05-584133512d3e"
   },
   "outputs": [
    {
     "name": "stdout",
     "output_type": "stream",
     "text": [
      "Epoch 1/100\n",
      "2538/2538 [==============================] - 14s 5ms/step - loss: 13.9934 - val_loss: 11.5405\n",
      "Epoch 2/100\n",
      "2538/2538 [==============================] - 11s 4ms/step - loss: 10.1563 - val_loss: 6.3019\n",
      "Epoch 3/100\n",
      "2538/2538 [==============================] - 11s 4ms/step - loss: 5.2883 - val_loss: 3.2721\n",
      "Epoch 4/100\n",
      "2538/2538 [==============================] - 11s 4ms/step - loss: 2.8135 - val_loss: 2.0300\n",
      "Epoch 5/100\n",
      "2538/2538 [==============================] - 11s 4ms/step - loss: 1.7795 - val_loss: 1.4352\n",
      "Epoch 6/100\n",
      "2538/2538 [==============================] - 11s 4ms/step - loss: 1.2735 - val_loss: 1.1348\n",
      "Epoch 7/100\n",
      "2538/2538 [==============================] - 11s 4ms/step - loss: 1.0074 - val_loss: 0.9787\n",
      "Epoch 8/100\n",
      "2538/2538 [==============================] - 11s 4ms/step - loss: 0.8723 - val_loss: 0.8945\n",
      "Epoch 9/100\n",
      "2538/2538 [==============================] - 11s 4ms/step - loss: 0.8069 - val_loss: 0.8489\n",
      "Epoch 10/100\n",
      "2538/2538 [==============================] - 11s 4ms/step - loss: 0.7700 - val_loss: 0.8258\n",
      "Epoch 11/100\n",
      "2538/2538 [==============================] - 11s 4ms/step - loss: 0.7433 - val_loss: 0.8135\n",
      "Epoch 12/100\n",
      "2538/2538 [==============================] - 11s 4ms/step - loss: 0.7364 - val_loss: 0.8058\n",
      "Epoch 13/100\n",
      "2538/2538 [==============================] - 11s 4ms/step - loss: 0.7283 - val_loss: 0.8028\n",
      "Epoch 14/100\n",
      "2538/2538 [==============================] - 11s 4ms/step - loss: 0.7334 - val_loss: 0.8028\n",
      "Epoch 15/100\n",
      "2538/2538 [==============================] - 11s 4ms/step - loss: 0.7198 - val_loss: 0.8006\n",
      "Epoch 16/100\n",
      "2538/2538 [==============================] - 11s 4ms/step - loss: 0.7263 - val_loss: 0.7992\n",
      "Epoch 17/100\n",
      "2538/2538 [==============================] - 11s 4ms/step - loss: 0.7221 - val_loss: 0.7983\n",
      "Epoch 18/100\n",
      "2538/2538 [==============================] - 11s 4ms/step - loss: 0.7215 - val_loss: 0.7999\n",
      "Epoch 19/100\n",
      "2538/2538 [==============================] - 11s 4ms/step - loss: 0.7335 - val_loss: 0.7996\n",
      "Epoch 20/100\n",
      "2538/2538 [==============================] - 11s 4ms/step - loss: 0.7260 - val_loss: 0.7987\n",
      "Epoch 21/100\n",
      "2538/2538 [==============================] - 11s 4ms/step - loss: 0.7204 - val_loss: 0.7975\n",
      "Epoch 22/100\n",
      "2538/2538 [==============================] - 11s 4ms/step - loss: 0.7218 - val_loss: 0.7974\n",
      "Epoch 23/100\n",
      "2538/2538 [==============================] - 11s 4ms/step - loss: 0.7176 - val_loss: 0.7990\n",
      "Epoch 24/100\n",
      "2538/2538 [==============================] - 11s 5ms/step - loss: 0.7218 - val_loss: 0.8008\n",
      "Epoch 25/100\n",
      "2538/2538 [==============================] - 11s 4ms/step - loss: 0.7205 - val_loss: 0.7978\n",
      "Epoch 26/100\n",
      "2538/2538 [==============================] - 11s 4ms/step - loss: 0.7253 - val_loss: 0.7985\n",
      "Epoch 27/100\n",
      "2538/2538 [==============================] - 11s 4ms/step - loss: 0.7239 - val_loss: 0.7975\n",
      "Epoch 28/100\n",
      "2538/2538 [==============================] - 11s 4ms/step - loss: 0.7278 - val_loss: 0.7982\n",
      "Epoch 29/100\n",
      "2538/2538 [==============================] - 11s 4ms/step - loss: 0.7205 - val_loss: 0.7976\n",
      "Epoch 30/100\n",
      "2538/2538 [==============================] - 11s 4ms/step - loss: 0.7140 - val_loss: 0.7978\n",
      "Epoch 31/100\n",
      "2538/2538 [==============================] - 11s 4ms/step - loss: 0.7184 - val_loss: 0.7990\n",
      "Epoch 32/100\n",
      "2538/2538 [==============================] - 11s 4ms/step - loss: 0.7244 - val_loss: 0.7985\n",
      "Epoch 33/100\n",
      "2538/2538 [==============================] - 11s 4ms/step - loss: 0.7248 - val_loss: 0.7984\n",
      "Epoch 34/100\n",
      "2538/2538 [==============================] - 11s 4ms/step - loss: 0.7229 - val_loss: 0.7986\n",
      "Epoch 35/100\n",
      "2538/2538 [==============================] - 11s 4ms/step - loss: 0.7175 - val_loss: 0.7976\n",
      "Epoch 36/100\n",
      "2538/2538 [==============================] - 11s 4ms/step - loss: 0.7282 - val_loss: 0.7988\n",
      "Epoch 37/100\n",
      "2538/2538 [==============================] - 11s 4ms/step - loss: 0.7251 - val_loss: 0.7967\n",
      "Epoch 38/100\n",
      "2538/2538 [==============================] - 11s 4ms/step - loss: 0.7199 - val_loss: 0.7982\n",
      "Epoch 39/100\n",
      "2538/2538 [==============================] - 11s 4ms/step - loss: 0.7262 - val_loss: 0.7970\n",
      "Epoch 40/100\n",
      "2538/2538 [==============================] - 11s 4ms/step - loss: 0.7202 - val_loss: 0.7972\n",
      "Epoch 41/100\n",
      "2538/2538 [==============================] - 11s 4ms/step - loss: 0.7228 - val_loss: 0.7961\n",
      "Epoch 42/100\n",
      "2538/2538 [==============================] - 11s 4ms/step - loss: 0.7172 - val_loss: 0.7984\n",
      "Epoch 43/100\n",
      "2538/2538 [==============================] - 11s 4ms/step - loss: 0.7162 - val_loss: 0.7982\n",
      "Epoch 44/100\n",
      "2538/2538 [==============================] - 11s 4ms/step - loss: 0.7229 - val_loss: 0.7989\n",
      "Epoch 45/100\n",
      "2538/2538 [==============================] - 11s 4ms/step - loss: 0.7146 - val_loss: 0.7972\n",
      "Epoch 46/100\n",
      "2538/2538 [==============================] - 11s 4ms/step - loss: 0.7246 - val_loss: 0.7977\n",
      "Epoch 47/100\n",
      "2538/2538 [==============================] - 11s 4ms/step - loss: 0.7241 - val_loss: 0.7969\n",
      "Epoch 48/100\n",
      "2538/2538 [==============================] - 11s 4ms/step - loss: 0.7237 - val_loss: 0.7981\n",
      "Epoch 49/100\n",
      "2538/2538 [==============================] - 11s 4ms/step - loss: 0.7149 - val_loss: 0.7999\n",
      "Epoch 50/100\n",
      "2538/2538 [==============================] - 11s 4ms/step - loss: 0.7226 - val_loss: 0.7983\n",
      "Epoch 51/100\n",
      "2538/2538 [==============================] - 11s 4ms/step - loss: 0.7336 - val_loss: 0.7991\n",
      "Epoch 52/100\n",
      "2538/2538 [==============================] - 11s 4ms/step - loss: 0.7127 - val_loss: 0.7977\n",
      "Epoch 53/100\n",
      "2538/2538 [==============================] - 11s 4ms/step - loss: 0.7198 - val_loss: 0.7980\n",
      "Epoch 54/100\n",
      "2538/2538 [==============================] - 11s 4ms/step - loss: 0.7294 - val_loss: 0.7989\n",
      "Epoch 55/100\n",
      "2538/2538 [==============================] - 11s 4ms/step - loss: 0.7163 - val_loss: 0.7989\n",
      "Epoch 56/100\n",
      "2538/2538 [==============================] - 11s 4ms/step - loss: 0.7142 - val_loss: 0.7980\n",
      "Epoch 57/100\n",
      "2538/2538 [==============================] - 11s 4ms/step - loss: 0.7259 - val_loss: 0.7985\n",
      "Epoch 58/100\n",
      "2538/2538 [==============================] - 11s 4ms/step - loss: 0.7212 - val_loss: 0.7989\n",
      "Epoch 59/100\n",
      "2538/2538 [==============================] - 11s 4ms/step - loss: 0.7146 - val_loss: 0.7974\n",
      "Epoch 60/100\n",
      "2538/2538 [==============================] - 12s 5ms/step - loss: 0.7176 - val_loss: 0.7971\n",
      "Epoch 61/100\n",
      "2538/2538 [==============================] - 11s 4ms/step - loss: 0.7227 - val_loss: 0.7980\n",
      "Epoch 62/100\n",
      "2538/2538 [==============================] - 11s 4ms/step - loss: 0.7306 - val_loss: 0.7991\n",
      "Epoch 63/100\n",
      "2538/2538 [==============================] - 11s 4ms/step - loss: 0.7203 - val_loss: 0.7995\n",
      "Epoch 64/100\n",
      "2538/2538 [==============================] - 11s 4ms/step - loss: 0.7275 - val_loss: 0.7983\n",
      "Epoch 65/100\n",
      "2538/2538 [==============================] - 11s 4ms/step - loss: 0.7273 - val_loss: 0.7983\n",
      "Epoch 66/100\n",
      "2538/2538 [==============================] - 11s 4ms/step - loss: 0.7293 - val_loss: 0.7980\n",
      "Epoch 67/100\n",
      "2538/2538 [==============================] - 11s 4ms/step - loss: 0.7246 - val_loss: 0.7988\n",
      "Epoch 68/100\n",
      "2538/2538 [==============================] - 11s 4ms/step - loss: 0.7288 - val_loss: 0.7981\n",
      "Epoch 69/100\n",
      "2538/2538 [==============================] - 11s 4ms/step - loss: 0.7281 - val_loss: 0.7975\n",
      "Epoch 70/100\n",
      "2538/2538 [==============================] - 11s 4ms/step - loss: 0.7312 - val_loss: 0.7980\n",
      "Epoch 71/100\n",
      "2538/2538 [==============================] - 11s 4ms/step - loss: 0.7202 - val_loss: 0.7985\n",
      "Epoch 72/100\n",
      "2538/2538 [==============================] - 11s 4ms/step - loss: 0.7225 - val_loss: 0.7975\n",
      "Epoch 73/100\n",
      "2538/2538 [==============================] - 11s 4ms/step - loss: 0.7256 - val_loss: 0.7976\n",
      "Epoch 74/100\n",
      "2538/2538 [==============================] - 11s 4ms/step - loss: 0.7208 - val_loss: 0.7976\n",
      "Epoch 75/100\n",
      "2538/2538 [==============================] - 11s 4ms/step - loss: 0.7191 - val_loss: 0.7945\n",
      "Epoch 76/100\n",
      "2538/2538 [==============================] - 11s 4ms/step - loss: 0.7158 - val_loss: 0.7966\n",
      "Epoch 77/100\n",
      "2538/2538 [==============================] - 11s 4ms/step - loss: 0.7233 - val_loss: 0.7973\n",
      "Epoch 78/100\n",
      "2538/2538 [==============================] - 11s 4ms/step - loss: 0.7305 - val_loss: 0.7985\n",
      "Epoch 79/100\n"
     ]
    },
    {
     "name": "stdout",
     "output_type": "stream",
     "text": [
      "2538/2538 [==============================] - 11s 4ms/step - loss: 0.7243 - val_loss: 0.7970\n",
      "Epoch 80/100\n",
      "2538/2538 [==============================] - 11s 4ms/step - loss: 0.7268 - val_loss: 0.7982\n",
      "Epoch 81/100\n",
      "2538/2538 [==============================] - 11s 4ms/step - loss: 0.7229 - val_loss: 0.7977\n",
      "Epoch 82/100\n",
      "2538/2538 [==============================] - 11s 4ms/step - loss: 0.7199 - val_loss: 0.7983\n",
      "Epoch 83/100\n",
      "2538/2538 [==============================] - 11s 4ms/step - loss: 0.7225 - val_loss: 0.7980\n",
      "Epoch 84/100\n",
      "2538/2538 [==============================] - 11s 4ms/step - loss: 0.7205 - val_loss: 0.7972\n",
      "Epoch 85/100\n",
      "2538/2538 [==============================] - 11s 4ms/step - loss: 0.7290 - val_loss: 0.7983\n",
      "Epoch 86/100\n",
      "2538/2538 [==============================] - 12s 5ms/step - loss: 0.7157 - val_loss: 0.7983\n",
      "Epoch 87/100\n",
      "2538/2538 [==============================] - 11s 5ms/step - loss: 0.7242 - val_loss: 0.7996\n",
      "Epoch 88/100\n",
      "2538/2538 [==============================] - 11s 4ms/step - loss: 0.7215 - val_loss: 0.7989\n",
      "Epoch 89/100\n",
      "2538/2538 [==============================] - 11s 4ms/step - loss: 0.7228 - val_loss: 0.8000\n",
      "Epoch 90/100\n",
      "2538/2538 [==============================] - 11s 4ms/step - loss: 0.7217 - val_loss: 0.7986\n",
      "Epoch 91/100\n",
      "2538/2538 [==============================] - 11s 4ms/step - loss: 0.7194 - val_loss: 0.7985\n",
      "Epoch 92/100\n",
      "2538/2538 [==============================] - 11s 4ms/step - loss: 0.7302 - val_loss: 0.7978\n",
      "Epoch 93/100\n",
      "2538/2538 [==============================] - 11s 4ms/step - loss: 0.7229 - val_loss: 0.7985\n",
      "Epoch 94/100\n",
      "2538/2538 [==============================] - 11s 4ms/step - loss: 0.7165 - val_loss: 0.7990\n",
      "Epoch 95/100\n",
      "2538/2538 [==============================] - 11s 4ms/step - loss: 0.7266 - val_loss: 0.7985\n",
      "Epoch 96/100\n",
      "2538/2538 [==============================] - 11s 4ms/step - loss: 0.7209 - val_loss: 0.7988\n",
      "Epoch 97/100\n",
      "2538/2538 [==============================] - 11s 4ms/step - loss: 0.7237 - val_loss: 0.7989\n",
      "Epoch 98/100\n",
      "2538/2538 [==============================] - 11s 4ms/step - loss: 0.7172 - val_loss: 0.7963\n",
      "Epoch 99/100\n",
      "2538/2538 [==============================] - 11s 4ms/step - loss: 0.7213 - val_loss: 0.7972\n",
      "Epoch 100/100\n",
      "2538/2538 [==============================] - 11s 4ms/step - loss: 0.7260 - val_loss: 0.7986\n"
     ]
    }
   ],
   "source": [
    "history = model.fit(x=[X_train.newUserId, X_train.newMovieId], \n",
    "                    y=X_train.rating, epochs=100, \n",
    "                    validation_data=([X_valid.newUserId, X_valid.newMovieId], X_valid.rating), \n",
    "                    verbose=1)"
   ]
  },
  {
   "cell_type": "code",
   "execution_count": 31,
   "metadata": {
    "colab": {
     "base_uri": "https://localhost:8080/",
     "height": 296
    },
    "executionInfo": {
     "elapsed": 855667,
     "status": "ok",
     "timestamp": 1620259348713,
     "user": {
      "displayName": "Ankur Patel",
      "photoUrl": "https://lh3.googleusercontent.com/a-/AOh14GjuyT9p2uQcITYiB6Ja4gdHeMPvvVZ_RNUvS_DFuY0=s64",
      "userId": "08322043083056308084"
     },
     "user_tz": 240
    },
    "id": "eeqVibo-hFnO",
    "outputId": "c1bb60f4-777b-4663-9079-2ec048f66b2d"
   },
   "outputs": [
    {
     "name": "stdout",
     "output_type": "stream",
     "text": [
      "Minimum MSE: 0.794\n"
     ]
    },
    {
     "data": {
      "image/png": "[encoded data removed]",
      "text/plain": [
       "<Figure size 432x288 with 1 Axes>"
      ]
     },
     "metadata": {
      "needs_background": "light"
     },
     "output_type": "display_data"
    }
   ],
   "source": [
    "pd.Series(history.history['val_loss'][10:]).plot(logy=False)\n",
    "plt.xlabel(\"Epoch\")\n",
    "plt.ylabel(\"Validation Error\")\n",
    "print(f\"Minimum MSE: {round(min(history.history['val_loss']),3)}\")"
   ]
  },
  {
   "cell_type": "markdown",
   "metadata": {
    "id": "j-bd1ObFhFnO"
   },
   "source": [
    "## Experiment Five - Recommender System using Matrix Factorization\n",
    "### Three Latent Factor"
   ]
  },
  {
   "cell_type": "code",
   "execution_count": 32,
   "metadata": {
    "executionInfo": {
     "elapsed": 855667,
     "status": "ok",
     "timestamp": 1620259348714,
     "user": {
      "displayName": "Ankur Patel",
      "photoUrl": "https://lh3.googleusercontent.com/a-/AOh14GjuyT9p2uQcITYiB6Ja4gdHeMPvvVZ_RNUvS_DFuY0=s64",
      "userId": "08322043083056308084"
     },
     "user_tz": 240
    },
    "id": "qNsvBZSihFnO"
   },
   "outputs": [],
   "source": [
    "n_latent_factors = 3\n",
    "\n",
    "user_input = Input(shape=[1], name='user')\n",
    "user_embedding = Embedding(input_dim=n_users + 1, \n",
    "                           output_dim=n_latent_factors, \n",
    "                           embeddings_regularizer=regularizers.l1(10e-7), \n",
    "                           name='user_embedding')(user_input)\n",
    "user_vec = Flatten(name='flatten_users')(user_embedding)\n",
    "\n",
    "movie_input = Input(shape=[1], name='movie')\n",
    "movie_embedding = Embedding(input_dim=n_movies + 1, \n",
    "                            output_dim=n_latent_factors, \n",
    "                            embeddings_regularizer=regularizers.l1(10e-7), \n",
    "                            name='movie_embedding')(movie_input)\n",
    "movie_vec = Flatten(name='flatten_movies')(movie_embedding)\n",
    "\n",
    "product = dot([movie_vec, user_vec], axes=1)\n",
    "model = Model(inputs=[user_input, movie_input], outputs=product)\n",
    "model.compile('adam', 'mean_squared_error')"
   ]
  },
  {
   "cell_type": "code",
   "execution_count": 33,
   "metadata": {
    "colab": {
     "base_uri": "https://localhost:8080/"
    },
    "executionInfo": {
     "elapsed": 1466363,
     "status": "ok",
     "timestamp": 1620259959411,
     "user": {
      "displayName": "Ankur Patel",
      "photoUrl": "https://lh3.googleusercontent.com/a-/AOh14GjuyT9p2uQcITYiB6Ja4gdHeMPvvVZ_RNUvS_DFuY0=s64",
      "userId": "08322043083056308084"
     },
     "user_tz": 240
    },
    "id": "D_e6Z-VshFnO",
    "outputId": "3ff8d15c-5e99-4617-dd80-8f219beb3d85"
   },
   "outputs": [
    {
     "name": "stdout",
     "output_type": "stream",
     "text": [
      "Epoch 1/100\n",
      "2538/2538 [==============================] - 14s 5ms/step - loss: 13.5801 - val_loss: 7.5189\n",
      "Epoch 2/100\n",
      "2538/2538 [==============================] - 14s 5ms/step - loss: 5.6151 - val_loss: 2.4933\n",
      "Epoch 3/100\n",
      "2538/2538 [==============================] - 14s 5ms/step - loss: 2.0465 - val_loss: 1.3535\n",
      "Epoch 4/100\n",
      "2538/2538 [==============================] - 13s 5ms/step - loss: 1.1592 - val_loss: 0.9971\n",
      "Epoch 5/100\n",
      "2538/2538 [==============================] - 14s 5ms/step - loss: 0.8827 - val_loss: 0.8752\n",
      "Epoch 6/100\n",
      "2538/2538 [==============================] - 14s 6ms/step - loss: 0.7903 - val_loss: 0.8313\n",
      "Epoch 7/100\n",
      "2538/2538 [==============================] - 14s 6ms/step - loss: 0.7594 - val_loss: 0.8169\n",
      "Epoch 8/100\n",
      "2538/2538 [==============================] - 14s 6ms/step - loss: 0.7465 - val_loss: 0.8108\n",
      "Epoch 9/100\n",
      "2538/2538 [==============================] - 14s 5ms/step - loss: 0.7445 - val_loss: 0.8053\n",
      "Epoch 10/100\n",
      "2538/2538 [==============================] - 14s 5ms/step - loss: 0.7419 - val_loss: 0.8062\n",
      "Epoch 11/100\n",
      "2538/2538 [==============================] - 14s 5ms/step - loss: 0.7336 - val_loss: 0.8067\n",
      "Epoch 12/100\n",
      "2538/2538 [==============================] - 14s 5ms/step - loss: 0.7350 - val_loss: 0.8045\n",
      "Epoch 13/100\n",
      "2538/2538 [==============================] - 13s 5ms/step - loss: 0.7339 - val_loss: 0.8064\n",
      "Epoch 14/100\n",
      "2538/2538 [==============================] - 13s 5ms/step - loss: 0.7410 - val_loss: 0.8097\n",
      "Epoch 15/100\n",
      "2538/2538 [==============================] - 13s 5ms/step - loss: 0.7292 - val_loss: 0.8077\n",
      "Epoch 16/100\n",
      "2538/2538 [==============================] - 14s 5ms/step - loss: 0.7375 - val_loss: 0.8057\n",
      "Epoch 17/100\n",
      "2538/2538 [==============================] - 14s 5ms/step - loss: 0.7337 - val_loss: 0.8063\n",
      "Epoch 18/100\n",
      "2538/2538 [==============================] - 15s 6ms/step - loss: 0.7329 - val_loss: 0.8092\n",
      "Epoch 19/100\n",
      "2538/2538 [==============================] - 13s 5ms/step - loss: 0.7451 - val_loss: 0.8089\n",
      "Epoch 20/100\n",
      "2538/2538 [==============================] - 13s 5ms/step - loss: 0.7380 - val_loss: 0.8070\n",
      "Epoch 21/100\n",
      "2538/2538 [==============================] - 13s 5ms/step - loss: 0.7320 - val_loss: 0.8046\n",
      "Epoch 22/100\n",
      "2538/2538 [==============================] - 13s 5ms/step - loss: 0.7333 - val_loss: 0.8045\n",
      "Epoch 23/100\n",
      "2538/2538 [==============================] - 13s 5ms/step - loss: 0.7288 - val_loss: 0.8077\n",
      "Epoch 24/100\n",
      "2538/2538 [==============================] - 13s 5ms/step - loss: 0.7325 - val_loss: 0.8106\n",
      "Epoch 25/100\n",
      "2538/2538 [==============================] - 13s 5ms/step - loss: 0.7310 - val_loss: 0.8042\n",
      "Epoch 26/100\n",
      "2538/2538 [==============================] - 13s 5ms/step - loss: 0.7353 - val_loss: 0.8061\n",
      "Epoch 27/100\n",
      "2538/2538 [==============================] - 13s 5ms/step - loss: 0.7335 - val_loss: 0.8039\n",
      "Epoch 28/100\n",
      "2538/2538 [==============================] - 13s 5ms/step - loss: 0.7364 - val_loss: 0.8058\n",
      "Epoch 29/100\n",
      "2538/2538 [==============================] - 13s 5ms/step - loss: 0.7279 - val_loss: 0.8034\n",
      "Epoch 30/100\n",
      "2538/2538 [==============================] - 13s 5ms/step - loss: 0.7208 - val_loss: 0.8041\n",
      "Epoch 31/100\n",
      "2538/2538 [==============================] - 13s 5ms/step - loss: 0.7241 - val_loss: 0.8056\n",
      "Epoch 32/100\n",
      "2538/2538 [==============================] - 13s 5ms/step - loss: 0.7283 - val_loss: 0.8036\n",
      "Epoch 33/100\n",
      "2538/2538 [==============================] - 13s 5ms/step - loss: 0.7270 - val_loss: 0.8026\n",
      "Epoch 34/100\n",
      "2538/2538 [==============================] - 13s 5ms/step - loss: 0.7224 - val_loss: 0.8023\n",
      "Epoch 35/100\n",
      "2538/2538 [==============================] - 13s 5ms/step - loss: 0.7146 - val_loss: 0.7983\n",
      "Epoch 36/100\n",
      "2538/2538 [==============================] - 13s 5ms/step - loss: 0.7226 - val_loss: 0.7997\n",
      "Epoch 37/100\n",
      "2538/2538 [==============================] - 14s 5ms/step - loss: 0.7157 - val_loss: 0.7942\n",
      "Epoch 38/100\n",
      "2538/2538 [==============================] - 13s 5ms/step - loss: 0.7065 - val_loss: 0.7956\n",
      "Epoch 39/100\n",
      "2538/2538 [==============================] - 13s 5ms/step - loss: 0.7091 - val_loss: 0.7917\n",
      "Epoch 40/100\n",
      "2538/2538 [==============================] - 14s 5ms/step - loss: 0.6993 - val_loss: 0.7905\n",
      "Epoch 41/100\n",
      "2538/2538 [==============================] - 13s 5ms/step - loss: 0.6957 - val_loss: 0.7873\n",
      "Epoch 42/100\n",
      "2538/2538 [==============================] - 14s 5ms/step - loss: 0.6848 - val_loss: 0.7899\n",
      "Epoch 43/100\n",
      "2538/2538 [==============================] - 14s 5ms/step - loss: 0.6791 - val_loss: 0.7873\n",
      "Epoch 44/100\n",
      "2538/2538 [==============================] - 14s 6ms/step - loss: 0.6814 - val_loss: 0.7873\n",
      "Epoch 45/100\n",
      "2538/2538 [==============================] - 14s 5ms/step - loss: 0.6693 - val_loss: 0.7837\n",
      "Epoch 46/100\n",
      "2538/2538 [==============================] - 14s 5ms/step - loss: 0.6736 - val_loss: 0.7844\n",
      "Epoch 47/100\n",
      "2538/2538 [==============================] - 14s 5ms/step - loss: 0.6702 - val_loss: 0.7815\n",
      "Epoch 48/100\n",
      "2538/2538 [==============================] - 13s 5ms/step - loss: 0.6668 - val_loss: 0.7841\n",
      "Epoch 49/100\n",
      "2538/2538 [==============================] - 13s 5ms/step - loss: 0.6544 - val_loss: 0.7871\n",
      "Epoch 50/100\n",
      "2538/2538 [==============================] - 14s 5ms/step - loss: 0.6610 - val_loss: 0.7836\n",
      "Epoch 51/100\n",
      "2538/2538 [==============================] - 13s 5ms/step - loss: 0.6634 - val_loss: 0.7849\n",
      "Epoch 52/100\n",
      "2538/2538 [==============================] - 14s 5ms/step - loss: 0.6453 - val_loss: 0.7821\n",
      "Epoch 53/100\n",
      "2538/2538 [==============================] - 14s 5ms/step - loss: 0.6467 - val_loss: 0.7831\n",
      "Epoch 54/100\n",
      "2538/2538 [==============================] - 14s 5ms/step - loss: 0.6565 - val_loss: 0.7844\n",
      "Epoch 55/100\n",
      "2538/2538 [==============================] - 14s 5ms/step - loss: 0.6448 - val_loss: 0.7844\n",
      "Epoch 56/100\n",
      "2538/2538 [==============================] - 14s 5ms/step - loss: 0.6361 - val_loss: 0.7826\n",
      "Epoch 57/100\n",
      "2538/2538 [==============================] - 14s 5ms/step - loss: 0.6454 - val_loss: 0.7841\n",
      "Epoch 58/100\n",
      "2538/2538 [==============================] - 14s 5ms/step - loss: 0.6400 - val_loss: 0.7842\n",
      "Epoch 59/100\n",
      "2538/2538 [==============================] - 13s 5ms/step - loss: 0.6274 - val_loss: 0.7821\n",
      "Epoch 60/100\n",
      "2538/2538 [==============================] - 14s 5ms/step - loss: 0.6340 - val_loss: 0.7816\n",
      "Epoch 61/100\n",
      "2538/2538 [==============================] - 13s 5ms/step - loss: 0.6358 - val_loss: 0.7843\n",
      "Epoch 62/100\n",
      "2538/2538 [==============================] - 13s 5ms/step - loss: 0.6391 - val_loss: 0.7841\n",
      "Epoch 63/100\n",
      "2538/2538 [==============================] - 13s 5ms/step - loss: 0.6321 - val_loss: 0.7862\n",
      "Epoch 64/100\n",
      "2538/2538 [==============================] - 14s 5ms/step - loss: 0.6356 - val_loss: 0.7830\n",
      "Epoch 65/100\n",
      "2538/2538 [==============================] - 13s 5ms/step - loss: 0.6359 - val_loss: 0.7839\n",
      "Epoch 66/100\n",
      "2538/2538 [==============================] - 13s 5ms/step - loss: 0.6335 - val_loss: 0.7832\n",
      "Epoch 67/100\n",
      "2538/2538 [==============================] - 13s 5ms/step - loss: 0.6330 - val_loss: 0.7838\n",
      "Epoch 68/100\n",
      "2538/2538 [==============================] - 13s 5ms/step - loss: 0.6328 - val_loss: 0.7822\n",
      "Epoch 69/100\n",
      "2538/2538 [==============================] - 13s 5ms/step - loss: 0.6301 - val_loss: 0.7835\n",
      "Epoch 70/100\n",
      "2538/2538 [==============================] - 14s 5ms/step - loss: 0.6340 - val_loss: 0.7825\n",
      "Epoch 71/100\n",
      "2538/2538 [==============================] - 14s 6ms/step - loss: 0.6229 - val_loss: 0.7833\n",
      "Epoch 72/100\n",
      "2538/2538 [==============================] - 14s 5ms/step - loss: 0.6264 - val_loss: 0.7816\n",
      "Epoch 73/100\n",
      "2538/2538 [==============================] - 14s 5ms/step - loss: 0.6283 - val_loss: 0.7832\n",
      "Epoch 74/100\n",
      "2538/2538 [==============================] - 14s 5ms/step - loss: 0.6215 - val_loss: 0.7821\n",
      "Epoch 75/100\n",
      "2538/2538 [==============================] - 14s 5ms/step - loss: 0.6215 - val_loss: 0.7769\n",
      "Epoch 76/100\n",
      "2538/2538 [==============================] - 14s 5ms/step - loss: 0.6192 - val_loss: 0.7827\n",
      "Epoch 77/100\n",
      "2538/2538 [==============================] - 13s 5ms/step - loss: 0.6246 - val_loss: 0.7834\n",
      "Epoch 78/100\n",
      "2538/2538 [==============================] - 14s 5ms/step - loss: 0.6262 - val_loss: 0.7849\n",
      "Epoch 79/100\n"
     ]
    },
    {
     "name": "stdout",
     "output_type": "stream",
     "text": [
      "2538/2538 [==============================] - 14s 5ms/step - loss: 0.6231 - val_loss: 0.7819\n",
      "Epoch 80/100\n",
      "2538/2538 [==============================] - 13s 5ms/step - loss: 0.6244 - val_loss: 0.7832\n",
      "Epoch 81/100\n",
      "2538/2538 [==============================] - 14s 5ms/step - loss: 0.6216 - val_loss: 0.7814\n",
      "Epoch 82/100\n",
      "2538/2538 [==============================] - 14s 5ms/step - loss: 0.6171 - val_loss: 0.7832\n",
      "Epoch 83/100\n",
      "2538/2538 [==============================] - 13s 5ms/step - loss: 0.6180 - val_loss: 0.7817\n",
      "Epoch 84/100\n",
      "2538/2538 [==============================] - 13s 5ms/step - loss: 0.6185 - val_loss: 0.7806\n",
      "Epoch 85/100\n",
      "2538/2538 [==============================] - 14s 5ms/step - loss: 0.6229 - val_loss: 0.7820\n",
      "Epoch 86/100\n",
      "2538/2538 [==============================] - 14s 5ms/step - loss: 0.6146 - val_loss: 0.7810\n",
      "Epoch 87/100\n",
      "2538/2538 [==============================] - 13s 5ms/step - loss: 0.6216 - val_loss: 0.7848\n",
      "Epoch 88/100\n",
      "2538/2538 [==============================] - 13s 5ms/step - loss: 0.6163 - val_loss: 0.7837\n",
      "Epoch 89/100\n",
      "2538/2538 [==============================] - 14s 5ms/step - loss: 0.6189 - val_loss: 0.7852\n",
      "Epoch 90/100\n",
      "2538/2538 [==============================] - 13s 5ms/step - loss: 0.6126 - val_loss: 0.7831\n",
      "Epoch 91/100\n",
      "2538/2538 [==============================] - 13s 5ms/step - loss: 0.6179 - val_loss: 0.7823\n",
      "Epoch 92/100\n",
      "2538/2538 [==============================] - 13s 5ms/step - loss: 0.6241 - val_loss: 0.7805\n",
      "Epoch 93/100\n",
      "2538/2538 [==============================] - 14s 5ms/step - loss: 0.6175 - val_loss: 0.7824\n",
      "Epoch 94/100\n",
      "2538/2538 [==============================] - 14s 5ms/step - loss: 0.6155 - val_loss: 0.7831\n",
      "Epoch 95/100\n",
      "2538/2538 [==============================] - 13s 5ms/step - loss: 0.6163 - val_loss: 0.7828\n",
      "Epoch 96/100\n",
      "2538/2538 [==============================] - 13s 5ms/step - loss: 0.6155 - val_loss: 0.7840\n",
      "Epoch 97/100\n",
      "2538/2538 [==============================] - 14s 5ms/step - loss: 0.6166 - val_loss: 0.7833\n",
      "Epoch 98/100\n",
      "2538/2538 [==============================] - 14s 5ms/step - loss: 0.6111 - val_loss: 0.7789\n",
      "Epoch 99/100\n",
      "2538/2538 [==============================] - 13s 5ms/step - loss: 0.6133 - val_loss: 0.7809\n",
      "Epoch 100/100\n",
      "2538/2538 [==============================] - 13s 5ms/step - loss: 0.6187 - val_loss: 0.7840\n"
     ]
    }
   ],
   "source": [
    "history = model.fit(x=[X_train.newUserId, X_train.newMovieId], \n",
    "                    y=X_train.rating, epochs=100, \n",
    "                    validation_data=([X_valid.newUserId, X_valid.newMovieId], X_valid.rating), \n",
    "                    verbose=1)"
   ]
  },
  {
   "cell_type": "code",
   "execution_count": 34,
   "metadata": {
    "colab": {
     "base_uri": "https://localhost:8080/",
     "height": 296
    },
    "executionInfo": {
     "elapsed": 1466610,
     "status": "ok",
     "timestamp": 1620259959659,
     "user": {
      "displayName": "Ankur Patel",
      "photoUrl": "https://lh3.googleusercontent.com/a-/AOh14GjuyT9p2uQcITYiB6Ja4gdHeMPvvVZ_RNUvS_DFuY0=s64",
      "userId": "08322043083056308084"
     },
     "user_tz": 240
    },
    "id": "c45xmHv9hFnP",
    "outputId": "6d00db1e-8e29-4d47-c91c-a44db10b31d2"
   },
   "outputs": [
    {
     "name": "stdout",
     "output_type": "stream",
     "text": [
      "Minimum MSE: 0.777\n"
     ]
    },
    {
     "data": {
      "image/png": "[encoded data removed]",
      "text/plain": [
       "<Figure size 432x288 with 1 Axes>"
      ]
     },
     "metadata": {
      "needs_background": "light"
     },
     "output_type": "display_data"
    }
   ],
   "source": [
    "pd.Series(history.history['val_loss'][10:]).plot(logy=False)\n",
    "plt.xlabel(\"Epoch\")\n",
    "plt.ylabel(\"Validation Error\")\n",
    "print(f\"Minimum MSE: {round(min(history.history['val_loss']),3)}\")"
   ]
  },
  {
   "cell_type": "markdown",
   "metadata": {
    "id": "DmGvjjf3hFnT"
   },
   "source": [
    "# Conclusion"
   ]
  },
  {
   "cell_type": "code",
   "execution_count": null,
   "metadata": {
    "colab": {
     "base_uri": "https://localhost:8080/"
    },
    "executionInfo": {
     "elapsed": 2131933,
     "status": "ok",
     "timestamp": 1620260624993,
     "user": {
      "displayName": "Ankur Patel",
      "photoUrl": "https://lh3.googleusercontent.com/a-/AOh14GjuyT9p2uQcITYiB6Ja4gdHeMPvvVZ_RNUvS_DFuY0=s64",
      "userId": "08322043083056308084"
     },
     "user_tz": 240
    },
    "id": "-VdfoVM8hmwP",
    "outputId": "eb12f550-a0a8-4c19-e361-6224b0b4f985"
   },
   "outputs": [],
   "source": [
    "import datetime as dt\n",
    "print(\"Completed: \", dt.datetime.now())"
   ]
  }
 ],
 "metadata": {
  "accelerator": "GPU",
  "colab": {
   "collapsed_sections": [],
   "machine_shape": "hm",
   "name": "10_rbms.ipynb",
   "provenance": []
  },
  "kernelspec": {
   "display_name": "Python 3",
   "language": "python",
   "name": "python3"
  },
  "language_info": {
   "codemirror_mode": {
    "name": "ipython",
    "version": 3
   },
   "file_extension": ".py",
   "mimetype": "text/x-python",
   "name": "python",
   "nbconvert_exporter": "python",
   "pygments_lexer": "ipython3",
   "version": "3.8.5"
  },
  "toc": {
   "base_numbering": 1,
   "nav_menu": {},
   "number_sections": false,
   "sideBar": true,
   "skip_h1_title": false,
   "title_cell": "Table of Contents",
   "title_sidebar": "Contents",
   "toc_cell": false,
   "toc_position": {},
   "toc_section_display": true,
   "toc_window_display": false
  }
 },
 "nbformat": 4,
 "nbformat_minor": 1
}
